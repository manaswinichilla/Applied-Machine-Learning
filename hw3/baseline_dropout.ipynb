{
 "cells": [
  {
   "cell_type": "code",
   "execution_count": 19,
   "metadata": {
    "id": "FH-SWo86zjd7"
   },
   "outputs": [],
   "source": [
    "import torch\n",
    "import torch.nn as nn\n",
    "from torch.utils.data import DataLoader\n",
    "import torchvision.transforms as transforms\n",
    "import torchvision.datasets as data_sets\n",
    "from torch.utils.data import random_split\n",
    "from torchvision.utils import make_grid\n",
    "import torch.nn.functional as F\n",
    "from torch.autograd import Variable\n",
    "from torch.optim.lr_scheduler import StepLR\n",
    "\n",
    "from bokeh.plotting import figure\n",
    "from bokeh.io import show\n",
    "from bokeh.models import LinearAxis, Range1d\n",
    "import numpy as np\n",
    "\n",
    "import sklearn.metrics as sk\n",
    "\n",
    "import matplotlib\n",
    "import matplotlib.pyplot as plt\n",
    "\n",
    "import warnings\n",
    "warnings.filterwarnings('ignore')"
   ]
  },
  {
   "cell_type": "code",
   "execution_count": 2,
   "metadata": {
    "colab": {
     "base_uri": "https://localhost:8080/",
     "height": 791,
     "referenced_widgets": [
      "162ee42d6a704d5f98323035e7c289e0",
      "242920fc3c3244f7a70082033566cb35",
      "019e0385d84e4fbfbb9ce1ad75d62461",
      "30a49978a9274b35926cd9cc022de109",
      "11d315a6489e49748d578a8d18664a8a",
      "d464f38dc27d4d449e293ce657bf8b59",
      "17f5dc05d0944914b455e6a6ece60701",
      "d7d046b4430a4a65a571b1250c983a0f",
      "9a4b561a219b4f4dbcb0029a3dd1d898",
      "cd99156109274242b5893441f96b1ede",
      "2b4a0139c60e4e9fbb8062f6291c122e",
      "6c9477445df640e094dac5b7bcc4188d",
      "175b7a6f9811487183c34c7e87777d55",
      "d7e0116044ec42c7aab0849efa03efc1",
      "2953f67b3a58498bb20b1e036a7cec37",
      "3761fad5397c4f3f99c63f926cdb2fb1",
      "8a71ae50026b432583cbd8c5a1cf36f3",
      "c956d60530fe44448beef35af4c527da",
      "daa757366bfa43b2b38de4ff0cebcf72",
      "3827baf87f3d436a92ec4ae2e2d8c148",
      "8a03b6f56bd4468485db852ff12b9390",
      "37c29eed0b334e7395984ab166cbbf41",
      "9245f77e5084423aadc58b839b75822e",
      "1303513a54c24fa3ad76f6deb6781c86",
      "7b5bba227ca343c891f3ff33d98c7df3",
      "14e42956ea414c719f3a37372b17de76",
      "714f0535ea6c44568ba46b4464d01494",
      "db70812bc65a4fe3a639710ed36a0713",
      "dc302a0778ae42dd835d01c74995d624",
      "c98cb67a628e4a199cfcfdc56cdf9a30",
      "dc2aee6ca4fb437da126ab28fa301668",
      "a5bbf91aa2dc44cba20531d2e9c38951"
     ]
    },
    "id": "70wkyDUJMGEp",
    "outputId": "e218f1e1-0a0b-4437-b0d5-0ef8f97a751b"
   },
   "outputs": [
    {
     "name": "stdout",
     "output_type": "stream",
     "text": [
      "Downloading http://yann.lecun.com/exdb/mnist/train-images-idx3-ubyte.gz\n",
      "Failed to download (trying next):\n",
      "HTTP Error 503: Service Unavailable\n",
      "\n",
      "Downloading https://ossci-datasets.s3.amazonaws.com/mnist/train-images-idx3-ubyte.gz\n",
      "Downloading https://ossci-datasets.s3.amazonaws.com/mnist/train-images-idx3-ubyte.gz to mnist/MNIST/raw/train-images-idx3-ubyte.gz\n"
     ]
    },
    {
     "data": {
      "application/vnd.jupyter.widget-view+json": {
       "model_id": "162ee42d6a704d5f98323035e7c289e0",
       "version_major": 2,
       "version_minor": 0
      },
      "text/plain": [
       "HBox(children=(FloatProgress(value=0.0, max=9912422.0), HTML(value='')))"
      ]
     },
     "metadata": {
      "tags": []
     },
     "output_type": "display_data"
    },
    {
     "name": "stdout",
     "output_type": "stream",
     "text": [
      "\n",
      "Extracting mnist/MNIST/raw/train-images-idx3-ubyte.gz to mnist/MNIST/raw\n",
      "\n",
      "Downloading http://yann.lecun.com/exdb/mnist/train-labels-idx1-ubyte.gz\n",
      "Failed to download (trying next):\n",
      "HTTP Error 503: Service Unavailable\n",
      "\n",
      "Downloading https://ossci-datasets.s3.amazonaws.com/mnist/train-labels-idx1-ubyte.gz\n",
      "Downloading https://ossci-datasets.s3.amazonaws.com/mnist/train-labels-idx1-ubyte.gz to mnist/MNIST/raw/train-labels-idx1-ubyte.gz\n"
     ]
    },
    {
     "data": {
      "application/vnd.jupyter.widget-view+json": {
       "model_id": "9a4b561a219b4f4dbcb0029a3dd1d898",
       "version_major": 2,
       "version_minor": 0
      },
      "text/plain": [
       "HBox(children=(FloatProgress(value=0.0, max=28881.0), HTML(value='')))"
      ]
     },
     "metadata": {
      "tags": []
     },
     "output_type": "display_data"
    },
    {
     "name": "stdout",
     "output_type": "stream",
     "text": [
      "\n",
      "Extracting mnist/MNIST/raw/train-labels-idx1-ubyte.gz to mnist/MNIST/raw\n",
      "\n",
      "Downloading http://yann.lecun.com/exdb/mnist/t10k-images-idx3-ubyte.gz\n",
      "Failed to download (trying next):\n",
      "HTTP Error 503: Service Unavailable\n",
      "\n",
      "Downloading https://ossci-datasets.s3.amazonaws.com/mnist/t10k-images-idx3-ubyte.gz\n",
      "Downloading https://ossci-datasets.s3.amazonaws.com/mnist/t10k-images-idx3-ubyte.gz to mnist/MNIST/raw/t10k-images-idx3-ubyte.gz\n"
     ]
    },
    {
     "data": {
      "application/vnd.jupyter.widget-view+json": {
       "model_id": "8a71ae50026b432583cbd8c5a1cf36f3",
       "version_major": 2,
       "version_minor": 0
      },
      "text/plain": [
       "HBox(children=(FloatProgress(value=0.0, max=1648877.0), HTML(value='')))"
      ]
     },
     "metadata": {
      "tags": []
     },
     "output_type": "display_data"
    },
    {
     "name": "stdout",
     "output_type": "stream",
     "text": [
      "\n",
      "Extracting mnist/MNIST/raw/t10k-images-idx3-ubyte.gz to mnist/MNIST/raw\n",
      "\n",
      "Downloading http://yann.lecun.com/exdb/mnist/t10k-labels-idx1-ubyte.gz\n",
      "Failed to download (trying next):\n",
      "HTTP Error 503: Service Unavailable\n",
      "\n",
      "Downloading https://ossci-datasets.s3.amazonaws.com/mnist/t10k-labels-idx1-ubyte.gz\n",
      "Downloading https://ossci-datasets.s3.amazonaws.com/mnist/t10k-labels-idx1-ubyte.gz to mnist/MNIST/raw/t10k-labels-idx1-ubyte.gz\n"
     ]
    },
    {
     "data": {
      "application/vnd.jupyter.widget-view+json": {
       "model_id": "7b5bba227ca343c891f3ff33d98c7df3",
       "version_major": 2,
       "version_minor": 0
      },
      "text/plain": [
       "HBox(children=(FloatProgress(value=0.0, max=4542.0), HTML(value='')))"
      ]
     },
     "metadata": {
      "tags": []
     },
     "output_type": "display_data"
    },
    {
     "name": "stdout",
     "output_type": "stream",
     "text": [
      "\n",
      "Extracting mnist/MNIST/raw/t10k-labels-idx1-ubyte.gz to mnist/MNIST/raw\n",
      "\n",
      "Processing...\n",
      "Done!\n"
     ]
    }
   ],
   "source": [
    "import torchvision.datasets as data_sets\n",
    "mnist_train_data=data_sets.MNIST('mnist', train=True, download=True, transform=transforms.ToTensor())\n",
    "mnist_test_data=data_sets.MNIST('mnist', train=False, transform=transforms.ToTensor())"
   ]
  },
  {
   "cell_type": "code",
   "execution_count": 3,
   "metadata": {
    "id": "0JZtKQxWMK5w"
   },
   "outputs": [],
   "source": [
    "developement_size=18000\n",
    "mnist_train_data, mnist_developement_set = random_split(mnist_train_data, [len(mnist_train_data) - developement_size, developement_size])"
   ]
  },
  {
   "cell_type": "code",
   "execution_count": 4,
   "metadata": {
    "colab": {
     "base_uri": "https://localhost:8080/"
    },
    "id": "QvHtia7CMPMH",
    "outputId": "7b5c61a7-80a6-44a8-f478-52cce2f615d4"
   },
   "outputs": [
    {
     "name": "stdout",
     "output_type": "stream",
     "text": [
      "Train Dataset : 42000 \n",
      "Validation Dataset: 18000\n"
     ]
    }
   ],
   "source": [
    "print('Train Dataset :', len(mnist_train_data), \"\\nValidation Dataset:\" ,len(mnist_developement_set))"
   ]
  },
  {
   "cell_type": "code",
   "execution_count": 5,
   "metadata": {
    "id": "2yBzyYP0MSWz"
   },
   "outputs": [],
   "source": [
    "batch_size = 128"
   ]
  },
  {
   "cell_type": "code",
   "execution_count": 6,
   "metadata": {
    "id": "hIkiAAm2MWFd"
   },
   "outputs": [],
   "source": [
    "train_data_loader = DataLoader(dataset=mnist_train_data,batch_size= batch_size,num_workers=2,pin_memory=True,shuffle=True)\n",
    "developement_data_loader = DataLoader(dataset = mnist_developement_set,batch_size = batch_size*2,num_workers=2,pin_memory=True)\n",
    "test_data_loader = DataLoader(dataset=mnist_test_data,batch_size= batch_size,num_workers=2,pin_memory=True,shuffle=False)"
   ]
  },
  {
   "cell_type": "code",
   "execution_count": 7,
   "metadata": {
    "colab": {
     "base_uri": "https://localhost:8080/",
     "height": 282
    },
    "id": "pcbnTtuSMbJS",
    "outputId": "68726478-762e-4b3a-afa4-068699ae4037"
   },
   "outputs": [
    {
     "data": {
      "text/plain": [
       "<matplotlib.image.AxesImage at 0x7fcd7fc15850>"
      ]
     },
     "execution_count": 7,
     "metadata": {
      "tags": []
     },
     "output_type": "execute_result"
    },
    {
     "data": {
      "image/png": "[encoded data removed]",
      "text/plain": [
       "<Figure size 432x288 with 1 Axes>"
      ]
     },
     "metadata": {
      "needs_background": "light",
      "tags": []
     },
     "output_type": "display_data"
    }
   ],
   "source": [
    "plt.imshow(mnist_train_data[0][0][0], cmap=\"gray\")"
   ]
  },
  {
   "cell_type": "code",
   "execution_count": 8,
   "metadata": {
    "colab": {
     "base_uri": "https://localhost:8080/",
     "height": 520
    },
    "id": "CmpY3b_PMhc2",
    "outputId": "a3c8a4ce-1acc-44a4-f83c-26c1c8dfeaba"
   },
   "outputs": [
    {
     "name": "stdout",
     "output_type": "stream",
     "text": [
      "Shape of Images: torch.Size([128, 1, 28, 28])\n"
     ]
    },
    {
     "data": {
      "text/plain": [
       "<matplotlib.image.AxesImage at 0x7fcd7eeed6d0>"
      ]
     },
     "execution_count": 8,
     "metadata": {
      "tags": []
     },
     "output_type": "execute_result"
    },
    {
     "data": {
      "image/png": "[encoded data removed]",
      "text/plain": [
       "<Figure size 1152x576 with 1 Axes>"
      ]
     },
     "metadata": {
      "needs_background": "light",
      "tags": []
     },
     "output_type": "display_data"
    }
   ],
   "source": [
    "iterobj = iter(train_data_loader)\n",
    "images, labels = iterobj.next()\n",
    "print('Shape of Images:', images.shape)\n",
    "plt.figure(figsize=(16,8))\n",
    "plt.imshow(make_grid(images, nrow=10).permute((1, 2, 0)))"
   ]
  },
  {
   "cell_type": "markdown",
   "metadata": {
    "id": "m7WIg2oijK3f"
   },
   "source": [
    "while building the model, sending the dropout metric while initialising the instance of the class. dropout implemented after the two convolutional 2D layers"
   ]
  },
  {
   "cell_type": "code",
   "execution_count": 9,
   "metadata": {
    "id": "w6LuPn49SFxS"
   },
   "outputs": [],
   "source": [
    "class CNN_with_Dropout(nn.Module):\n",
    "    def __init__(self, dropout_value):\n",
    "        super(CNN_with_Dropout, self).__init__()         \n",
    "        self.l1 = nn.Sequential(\n",
    "          nn.Conv2d(1, 32, kernel_size=5, stride=1, padding=2),\n",
    "          nn.BatchNorm2d(32),\n",
    "          nn.ReLU(),\n",
    "          nn.MaxPool2d(kernel_size=2, stride=2))\n",
    "        self.l2= nn.Sequential(\n",
    "          nn.Conv2d(32, 64, kernel_size=5, stride=1, padding=2),\n",
    "          nn.BatchNorm2d(64),\n",
    "          nn.ReLU(),\n",
    "          nn.MaxPool2d(kernel_size=2, stride=2))\n",
    "        self.dropout=nn.Dropout(dropout_value)\n",
    "        self.fc1 = nn.Linear(7 * 7 * 64, 1000)\n",
    "        nn.init.xavier_normal_(self.fc1.weight)\n",
    "        \n",
    "        self.fc2 = nn.Linear(1000, 10)\n",
    "        nn.init.xavier_normal_(self.fc2.weight)\n",
    "\n",
    "    def forward(self, batch_data):\n",
    "        batch_data = self.l1(batch_data)\n",
    "        batch_data = self.l2(batch_data)\n",
    "        batch_data = batch_data.reshape(batch_data.size(0), -1)\n",
    "        batch_data = self.dropout(batch_data)\n",
    "        batch_data = self.fc1(batch_data)\n",
    "        batch_data = self.fc2(batch_data)\n",
    "        return batch_data\n",
    "    \n",
    "    def train_each_batch(self, images, labels):\n",
    "        result = self(images)\n",
    "        loss = Loss(result, labels)\n",
    "        return loss\n",
    "\n",
    "    def develope_each_batch(self, images, labels):\n",
    "        # images =  batch[0]\n",
    "        # labels = batch[1]\n",
    "        result = self(images)                   \n",
    "        loss = Loss(result, labels)\n",
    "        acc = accuracy(result, labels)      \n",
    "        return {'loss_at_end_of_batch': loss, 'acc_at_end_of_batch': acc}\n",
    "      \n",
    "    def develope_at_end_of_epoch(self, results):\n",
    "        losses_at_end_of_batch = [x['loss_at_end_of_batch'] for x in results]\n",
    "        loss_at_end_of_epoch = torch.stack(losses_at_end_of_batch).mean()  \n",
    "        accs_at_each_batch = [x['acc_at_end_of_batch'] for x in results]\n",
    "        acc_at_end_of_epoch = torch.stack(accs_at_each_batch).mean() \n",
    "        return {'loss_at_end_of_epoch': loss_at_end_of_epoch.item(), 'acc_at_end_of_epoch': acc_at_end_of_epoch.item()}\n",
    "\n",
    "    def display_metrics_at_end_of_epoch(self, epoch, result):\n",
    "        print(\"acc_at_end_of_epoch: {:.4f}, loss_at_end_of_epoch: {:.4f}\".format(result['acc_at_end_of_epoch'], result['loss_at_end_of_epoch']))"
   ]
  },
  {
   "cell_type": "code",
   "execution_count": 10,
   "metadata": {
    "id": "Wpl0iAyZUQsr"
   },
   "outputs": [],
   "source": [
    "def accuracy(results, labels):\n",
    "    _, predictions = torch.max(results, dim=1)\n",
    "    return torch.tensor(torch.sum(predictions == labels).item() / len(predictions))"
   ]
  },
  {
   "cell_type": "code",
   "execution_count": 11,
   "metadata": {
    "id": "Jlsbj15SUSW5"
   },
   "outputs": [],
   "source": [
    "def develope(network, developement_data_loader):\n",
    "    results = [network.develope_each_batch(images, labels) for j, (images, labels) in enumerate(developement_data_loader)]\n",
    "    return network.develope_at_end_of_epoch(results)"
   ]
  },
  {
   "cell_type": "markdown",
   "metadata": {
    "id": "7HK4lJhBjkWR"
   },
   "source": [
    "first drop out =0.25"
   ]
  },
  {
   "cell_type": "code",
   "execution_count": 12,
   "metadata": {
    "id": "jQWLp-4cUWAz"
   },
   "outputs": [],
   "source": [
    "network_first=CNN_with_Dropout(0.25)"
   ]
  },
  {
   "cell_type": "code",
   "execution_count": 13,
   "metadata": {
    "id": "WjOUzqmlU9ES"
   },
   "outputs": [],
   "source": [
    "Loss = nn.CrossEntropyLoss()\n",
    "optimizer = torch.optim.SGD(network_first.parameters(), lr = 0.001, momentum = 0.9)\n",
    "scheduler = StepLR(optimizer, step_size=10, gamma=0.1)"
   ]
  },
  {
   "cell_type": "code",
   "execution_count": 14,
   "metadata": {
    "id": "XokV5UNFV-6w"
   },
   "outputs": [],
   "source": [
    "def train(epochs, model, train_data_loader, developement_data_loader, optimizer):    \n",
    "    epoch_metrics = []\n",
    "    for epoch in range(epochs): \n",
    "        lr = scheduler.step()\n",
    "        print('Epoch:', epoch,'Learning rate:', scheduler.get_lr())\n",
    "        for j,(images, labels) in enumerate(train_data_loader):\n",
    "            loss = model.train_each_batch(images, labels)\n",
    "            loss.backward()\n",
    "            optimizer.step()\n",
    "            optimizer.zero_grad()\n",
    "        result = develope(model, developement_data_loader)\n",
    "        model.display_metrics_at_end_of_epoch(epoch, result)\n",
    "        epoch_metrics.append(result)\n",
    "        print(\"\\n\")\n",
    "    return epoch_metrics"
   ]
  },
  {
   "cell_type": "code",
   "execution_count": 15,
   "metadata": {
    "colab": {
     "base_uri": "https://localhost:8080/"
    },
    "id": "RfXMDTvVWEgL",
    "outputId": "b27f96c2-7ef4-4613-ab3e-e90f8cab656d"
   },
   "outputs": [
    {
     "name": "stdout",
     "output_type": "stream",
     "text": [
      "Epoch: 0 Learning rate: [0.001]\n",
      "acc_at_end_of_epoch: 0.9525, loss_at_end_of_epoch: 0.1512\n",
      "\n",
      "\n",
      "Epoch: 1 Learning rate: [0.001]\n",
      "acc_at_end_of_epoch: 0.9637, loss_at_end_of_epoch: 0.1125\n",
      "\n",
      "\n",
      "Epoch: 2 Learning rate: [0.001]\n",
      "acc_at_end_of_epoch: 0.9699, loss_at_end_of_epoch: 0.0925\n",
      "\n",
      "\n",
      "Epoch: 3 Learning rate: [0.001]\n",
      "acc_at_end_of_epoch: 0.9743, loss_at_end_of_epoch: 0.0833\n",
      "\n",
      "\n",
      "Epoch: 4 Learning rate: [0.001]\n",
      "acc_at_end_of_epoch: 0.9788, loss_at_end_of_epoch: 0.0711\n",
      "\n",
      "\n",
      "Epoch: 5 Learning rate: [0.001]\n",
      "acc_at_end_of_epoch: 0.9770, loss_at_end_of_epoch: 0.0727\n",
      "\n",
      "\n",
      "Epoch: 6 Learning rate: [0.001]\n",
      "acc_at_end_of_epoch: 0.9814, loss_at_end_of_epoch: 0.0613\n",
      "\n",
      "\n",
      "Epoch: 7 Learning rate: [0.001]\n",
      "acc_at_end_of_epoch: 0.9810, loss_at_end_of_epoch: 0.0608\n",
      "\n",
      "\n",
      "Epoch: 8 Learning rate: [0.001]\n",
      "acc_at_end_of_epoch: 0.9806, loss_at_end_of_epoch: 0.0615\n",
      "\n",
      "\n",
      "Epoch: 9 Learning rate: [1e-05]\n",
      "acc_at_end_of_epoch: 0.9830, loss_at_end_of_epoch: 0.0576\n",
      "\n",
      "\n"
     ]
    }
   ],
   "source": [
    "metrics_history_first = train(10, network_first, train_data_loader, developement_data_loader, optimizer)"
   ]
  },
  {
   "cell_type": "code",
   "execution_count": 16,
   "metadata": {
    "colab": {
     "base_uri": "https://localhost:8080/"
    },
    "id": "dKtc6iN3V5yv",
    "outputId": "b601c40b-e68c-47cc-d5ee-8c819712d0ee"
   },
   "outputs": [
    {
     "name": "stdout",
     "output_type": "stream",
     "text": [
      "cpu\n"
     ]
    }
   ],
   "source": [
    "if torch.cuda.is_available():\n",
    "    device=torch.device(\"cuda:0\")\n",
    "else:\n",
    "    device=torch.device(\"cpu\")\n",
    "print(device)"
   ]
  },
  {
   "cell_type": "code",
   "execution_count": 17,
   "metadata": {
    "id": "U2q6t8ANc4tQ"
   },
   "outputs": [],
   "source": [
    "def test(network, test_data_loader):\n",
    "  network.eval()\n",
    "  with torch.no_grad():\n",
    "    correct = 0\n",
    "    total = 0\n",
    "    actuals = []\n",
    "    predictions = []\n",
    "    for images, labels in test_data_loader:\n",
    "        images = Variable(images)\n",
    "        results = network(images)\n",
    "        prediction = results.argmax(dim=1, keepdim=True)\n",
    "        actuals.extend(labels.view_as(prediction))\n",
    "        predictions.extend(prediction)\n",
    "    return [i.item() for i in actuals], [i.item() for i in predictions]\n",
    "\n",
    "#     return (correct / total) * 100"
   ]
  },
  {
   "cell_type": "code",
   "execution_count": 20,
   "metadata": {
    "colab": {
     "base_uri": "https://localhost:8080/"
    },
    "id": "bYJZOi0NdJuu",
    "outputId": "4cf344a2-4c95-406e-bb19-ff691f8c64c4"
   },
   "outputs": [
    {
     "name": "stdout",
     "output_type": "stream",
     "text": [
      "After Test : \n",
      "Confusion matrix:\n",
      "[[ 977    0    0    0    0    0    1    1    1    0]\n",
      " [   0 1134    1    0    0    0    0    0    0    0]\n",
      " [   2    3 1024    0    1    0    0    1    1    0]\n",
      " [   1    0    1 1003    0    2    0    2    1    0]\n",
      " [   0    0    0    0  973    0    1    1    3    4]\n",
      " [   2    0    0    5    0  884    1    0    0    0]\n",
      " [   7    2    0    1    1    2  944    0    1    0]\n",
      " [   0    1    9    1    0    0    0 1013    1    3]\n",
      " [   3    1    2    1    1    1    1    3  958    3]\n",
      " [   3    3    1    1    4    5    0    4    1  987]]\n"
     ]
    }
   ],
   "source": [
    "print(\"After Test : \")\n",
    "# print(\"Accuracy of the model :\",acc_of_test)\n",
    "actuals, predictions = test(network_first, test_data_loader)\n",
    "print('Confusion matrix:')\n",
    "print(sk.confusion_matrix(actuals, predictions))"
   ]
  },
  {
   "cell_type": "code",
   "execution_count": 21,
   "metadata": {
    "colab": {
     "base_uri": "https://localhost:8080/"
    },
    "id": "-2Qxs6rfr5ii",
    "outputId": "ae346119-b6dd-4d2f-917f-bb9617eff01d"
   },
   "outputs": [
    {
     "name": "stdout",
     "output_type": "stream",
     "text": [
      "Accuracy score: 0.989700\n"
     ]
    }
   ],
   "source": [
    "print('Accuracy score: %f' % sk.accuracy_score(actuals, predictions))"
   ]
  },
  {
   "cell_type": "code",
   "execution_count": 22,
   "metadata": {
    "colab": {
     "base_uri": "https://localhost:8080/",
     "height": 295
    },
    "id": "gdKvvlulelrr",
    "outputId": "5f0c6a93-dbe1-4e4b-f6c5-b955517390b3"
   },
   "outputs": [
    {
     "data": {
      "image/png": "[encoded data removed]",
      "text/plain": [
       "<Figure size 432x288 with 1 Axes>"
      ]
     },
     "metadata": {
      "needs_background": "light",
      "tags": []
     },
     "output_type": "display_data"
    }
   ],
   "source": [
    "accs=[x['acc_at_end_of_epoch'] for x in metrics_history_first]\n",
    "plt.plot(accs, '-x')\n",
    "plt.xlabel('epoch')\n",
    "plt.ylabel('accuracy')\n",
    "plt.title('accuracy vs. No. of epochs');"
   ]
  },
  {
   "cell_type": "code",
   "execution_count": 23,
   "metadata": {
    "colab": {
     "base_uri": "https://localhost:8080/",
     "height": 295
    },
    "id": "cvVyjah1e0cR",
    "outputId": "25e3c8d2-dd74-4e5a-9fde-664fba7b0d4a"
   },
   "outputs": [
    {
     "data": {
      "image/png": "[encoded data removed]",
      "text/plain": [
       "<Figure size 432x288 with 1 Axes>"
      ]
     },
     "metadata": {
      "needs_background": "light",
      "tags": []
     },
     "output_type": "display_data"
    }
   ],
   "source": [
    "losses = [x['loss_at_end_of_epoch'] for x in metrics_history_first]\n",
    "plt.plot(losses, '-x')\n",
    "plt.xlabel('epoch')\n",
    "plt.ylabel('loss')\n",
    "plt.title('Loss vs. No. of epochs');"
   ]
  },
  {
   "cell_type": "code",
   "execution_count": 24,
   "metadata": {
    "id": "DElyY5L1nFHL"
   },
   "outputs": [],
   "source": [
    "# second dropout = 0.5"
   ]
  },
  {
   "cell_type": "code",
   "execution_count": 25,
   "metadata": {
    "id": "bXX2Mbfadamk"
   },
   "outputs": [],
   "source": [
    "network_second=CNN_with_Dropout(0.5)"
   ]
  },
  {
   "cell_type": "code",
   "execution_count": 26,
   "metadata": {
    "id": "1WGzTr-Td7WQ"
   },
   "outputs": [],
   "source": [
    "Loss = nn.CrossEntropyLoss()\n",
    "optimizer = torch.optim.SGD(network_second.parameters(), lr = 0.001, momentum = 0.9)\n",
    "scheduler = StepLR(optimizer, step_size=10, gamma=0.1)"
   ]
  },
  {
   "cell_type": "code",
   "execution_count": 27,
   "metadata": {
    "colab": {
     "base_uri": "https://localhost:8080/"
    },
    "id": "zTT_im9veK0c",
    "outputId": "90fc93fc-7675-41f3-9c6b-029b436e34e1"
   },
   "outputs": [
    {
     "name": "stdout",
     "output_type": "stream",
     "text": [
      "Epoch: 0 Learning rate: [0.001]\n",
      "acc_at_end_of_epoch: 0.9451, loss_at_end_of_epoch: 0.1751\n",
      "\n",
      "\n",
      "Epoch: 1 Learning rate: [0.001]\n",
      "acc_at_end_of_epoch: 0.9623, loss_at_end_of_epoch: 0.1202\n",
      "\n",
      "\n",
      "Epoch: 2 Learning rate: [0.001]\n",
      "acc_at_end_of_epoch: 0.9653, loss_at_end_of_epoch: 0.1104\n",
      "\n",
      "\n",
      "Epoch: 3 Learning rate: [0.001]\n",
      "acc_at_end_of_epoch: 0.9711, loss_at_end_of_epoch: 0.0943\n",
      "\n",
      "\n",
      "Epoch: 4 Learning rate: [0.001]\n",
      "acc_at_end_of_epoch: 0.9736, loss_at_end_of_epoch: 0.0868\n",
      "\n",
      "\n",
      "Epoch: 5 Learning rate: [0.001]\n",
      "acc_at_end_of_epoch: 0.9765, loss_at_end_of_epoch: 0.0792\n",
      "\n",
      "\n",
      "Epoch: 6 Learning rate: [0.001]\n",
      "acc_at_end_of_epoch: 0.9759, loss_at_end_of_epoch: 0.0778\n",
      "\n",
      "\n",
      "Epoch: 7 Learning rate: [0.001]\n",
      "acc_at_end_of_epoch: 0.9764, loss_at_end_of_epoch: 0.0781\n",
      "\n",
      "\n",
      "Epoch: 8 Learning rate: [0.001]\n",
      "acc_at_end_of_epoch: 0.9782, loss_at_end_of_epoch: 0.0717\n",
      "\n",
      "\n",
      "Epoch: 9 Learning rate: [1e-05]\n",
      "acc_at_end_of_epoch: 0.9797, loss_at_end_of_epoch: 0.0663\n",
      "\n",
      "\n"
     ]
    }
   ],
   "source": [
    "metrics_history_second = train(10, network_second, train_data_loader, developement_data_loader, optimizer)"
   ]
  },
  {
   "cell_type": "code",
   "execution_count": 28,
   "metadata": {
    "colab": {
     "base_uri": "https://localhost:8080/"
    },
    "id": "GeASH-aRlyKR",
    "outputId": "fc04009f-2235-4ce6-9ed2-6e8e281096c3"
   },
   "outputs": [
    {
     "name": "stdout",
     "output_type": "stream",
     "text": [
      "After Test : \n",
      "Confusion matrix:\n",
      "[[ 976    0    0    0    0    1    1    1    1    0]\n",
      " [   0 1132    1    1    0    1    0    0    0    0]\n",
      " [   2    1 1027    0    0    0    0    2    0    0]\n",
      " [   0    0    3  999    0    4    0    2    2    0]\n",
      " [   0    0    0    0  976    0    1    1    2    2]\n",
      " [   2    0    0    5    0  884    1    0    0    0]\n",
      " [   5    3    0    0    1    5  941    0    3    0]\n",
      " [   0    3    9    1    0    0    0 1011    1    3]\n",
      " [   4    0    2    1    1    1    0    2  959    4]\n",
      " [   4    3    1    1    6    4    0    5    2  983]]\n"
     ]
    }
   ],
   "source": [
    "print(\"After Test : \")\n",
    "# print(\"Accuracy of the model :\",acc_of_test)\n",
    "actuals, predictions = test(network_second, test_data_loader)\n",
    "print('Confusion matrix:')\n",
    "print(sk.confusion_matrix(actuals, predictions))"
   ]
  },
  {
   "cell_type": "code",
   "execution_count": 29,
   "metadata": {
    "colab": {
     "base_uri": "https://localhost:8080/"
    },
    "id": "P8PMR1E2s12m",
    "outputId": "82ca0d88-802c-46f3-b7ad-5b3585a9d765"
   },
   "outputs": [
    {
     "name": "stdout",
     "output_type": "stream",
     "text": [
      "Accuracy score: 0.988800\n"
     ]
    }
   ],
   "source": [
    "print('Accuracy score: %f' % sk.accuracy_score(actuals, predictions))"
   ]
  },
  {
   "cell_type": "code",
   "execution_count": 30,
   "metadata": {
    "colab": {
     "base_uri": "https://localhost:8080/",
     "height": 295
    },
    "id": "njb4iqngmPr9",
    "outputId": "481e793e-3076-4c3f-8403-139785387725"
   },
   "outputs": [
    {
     "data": {
      "image/png": "[encoded data removed]",
      "text/plain": [
       "<Figure size 432x288 with 1 Axes>"
      ]
     },
     "metadata": {
      "needs_background": "light",
      "tags": []
     },
     "output_type": "display_data"
    }
   ],
   "source": [
    "accs=[x['acc_at_end_of_epoch'] for x in metrics_history_second]\n",
    "plt.plot(accs, '-x')\n",
    "plt.xlabel('epoch')\n",
    "plt.ylabel('accuracy')\n",
    "plt.title('accuracy vs. No. of epochs');"
   ]
  },
  {
   "cell_type": "code",
   "execution_count": 31,
   "metadata": {
    "colab": {
     "base_uri": "https://localhost:8080/",
     "height": 295
    },
    "id": "l-AqgdFumaOi",
    "outputId": "0c4851c6-25b0-493a-d5cc-704a734e184a"
   },
   "outputs": [
    {
     "data": {
      "image/png": "[encoded data removed]",
      "text/plain": [
       "<Figure size 432x288 with 1 Axes>"
      ]
     },
     "metadata": {
      "needs_background": "light",
      "tags": []
     },
     "output_type": "display_data"
    }
   ],
   "source": [
    "losses = [x['loss_at_end_of_epoch'] for x in metrics_history_second]\n",
    "plt.plot(losses, '-x')\n",
    "plt.xlabel('epoch')\n",
    "plt.ylabel('loss')\n",
    "plt.title('Loss vs. No. of epochs');"
   ]
  },
  {
   "cell_type": "code",
   "execution_count": 32,
   "metadata": {
    "id": "QcTRc7NLnOpi"
   },
   "outputs": [],
   "source": [
    "# third dropout = 0.75"
   ]
  },
  {
   "cell_type": "code",
   "execution_count": 33,
   "metadata": {
    "id": "Mq7qZ90gmt7Z"
   },
   "outputs": [],
   "source": [
    "network_third=CNN_with_Dropout(0.75)"
   ]
  },
  {
   "cell_type": "code",
   "execution_count": 34,
   "metadata": {
    "id": "FP9AeDPVncIu"
   },
   "outputs": [],
   "source": [
    "Loss = nn.CrossEntropyLoss()\n",
    "optimizer = torch.optim.SGD(network_third.parameters(), lr = 0.001, momentum = 0.9)\n",
    "scheduler = StepLR(optimizer, step_size=5, gamma=0.1)"
   ]
  },
  {
   "cell_type": "code",
   "execution_count": 35,
   "metadata": {
    "colab": {
     "base_uri": "https://localhost:8080/"
    },
    "id": "6ttIO0iwni3h",
    "outputId": "5930e201-8c4a-400d-b00c-54cf11ca7280"
   },
   "outputs": [
    {
     "name": "stdout",
     "output_type": "stream",
     "text": [
      "Epoch: 0 Learning rate: [0.001]\n",
      "acc_at_end_of_epoch: 0.9113, loss_at_end_of_epoch: 0.2927\n",
      "\n",
      "\n",
      "Epoch: 1 Learning rate: [0.001]\n",
      "acc_at_end_of_epoch: 0.9381, loss_at_end_of_epoch: 0.2034\n",
      "\n",
      "\n",
      "Epoch: 2 Learning rate: [0.001]\n",
      "acc_at_end_of_epoch: 0.9474, loss_at_end_of_epoch: 0.1702\n",
      "\n",
      "\n",
      "Epoch: 3 Learning rate: [0.001]\n",
      "acc_at_end_of_epoch: 0.9496, loss_at_end_of_epoch: 0.1588\n",
      "\n",
      "\n",
      "Epoch: 4 Learning rate: [1e-05]\n",
      "acc_at_end_of_epoch: 0.9547, loss_at_end_of_epoch: 0.1442\n",
      "\n",
      "\n",
      "Epoch: 5 Learning rate: [0.0001]\n",
      "acc_at_end_of_epoch: 0.9601, loss_at_end_of_epoch: 0.1297\n",
      "\n",
      "\n",
      "Epoch: 6 Learning rate: [0.0001]\n",
      "acc_at_end_of_epoch: 0.9596, loss_at_end_of_epoch: 0.1329\n",
      "\n",
      "\n",
      "Epoch: 7 Learning rate: [0.0001]\n",
      "acc_at_end_of_epoch: 0.9590, loss_at_end_of_epoch: 0.1316\n",
      "\n",
      "\n",
      "Epoch: 8 Learning rate: [0.0001]\n",
      "acc_at_end_of_epoch: 0.9592, loss_at_end_of_epoch: 0.1266\n",
      "\n",
      "\n",
      "Epoch: 9 Learning rate: [1.0000000000000002e-06]\n",
      "acc_at_end_of_epoch: 0.9603, loss_at_end_of_epoch: 0.1289\n",
      "\n",
      "\n"
     ]
    }
   ],
   "source": [
    "metrics_history_third = train(10, network_third, train_data_loader, developement_data_loader, optimizer)"
   ]
  },
  {
   "cell_type": "code",
   "execution_count": 36,
   "metadata": {
    "colab": {
     "base_uri": "https://localhost:8080/"
    },
    "id": "iNxQHKB5wOvc",
    "outputId": "1cda5aab-2ab4-4d0c-dcd2-918973ebf17c"
   },
   "outputs": [
    {
     "name": "stdout",
     "output_type": "stream",
     "text": [
      "After Test : \n",
      "Confusion matrix:\n",
      "[[ 973    0    1    0    0    2    1    1    2    0]\n",
      " [   0 1132    2    1    0    0    0    0    0    0]\n",
      " [   3    2 1014    2    0    0    0    6    5    0]\n",
      " [   1    0    1  996    0    5    0    5    2    0]\n",
      " [   1    1    1    0  968    0    3    0    2    6]\n",
      " [   2    0    0    3    0  884    2    1    0    0]\n",
      " [   7    3    0    0    2    1  941    0    4    0]\n",
      " [   1    3   17    3    0    0    0  998    1    5]\n",
      " [   4    0    2    2    1    3    1    3  953    5]\n",
      " [   5    4    0    3    6    3    0    5    2  981]]\n"
     ]
    }
   ],
   "source": [
    "print(\"After Test : \")\n",
    "# print(\"Accuracy of the model :\",acc_of_test)\n",
    "actuals, predictions = test(network_third, test_data_loader)\n",
    "print('Confusion matrix:')\n",
    "print(sk.confusion_matrix(actuals, predictions))"
   ]
  },
  {
   "cell_type": "code",
   "execution_count": 37,
   "metadata": {
    "colab": {
     "base_uri": "https://localhost:8080/"
    },
    "id": "uuhVRnvYtPGl",
    "outputId": "e5377f75-4c40-43ee-9c04-9a80da7aa0ec"
   },
   "outputs": [
    {
     "name": "stdout",
     "output_type": "stream",
     "text": [
      "Accuracy score: 0.984000\n"
     ]
    }
   ],
   "source": [
    "print('Accuracy score: %f' % sk.accuracy_score(actuals, predictions))"
   ]
  },
  {
   "cell_type": "code",
   "execution_count": 38,
   "metadata": {
    "colab": {
     "base_uri": "https://localhost:8080/",
     "height": 295
    },
    "id": "GrXMrEh3wtuZ",
    "outputId": "000268f5-e874-4b90-cca6-4f60c26ed0e5"
   },
   "outputs": [
    {
     "data": {
      "image/png": "[encoded data removed]",
      "text/plain": [
       "<Figure size 432x288 with 1 Axes>"
      ]
     },
     "metadata": {
      "needs_background": "light",
      "tags": []
     },
     "output_type": "display_data"
    }
   ],
   "source": [
    "accs=[x['acc_at_end_of_epoch'] for x in metrics_history_third]\n",
    "plt.plot(accs, '-x')\n",
    "plt.xlabel('epoch')\n",
    "plt.ylabel('accuracy')\n",
    "plt.title('accuracy vs. No. of epochs');"
   ]
  },
  {
   "cell_type": "code",
   "execution_count": 39,
   "metadata": {
    "colab": {
     "base_uri": "https://localhost:8080/",
     "height": 295
    },
    "id": "00KGq8Qcw49a",
    "outputId": "2d25880d-3c2f-4eba-d8f3-01fa8b01d4ea"
   },
   "outputs": [
    {
     "data": {
      "image/png": "[encoded data removed]",
      "text/plain": [
       "<Figure size 432x288 with 1 Axes>"
      ]
     },
     "metadata": {
      "needs_background": "light",
      "tags": []
     },
     "output_type": "display_data"
    }
   ],
   "source": [
    "losses = [x['loss_at_end_of_epoch'] for x in metrics_history_third]\n",
    "plt.plot(losses, '-x')\n",
    "plt.xlabel('epoch')\n",
    "plt.ylabel('loss')\n",
    "plt.title('Loss vs. No. of epochs');"
   ]
  },
  {
   "cell_type": "markdown",
   "metadata": {
    "id": "e6LIiN0Jk_hi"
   },
   "source": [
    "baseline- dropout\n",
    "\n",
    "In this model, we have have implemented 3 drop outs\n",
    "A way to overcome overfitting is by performing dropout. Dropout is a regularization technique where some number of output layers are randomly dropped out. This is like temporarily removing it from the network.\n",
    "The incoming and the outgoing edges of the dropped out node are also removed.It helps in reducing interdependence learning amongst neurons.\n",
    "\n",
    "When we increase the dropout, the variance increases in some layers. This can lead to a lower accuracy. Increasing the dropout beyond a certain threshold will not help fit the model properly.\n",
    "\n",
    "we have started the learning rate with 0.001 with schedular set to change learning rate every 10 epochs by 10%, but for the 3'rd dropout implemetation, we have put the step as 5 instead of 10 epochs. we could have run this implementation for more epochs, and could have gotten better results, but given our hardware, this is the best we could do. \n",
    "\n",
    "As we can see in the above implementation, with each increasing dropout, the accuracy is decreasing, may be because we are avoiding more and more layers, thus we might be ignoring data that might help train the network better. "
   ]
  }
 ],
 "metadata": {
  "colab": {
   "collapsed_sections": [],
   "name": "baseline-dropout.ipynb",
   "provenance": []
  },
  "kernelspec": {
   "display_name": "Python 3",
   "language": "python",
   "name": "python3"
  },
  "language_info": {
   "codemirror_mode": {
    "name": "ipython",
    "version": 3
   },
   "file_extension": ".py",
   "mimetype": "text/x-python",
   "name": "python",
   "nbconvert_exporter": "python",
   "pygments_lexer": "ipython3",
   "version": "3.8.5"
  },
  "widgets": {
   "application/vnd.jupyter.widget-state+json": {
    "019e0385d84e4fbfbb9ce1ad75d62461": {
     "model_module": "@jupyter-widgets/controls",
     "model_name": "FloatProgressModel",
     "state": {
      "_dom_classes": [],
      "_model_module": "@jupyter-widgets/controls",
      "_model_module_version": "1.5.0",
      "_model_name": "FloatProgressModel",
      "_view_count": null,
      "_view_module": "@jupyter-widgets/controls",
      "_view_module_version": "1.5.0",
      "_view_name": "ProgressView",
      "bar_style": "success",
      "description": "",
      "description_tooltip": null,
      "layout": "IPY_MODEL_d464f38dc27d4d449e293ce657bf8b59",
      "max": 9912422,
      "min": 0,
      "orientation": "horizontal",
      "style": "IPY_MODEL_11d315a6489e49748d578a8d18664a8a",
      "value": 9912422
     }
    },
    "11d315a6489e49748d578a8d18664a8a": {
     "model_module": "@jupyter-widgets/controls",
     "model_name": "ProgressStyleModel",
     "state": {
      "_model_module": "@jupyter-widgets/controls",
      "_model_module_version": "1.5.0",
      "_model_name": "ProgressStyleModel",
      "_view_count": null,
      "_view_module": "@jupyter-widgets/base",
      "_view_module_version": "1.2.0",
      "_view_name": "StyleView",
      "bar_color": null,
      "description_width": "initial"
     }
    },
    "1303513a54c24fa3ad76f6deb6781c86": {
     "model_module": "@jupyter-widgets/base",
     "model_name": "LayoutModel",
     "state": {
      "_model_module": "@jupyter-widgets/base",
      "_model_module_version": "1.2.0",
      "_model_name": "LayoutModel",
      "_view_count": null,
      "_view_module": "@jupyter-widgets/base",
      "_view_module_version": "1.2.0",
      "_view_name": "LayoutView",
      "align_content": null,
      "align_items": null,
      "align_self": null,
      "border": null,
      "bottom": null,
      "display": null,
      "flex": null,
      "flex_flow": null,
      "grid_area": null,
      "grid_auto_columns": null,
      "grid_auto_flow": null,
      "grid_auto_rows": null,
      "grid_column": null,
      "grid_gap": null,
      "grid_row": null,
      "grid_template_areas": null,
      "grid_template_columns": null,
      "grid_template_rows": null,
      "height": null,
      "justify_content": null,
      "justify_items": null,
      "left": null,
      "margin": null,
      "max_height": null,
      "max_width": null,
      "min_height": null,
      "min_width": null,
      "object_fit": null,
      "object_position": null,
      "order": null,
      "overflow": null,
      "overflow_x": null,
      "overflow_y": null,
      "padding": null,
      "right": null,
      "top": null,
      "visibility": null,
      "width": null
     }
    },
    "14e42956ea414c719f3a37372b17de76": {
     "model_module": "@jupyter-widgets/base",
     "model_name": "LayoutModel",
     "state": {
      "_model_module": "@jupyter-widgets/base",
      "_model_module_version": "1.2.0",
      "_model_name": "LayoutModel",
      "_view_count": null,
      "_view_module": "@jupyter-widgets/base",
      "_view_module_version": "1.2.0",
      "_view_name": "LayoutView",
      "align_content": null,
      "align_items": null,
      "align_self": null,
      "border": null,
      "bottom": null,
      "display": null,
      "flex": null,
      "flex_flow": null,
      "grid_area": null,
      "grid_auto_columns": null,
      "grid_auto_flow": null,
      "grid_auto_rows": null,
      "grid_column": null,
      "grid_gap": null,
      "grid_row": null,
      "grid_template_areas": null,
      "grid_template_columns": null,
      "grid_template_rows": null,
      "height": null,
      "justify_content": null,
      "justify_items": null,
      "left": null,
      "margin": null,
      "max_height": null,
      "max_width": null,
      "min_height": null,
      "min_width": null,
      "object_fit": null,
      "object_position": null,
      "order": null,
      "overflow": null,
      "overflow_x": null,
      "overflow_y": null,
      "padding": null,
      "right": null,
      "top": null,
      "visibility": null,
      "width": null
     }
    },
    "162ee42d6a704d5f98323035e7c289e0": {
     "model_module": "@jupyter-widgets/controls",
     "model_name": "HBoxModel",
     "state": {
      "_dom_classes": [],
      "_model_module": "@jupyter-widgets/controls",
      "_model_module_version": "1.5.0",
      "_model_name": "HBoxModel",
      "_view_count": null,
      "_view_module": "@jupyter-widgets/controls",
      "_view_module_version": "1.5.0",
      "_view_name": "HBoxView",
      "box_style": "",
      "children": [
       "IPY_MODEL_019e0385d84e4fbfbb9ce1ad75d62461",
       "IPY_MODEL_30a49978a9274b35926cd9cc022de109"
      ],
      "layout": "IPY_MODEL_242920fc3c3244f7a70082033566cb35"
     }
    },
    "175b7a6f9811487183c34c7e87777d55": {
     "model_module": "@jupyter-widgets/controls",
     "model_name": "ProgressStyleModel",
     "state": {
      "_model_module": "@jupyter-widgets/controls",
      "_model_module_version": "1.5.0",
      "_model_name": "ProgressStyleModel",
      "_view_count": null,
      "_view_module": "@jupyter-widgets/base",
      "_view_module_version": "1.2.0",
      "_view_name": "StyleView",
      "bar_color": null,
      "description_width": "initial"
     }
    },
    "17f5dc05d0944914b455e6a6ece60701": {
     "model_module": "@jupyter-widgets/controls",
     "model_name": "DescriptionStyleModel",
     "state": {
      "_model_module": "@jupyter-widgets/controls",
      "_model_module_version": "1.5.0",
      "_model_name": "DescriptionStyleModel",
      "_view_count": null,
      "_view_module": "@jupyter-widgets/base",
      "_view_module_version": "1.2.0",
      "_view_name": "StyleView",
      "description_width": ""
     }
    },
    "242920fc3c3244f7a70082033566cb35": {
     "model_module": "@jupyter-widgets/base",
     "model_name": "LayoutModel",
     "state": {
      "_model_module": "@jupyter-widgets/base",
      "_model_module_version": "1.2.0",
      "_model_name": "LayoutModel",
      "_view_count": null,
      "_view_module": "@jupyter-widgets/base",
      "_view_module_version": "1.2.0",
      "_view_name": "LayoutView",
      "align_content": null,
      "align_items": null,
      "align_self": null,
      "border": null,
      "bottom": null,
      "display": null,
      "flex": null,
      "flex_flow": null,
      "grid_area": null,
      "grid_auto_columns": null,
      "grid_auto_flow": null,
      "grid_auto_rows": null,
      "grid_column": null,
      "grid_gap": null,
      "grid_row": null,
      "grid_template_areas": null,
      "grid_template_columns": null,
      "grid_template_rows": null,
      "height": null,
      "justify_content": null,
      "justify_items": null,
      "left": null,
      "margin": null,
      "max_height": null,
      "max_width": null,
      "min_height": null,
      "min_width": null,
      "object_fit": null,
      "object_position": null,
      "order": null,
      "overflow": null,
      "overflow_x": null,
      "overflow_y": null,
      "padding": null,
      "right": null,
      "top": null,
      "visibility": null,
      "width": null
     }
    },
    "2953f67b3a58498bb20b1e036a7cec37": {
     "model_module": "@jupyter-widgets/controls",
     "model_name": "DescriptionStyleModel",
     "state": {
      "_model_module": "@jupyter-widgets/controls",
      "_model_module_version": "1.5.0",
      "_model_name": "DescriptionStyleModel",
      "_view_count": null,
      "_view_module": "@jupyter-widgets/base",
      "_view_module_version": "1.2.0",
      "_view_name": "StyleView",
      "description_width": ""
     }
    },
    "2b4a0139c60e4e9fbb8062f6291c122e": {
     "model_module": "@jupyter-widgets/controls",
     "model_name": "FloatProgressModel",
     "state": {
      "_dom_classes": [],
      "_model_module": "@jupyter-widgets/controls",
      "_model_module_version": "1.5.0",
      "_model_name": "FloatProgressModel",
      "_view_count": null,
      "_view_module": "@jupyter-widgets/controls",
      "_view_module_version": "1.5.0",
      "_view_name": "ProgressView",
      "bar_style": "success",
      "description": "",
      "description_tooltip": null,
      "layout": "IPY_MODEL_d7e0116044ec42c7aab0849efa03efc1",
      "max": 28881,
      "min": 0,
      "orientation": "horizontal",
      "style": "IPY_MODEL_175b7a6f9811487183c34c7e87777d55",
      "value": 28881
     }
    },
    "30a49978a9274b35926cd9cc022de109": {
     "model_module": "@jupyter-widgets/controls",
     "model_name": "HTMLModel",
     "state": {
      "_dom_classes": [],
      "_model_module": "@jupyter-widgets/controls",
      "_model_module_version": "1.5.0",
      "_model_name": "HTMLModel",
      "_view_count": null,
      "_view_module": "@jupyter-widgets/controls",
      "_view_module_version": "1.5.0",
      "_view_name": "HTMLView",
      "description": "",
      "description_tooltip": null,
      "layout": "IPY_MODEL_d7d046b4430a4a65a571b1250c983a0f",
      "placeholder": "​",
      "style": "IPY_MODEL_17f5dc05d0944914b455e6a6ece60701",
      "value": " 9913344/? [00:58&lt;00:00, 169104.50it/s]"
     }
    },
    "3761fad5397c4f3f99c63f926cdb2fb1": {
     "model_module": "@jupyter-widgets/base",
     "model_name": "LayoutModel",
     "state": {
      "_model_module": "@jupyter-widgets/base",
      "_model_module_version": "1.2.0",
      "_model_name": "LayoutModel",
      "_view_count": null,
      "_view_module": "@jupyter-widgets/base",
      "_view_module_version": "1.2.0",
      "_view_name": "LayoutView",
      "align_content": null,
      "align_items": null,
      "align_self": null,
      "border": null,
      "bottom": null,
      "display": null,
      "flex": null,
      "flex_flow": null,
      "grid_area": null,
      "grid_auto_columns": null,
      "grid_auto_flow": null,
      "grid_auto_rows": null,
      "grid_column": null,
      "grid_gap": null,
      "grid_row": null,
      "grid_template_areas": null,
      "grid_template_columns": null,
      "grid_template_rows": null,
      "height": null,
      "justify_content": null,
      "justify_items": null,
      "left": null,
      "margin": null,
      "max_height": null,
      "max_width": null,
      "min_height": null,
      "min_width": null,
      "object_fit": null,
      "object_position": null,
      "order": null,
      "overflow": null,
      "overflow_x": null,
      "overflow_y": null,
      "padding": null,
      "right": null,
      "top": null,
      "visibility": null,
      "width": null
     }
    },
    "37c29eed0b334e7395984ab166cbbf41": {
     "model_module": "@jupyter-widgets/base",
     "model_name": "LayoutModel",
     "state": {
      "_model_module": "@jupyter-widgets/base",
      "_model_module_version": "1.2.0",
      "_model_name": "LayoutModel",
      "_view_count": null,
      "_view_module": "@jupyter-widgets/base",
      "_view_module_version": "1.2.0",
      "_view_name": "LayoutView",
      "align_content": null,
      "align_items": null,
      "align_self": null,
      "border": null,
      "bottom": null,
      "display": null,
      "flex": null,
      "flex_flow": null,
      "grid_area": null,
      "grid_auto_columns": null,
      "grid_auto_flow": null,
      "grid_auto_rows": null,
      "grid_column": null,
      "grid_gap": null,
      "grid_row": null,
      "grid_template_areas": null,
      "grid_template_columns": null,
      "grid_template_rows": null,
      "height": null,
      "justify_content": null,
      "justify_items": null,
      "left": null,
      "margin": null,
      "max_height": null,
      "max_width": null,
      "min_height": null,
      "min_width": null,
      "object_fit": null,
      "object_position": null,
      "order": null,
      "overflow": null,
      "overflow_x": null,
      "overflow_y": null,
      "padding": null,
      "right": null,
      "top": null,
      "visibility": null,
      "width": null
     }
    },
    "3827baf87f3d436a92ec4ae2e2d8c148": {
     "model_module": "@jupyter-widgets/controls",
     "model_name": "HTMLModel",
     "state": {
      "_dom_classes": [],
      "_model_module": "@jupyter-widgets/controls",
      "_model_module_version": "1.5.0",
      "_model_name": "HTMLModel",
      "_view_count": null,
      "_view_module": "@jupyter-widgets/controls",
      "_view_module_version": "1.5.0",
      "_view_name": "HTMLView",
      "description": "",
      "description_tooltip": null,
      "layout": "IPY_MODEL_1303513a54c24fa3ad76f6deb6781c86",
      "placeholder": "​",
      "style": "IPY_MODEL_9245f77e5084423aadc58b839b75822e",
      "value": " 1649664/? [00:57&lt;00:00, 28768.70it/s]"
     }
    },
    "6c9477445df640e094dac5b7bcc4188d": {
     "model_module": "@jupyter-widgets/controls",
     "model_name": "HTMLModel",
     "state": {
      "_dom_classes": [],
      "_model_module": "@jupyter-widgets/controls",
      "_model_module_version": "1.5.0",
      "_model_name": "HTMLModel",
      "_view_count": null,
      "_view_module": "@jupyter-widgets/controls",
      "_view_module_version": "1.5.0",
      "_view_name": "HTMLView",
      "description": "",
      "description_tooltip": null,
      "layout": "IPY_MODEL_3761fad5397c4f3f99c63f926cdb2fb1",
      "placeholder": "​",
      "style": "IPY_MODEL_2953f67b3a58498bb20b1e036a7cec37",
      "value": " 29696/? [00:00&lt;00:00, 73375.90it/s]"
     }
    },
    "714f0535ea6c44568ba46b4464d01494": {
     "model_module": "@jupyter-widgets/controls",
     "model_name": "FloatProgressModel",
     "state": {
      "_dom_classes": [],
      "_model_module": "@jupyter-widgets/controls",
      "_model_module_version": "1.5.0",
      "_model_name": "FloatProgressModel",
      "_view_count": null,
      "_view_module": "@jupyter-widgets/controls",
      "_view_module_version": "1.5.0",
      "_view_name": "ProgressView",
      "bar_style": "success",
      "description": "",
      "description_tooltip": null,
      "layout": "IPY_MODEL_c98cb67a628e4a199cfcfdc56cdf9a30",
      "max": 4542,
      "min": 0,
      "orientation": "horizontal",
      "style": "IPY_MODEL_dc302a0778ae42dd835d01c74995d624",
      "value": 4542
     }
    },
    "7b5bba227ca343c891f3ff33d98c7df3": {
     "model_module": "@jupyter-widgets/controls",
     "model_name": "HBoxModel",
     "state": {
      "_dom_classes": [],
      "_model_module": "@jupyter-widgets/controls",
      "_model_module_version": "1.5.0",
      "_model_name": "HBoxModel",
      "_view_count": null,
      "_view_module": "@jupyter-widgets/controls",
      "_view_module_version": "1.5.0",
      "_view_name": "HBoxView",
      "box_style": "",
      "children": [
       "IPY_MODEL_714f0535ea6c44568ba46b4464d01494",
       "IPY_MODEL_db70812bc65a4fe3a639710ed36a0713"
      ],
      "layout": "IPY_MODEL_14e42956ea414c719f3a37372b17de76"
     }
    },
    "8a03b6f56bd4468485db852ff12b9390": {
     "model_module": "@jupyter-widgets/controls",
     "model_name": "ProgressStyleModel",
     "state": {
      "_model_module": "@jupyter-widgets/controls",
      "_model_module_version": "1.5.0",
      "_model_name": "ProgressStyleModel",
      "_view_count": null,
      "_view_module": "@jupyter-widgets/base",
      "_view_module_version": "1.2.0",
      "_view_name": "StyleView",
      "bar_color": null,
      "description_width": "initial"
     }
    },
    "8a71ae50026b432583cbd8c5a1cf36f3": {
     "model_module": "@jupyter-widgets/controls",
     "model_name": "HBoxModel",
     "state": {
      "_dom_classes": [],
      "_model_module": "@jupyter-widgets/controls",
      "_model_module_version": "1.5.0",
      "_model_name": "HBoxModel",
      "_view_count": null,
      "_view_module": "@jupyter-widgets/controls",
      "_view_module_version": "1.5.0",
      "_view_name": "HBoxView",
      "box_style": "",
      "children": [
       "IPY_MODEL_daa757366bfa43b2b38de4ff0cebcf72",
       "IPY_MODEL_3827baf87f3d436a92ec4ae2e2d8c148"
      ],
      "layout": "IPY_MODEL_c956d60530fe44448beef35af4c527da"
     }
    },
    "9245f77e5084423aadc58b839b75822e": {
     "model_module": "@jupyter-widgets/controls",
     "model_name": "DescriptionStyleModel",
     "state": {
      "_model_module": "@jupyter-widgets/controls",
      "_model_module_version": "1.5.0",
      "_model_name": "DescriptionStyleModel",
      "_view_count": null,
      "_view_module": "@jupyter-widgets/base",
      "_view_module_version": "1.2.0",
      "_view_name": "StyleView",
      "description_width": ""
     }
    },
    "9a4b561a219b4f4dbcb0029a3dd1d898": {
     "model_module": "@jupyter-widgets/controls",
     "model_name": "HBoxModel",
     "state": {
      "_dom_classes": [],
      "_model_module": "@jupyter-widgets/controls",
      "_model_module_version": "1.5.0",
      "_model_name": "HBoxModel",
      "_view_count": null,
      "_view_module": "@jupyter-widgets/controls",
      "_view_module_version": "1.5.0",
      "_view_name": "HBoxView",
      "box_style": "",
      "children": [
       "IPY_MODEL_2b4a0139c60e4e9fbb8062f6291c122e",
       "IPY_MODEL_6c9477445df640e094dac5b7bcc4188d"
      ],
      "layout": "IPY_MODEL_cd99156109274242b5893441f96b1ede"
     }
    },
    "a5bbf91aa2dc44cba20531d2e9c38951": {
     "model_module": "@jupyter-widgets/base",
     "model_name": "LayoutModel",
     "state": {
      "_model_module": "@jupyter-widgets/base",
      "_model_module_version": "1.2.0",
      "_model_name": "LayoutModel",
      "_view_count": null,
      "_view_module": "@jupyter-widgets/base",
      "_view_module_version": "1.2.0",
      "_view_name": "LayoutView",
      "align_content": null,
      "align_items": null,
      "align_self": null,
      "border": null,
      "bottom": null,
      "display": null,
      "flex": null,
      "flex_flow": null,
      "grid_area": null,
      "grid_auto_columns": null,
      "grid_auto_flow": null,
      "grid_auto_rows": null,
      "grid_column": null,
      "grid_gap": null,
      "grid_row": null,
      "grid_template_areas": null,
      "grid_template_columns": null,
      "grid_template_rows": null,
      "height": null,
      "justify_content": null,
      "justify_items": null,
      "left": null,
      "margin": null,
      "max_height": null,
      "max_width": null,
      "min_height": null,
      "min_width": null,
      "object_fit": null,
      "object_position": null,
      "order": null,
      "overflow": null,
      "overflow_x": null,
      "overflow_y": null,
      "padding": null,
      "right": null,
      "top": null,
      "visibility": null,
      "width": null
     }
    },
    "c956d60530fe44448beef35af4c527da": {
     "model_module": "@jupyter-widgets/base",
     "model_name": "LayoutModel",
     "state": {
      "_model_module": "@jupyter-widgets/base",
      "_model_module_version": "1.2.0",
      "_model_name": "LayoutModel",
      "_view_count": null,
      "_view_module": "@jupyter-widgets/base",
      "_view_module_version": "1.2.0",
      "_view_name": "LayoutView",
      "align_content": null,
      "align_items": null,
      "align_self": null,
      "border": null,
      "bottom": null,
      "display": null,
      "flex": null,
      "flex_flow": null,
      "grid_area": null,
      "grid_auto_columns": null,
      "grid_auto_flow": null,
      "grid_auto_rows": null,
      "grid_column": null,
      "grid_gap": null,
      "grid_row": null,
      "grid_template_areas": null,
      "grid_template_columns": null,
      "grid_template_rows": null,
      "height": null,
      "justify_content": null,
      "justify_items": null,
      "left": null,
      "margin": null,
      "max_height": null,
      "max_width": null,
      "min_height": null,
      "min_width": null,
      "object_fit": null,
      "object_position": null,
      "order": null,
      "overflow": null,
      "overflow_x": null,
      "overflow_y": null,
      "padding": null,
      "right": null,
      "top": null,
      "visibility": null,
      "width": null
     }
    },
    "c98cb67a628e4a199cfcfdc56cdf9a30": {
     "model_module": "@jupyter-widgets/base",
     "model_name": "LayoutModel",
     "state": {
      "_model_module": "@jupyter-widgets/base",
      "_model_module_version": "1.2.0",
      "_model_name": "LayoutModel",
      "_view_count": null,
      "_view_module": "@jupyter-widgets/base",
      "_view_module_version": "1.2.0",
      "_view_name": "LayoutView",
      "align_content": null,
      "align_items": null,
      "align_self": null,
      "border": null,
      "bottom": null,
      "display": null,
      "flex": null,
      "flex_flow": null,
      "grid_area": null,
      "grid_auto_columns": null,
      "grid_auto_flow": null,
      "grid_auto_rows": null,
      "grid_column": null,
      "grid_gap": null,
      "grid_row": null,
      "grid_template_areas": null,
      "grid_template_columns": null,
      "grid_template_rows": null,
      "height": null,
      "justify_content": null,
      "justify_items": null,
      "left": null,
      "margin": null,
      "max_height": null,
      "max_width": null,
      "min_height": null,
      "min_width": null,
      "object_fit": null,
      "object_position": null,
      "order": null,
      "overflow": null,
      "overflow_x": null,
      "overflow_y": null,
      "padding": null,
      "right": null,
      "top": null,
      "visibility": null,
      "width": null
     }
    },
    "cd99156109274242b5893441f96b1ede": {
     "model_module": "@jupyter-widgets/base",
     "model_name": "LayoutModel",
     "state": {
      "_model_module": "@jupyter-widgets/base",
      "_model_module_version": "1.2.0",
      "_model_name": "LayoutModel",
      "_view_count": null,
      "_view_module": "@jupyter-widgets/base",
      "_view_module_version": "1.2.0",
      "_view_name": "LayoutView",
      "align_content": null,
      "align_items": null,
      "align_self": null,
      "border": null,
      "bottom": null,
      "display": null,
      "flex": null,
      "flex_flow": null,
      "grid_area": null,
      "grid_auto_columns": null,
      "grid_auto_flow": null,
      "grid_auto_rows": null,
      "grid_column": null,
      "grid_gap": null,
      "grid_row": null,
      "grid_template_areas": null,
      "grid_template_columns": null,
      "grid_template_rows": null,
      "height": null,
      "justify_content": null,
      "justify_items": null,
      "left": null,
      "margin": null,
      "max_height": null,
      "max_width": null,
      "min_height": null,
      "min_width": null,
      "object_fit": null,
      "object_position": null,
      "order": null,
      "overflow": null,
      "overflow_x": null,
      "overflow_y": null,
      "padding": null,
      "right": null,
      "top": null,
      "visibility": null,
      "width": null
     }
    },
    "d464f38dc27d4d449e293ce657bf8b59": {
     "model_module": "@jupyter-widgets/base",
     "model_name": "LayoutModel",
     "state": {
      "_model_module": "@jupyter-widgets/base",
      "_model_module_version": "1.2.0",
      "_model_name": "LayoutModel",
      "_view_count": null,
      "_view_module": "@jupyter-widgets/base",
      "_view_module_version": "1.2.0",
      "_view_name": "LayoutView",
      "align_content": null,
      "align_items": null,
      "align_self": null,
      "border": null,
      "bottom": null,
      "display": null,
      "flex": null,
      "flex_flow": null,
      "grid_area": null,
      "grid_auto_columns": null,
      "grid_auto_flow": null,
      "grid_auto_rows": null,
      "grid_column": null,
      "grid_gap": null,
      "grid_row": null,
      "grid_template_areas": null,
      "grid_template_columns": null,
      "grid_template_rows": null,
      "height": null,
      "justify_content": null,
      "justify_items": null,
      "left": null,
      "margin": null,
      "max_height": null,
      "max_width": null,
      "min_height": null,
      "min_width": null,
      "object_fit": null,
      "object_position": null,
      "order": null,
      "overflow": null,
      "overflow_x": null,
      "overflow_y": null,
      "padding": null,
      "right": null,
      "top": null,
      "visibility": null,
      "width": null
     }
    },
    "d7d046b4430a4a65a571b1250c983a0f": {
     "model_module": "@jupyter-widgets/base",
     "model_name": "LayoutModel",
     "state": {
      "_model_module": "@jupyter-widgets/base",
      "_model_module_version": "1.2.0",
      "_model_name": "LayoutModel",
      "_view_count": null,
      "_view_module": "@jupyter-widgets/base",
      "_view_module_version": "1.2.0",
      "_view_name": "LayoutView",
      "align_content": null,
      "align_items": null,
      "align_self": null,
      "border": null,
      "bottom": null,
      "display": null,
      "flex": null,
      "flex_flow": null,
      "grid_area": null,
      "grid_auto_columns": null,
      "grid_auto_flow": null,
      "grid_auto_rows": null,
      "grid_column": null,
      "grid_gap": null,
      "grid_row": null,
      "grid_template_areas": null,
      "grid_template_columns": null,
      "grid_template_rows": null,
      "height": null,
      "justify_content": null,
      "justify_items": null,
      "left": null,
      "margin": null,
      "max_height": null,
      "max_width": null,
      "min_height": null,
      "min_width": null,
      "object_fit": null,
      "object_position": null,
      "order": null,
      "overflow": null,
      "overflow_x": null,
      "overflow_y": null,
      "padding": null,
      "right": null,
      "top": null,
      "visibility": null,
      "width": null
     }
    },
    "d7e0116044ec42c7aab0849efa03efc1": {
     "model_module": "@jupyter-widgets/base",
     "model_name": "LayoutModel",
     "state": {
      "_model_module": "@jupyter-widgets/base",
      "_model_module_version": "1.2.0",
      "_model_name": "LayoutModel",
      "_view_count": null,
      "_view_module": "@jupyter-widgets/base",
      "_view_module_version": "1.2.0",
      "_view_name": "LayoutView",
      "align_content": null,
      "align_items": null,
      "align_self": null,
      "border": null,
      "bottom": null,
      "display": null,
      "flex": null,
      "flex_flow": null,
      "grid_area": null,
      "grid_auto_columns": null,
      "grid_auto_flow": null,
      "grid_auto_rows": null,
      "grid_column": null,
      "grid_gap": null,
      "grid_row": null,
      "grid_template_areas": null,
      "grid_template_columns": null,
      "grid_template_rows": null,
      "height": null,
      "justify_content": null,
      "justify_items": null,
      "left": null,
      "margin": null,
      "max_height": null,
      "max_width": null,
      "min_height": null,
      "min_width": null,
      "object_fit": null,
      "object_position": null,
      "order": null,
      "overflow": null,
      "overflow_x": null,
      "overflow_y": null,
      "padding": null,
      "right": null,
      "top": null,
      "visibility": null,
      "width": null
     }
    },
    "daa757366bfa43b2b38de4ff0cebcf72": {
     "model_module": "@jupyter-widgets/controls",
     "model_name": "FloatProgressModel",
     "state": {
      "_dom_classes": [],
      "_model_module": "@jupyter-widgets/controls",
      "_model_module_version": "1.5.0",
      "_model_name": "FloatProgressModel",
      "_view_count": null,
      "_view_module": "@jupyter-widgets/controls",
      "_view_module_version": "1.5.0",
      "_view_name": "ProgressView",
      "bar_style": "success",
      "description": "",
      "description_tooltip": null,
      "layout": "IPY_MODEL_37c29eed0b334e7395984ab166cbbf41",
      "max": 1648877,
      "min": 0,
      "orientation": "horizontal",
      "style": "IPY_MODEL_8a03b6f56bd4468485db852ff12b9390",
      "value": 1648877
     }
    },
    "db70812bc65a4fe3a639710ed36a0713": {
     "model_module": "@jupyter-widgets/controls",
     "model_name": "HTMLModel",
     "state": {
      "_dom_classes": [],
      "_model_module": "@jupyter-widgets/controls",
      "_model_module_version": "1.5.0",
      "_model_name": "HTMLModel",
      "_view_count": null,
      "_view_module": "@jupyter-widgets/controls",
      "_view_module_version": "1.5.0",
      "_view_name": "HTMLView",
      "description": "",
      "description_tooltip": null,
      "layout": "IPY_MODEL_a5bbf91aa2dc44cba20531d2e9c38951",
      "placeholder": "​",
      "style": "IPY_MODEL_dc2aee6ca4fb437da126ab28fa301668",
      "value": " 5120/? [00:49&lt;00:00, 102.76it/s]"
     }
    },
    "dc2aee6ca4fb437da126ab28fa301668": {
     "model_module": "@jupyter-widgets/controls",
     "model_name": "DescriptionStyleModel",
     "state": {
      "_model_module": "@jupyter-widgets/controls",
      "_model_module_version": "1.5.0",
      "_model_name": "DescriptionStyleModel",
      "_view_count": null,
      "_view_module": "@jupyter-widgets/base",
      "_view_module_version": "1.2.0",
      "_view_name": "StyleView",
      "description_width": ""
     }
    },
    "dc302a0778ae42dd835d01c74995d624": {
     "model_module": "@jupyter-widgets/controls",
     "model_name": "ProgressStyleModel",
     "state": {
      "_model_module": "@jupyter-widgets/controls",
      "_model_module_version": "1.5.0",
      "_model_name": "ProgressStyleModel",
      "_view_count": null,
      "_view_module": "@jupyter-widgets/base",
      "_view_module_version": "1.2.0",
      "_view_name": "StyleView",
      "bar_color": null,
      "description_width": "initial"
     }
    }
   }
  }
 },
 "nbformat": 4,
 "nbformat_minor": 1
}
