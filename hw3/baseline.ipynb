{
 "cells": [
  {
   "cell_type": "code",
   "execution_count": 23,
   "metadata": {
    "id": "6tyOG9msLlmh"
   },
   "outputs": [],
   "source": [
    "import torch\n",
    "import torch.nn as nn\n",
    "from torch.utils.data import DataLoader\n",
    "import torchvision.transforms as transforms\n",
    "import torchvision.datasets as data_sets\n",
    "from torch.utils.data import random_split\n",
    "from torchvision.utils import make_grid\n",
    "import torch.nn.functional as F\n",
    "from torch.autograd import Variable\n",
    "from torch.optim.lr_scheduler import StepLR\n",
    "\n",
    "from bokeh.plotting import figure\n",
    "from bokeh.io import show\n",
    "from bokeh.models import LinearAxis, Range1d\n",
    "import numpy as np\n",
    "import sklearn.metrics as sk\n",
    "\n",
    "import matplotlib\n",
    "import matplotlib.pyplot as plt\n",
    "\n",
    "import warnings\n",
    "warnings.filterwarnings('ignore')"
   ]
  },
  {
   "cell_type": "markdown",
   "metadata": {
    "id": "ej95HGdHgYhu"
   },
   "source": [
    "downloading data"
   ]
  },
  {
   "cell_type": "code",
   "execution_count": 2,
   "metadata": {
    "colab": {
     "base_uri": "https://localhost:8080/",
     "height": 519,
     "referenced_widgets": [
      "ee5536b55e0148aca201dfaeffc9f86d",
      "2793e13b128743578a2df694e0632ca1",
      "78369a9e5f2a41d2ae569b49a2fd16cd",
      "cebdf091bac141d986c819a7f875fd5c",
      "7839ce16760d469598931824003bc281",
      "73ddb79a4a2f475daeb08542c341bcfd",
      "3fcf8c24258e4caa92d70c7798f744d1",
      "d019173814e448c7b40099a6f2c026ea",
      "b784f2c304d34270b823a63b9eb0b030",
      "5dc4d61d083348e1b6e33662b1b891d5",
      "1e80f7994dff427ebad1b292275862a1",
      "5563606ca8d34c3383752f0d6c6195d4",
      "7e1c9681a2eb43f3b752f1f5cf72f8d3",
      "b0e94bc334ed41d29bc030b4877138e7",
      "e6c78c4b6c094bf883480d6840878319",
      "154e45fbaa944f5a8b37bc94c800bc4e",
      "bdbd54c990a643c7a43353ba0c8911f4",
      "226b1639880143219ee046f9a2c0053b",
      "fcbd192f9ab04e65b044c8272658681f",
      "9004b6ee3fc14994be28a59ae372f0e8",
      "ca965545f9ae40a8bfb0519fcf7fe437",
      "e52b2b1ba6c44c0f9f08441860ea1a9b",
      "75305a29d4094a7881bae4d0ac61cab8",
      "8bed5a27391b464195f30093fb2f0731",
      "292ce58867f544f3b4cbda7beba7f150",
      "4dee7a0788c84ea0b157e92582e0178f",
      "9a966f6e06314c57a783a6423962b142",
      "43476729a32a4692bdb39700fac274ab",
      "6a1222ac2674490a9494055b1262486a",
      "d3113a12f984456dbf0c1d4c030dc859",
      "01390dd514e541c796c45d5b08deae9d",
      "9117fbe4c7664a31a5070ce82aaeaf3f"
     ]
    },
    "id": "_uhfpzeaMAbz",
    "outputId": "aa042ed2-81fb-4ff0-a512-d49546ef6cd4"
   },
   "outputs": [
    {
     "name": "stdout",
     "output_type": "stream",
     "text": [
      "Downloading http://yann.lecun.com/exdb/mnist/train-images-idx3-ubyte.gz\n",
      "Downloading http://yann.lecun.com/exdb/mnist/train-images-idx3-ubyte.gz to mnist/MNIST/raw/train-images-idx3-ubyte.gz\n"
     ]
    },
    {
     "data": {
      "application/vnd.jupyter.widget-view+json": {
       "model_id": "ee5536b55e0148aca201dfaeffc9f86d",
       "version_major": 2,
       "version_minor": 0
      },
      "text/plain": [
       "HBox(children=(FloatProgress(value=0.0, max=9912422.0), HTML(value='')))"
      ]
     },
     "metadata": {
      "tags": []
     },
     "output_type": "display_data"
    },
    {
     "name": "stdout",
     "output_type": "stream",
     "text": [
      "\n",
      "Extracting mnist/MNIST/raw/train-images-idx3-ubyte.gz to mnist/MNIST/raw\n",
      "\n",
      "Downloading http://yann.lecun.com/exdb/mnist/train-labels-idx1-ubyte.gz\n",
      "Downloading http://yann.lecun.com/exdb/mnist/train-labels-idx1-ubyte.gz to mnist/MNIST/raw/train-labels-idx1-ubyte.gz\n"
     ]
    },
    {
     "data": {
      "application/vnd.jupyter.widget-view+json": {
       "model_id": "b784f2c304d34270b823a63b9eb0b030",
       "version_major": 2,
       "version_minor": 0
      },
      "text/plain": [
       "HBox(children=(FloatProgress(value=0.0, max=28881.0), HTML(value='')))"
      ]
     },
     "metadata": {
      "tags": []
     },
     "output_type": "display_data"
    },
    {
     "name": "stdout",
     "output_type": "stream",
     "text": [
      "\n",
      "Extracting mnist/MNIST/raw/train-labels-idx1-ubyte.gz to mnist/MNIST/raw\n",
      "\n",
      "Downloading http://yann.lecun.com/exdb/mnist/t10k-images-idx3-ubyte.gz\n",
      "Downloading http://yann.lecun.com/exdb/mnist/t10k-images-idx3-ubyte.gz to mnist/MNIST/raw/t10k-images-idx3-ubyte.gz\n"
     ]
    },
    {
     "data": {
      "application/vnd.jupyter.widget-view+json": {
       "model_id": "bdbd54c990a643c7a43353ba0c8911f4",
       "version_major": 2,
       "version_minor": 0
      },
      "text/plain": [
       "HBox(children=(FloatProgress(value=0.0, max=1648877.0), HTML(value='')))"
      ]
     },
     "metadata": {
      "tags": []
     },
     "output_type": "display_data"
    },
    {
     "name": "stdout",
     "output_type": "stream",
     "text": [
      "\n",
      "Extracting mnist/MNIST/raw/t10k-images-idx3-ubyte.gz to mnist/MNIST/raw\n",
      "\n",
      "Downloading http://yann.lecun.com/exdb/mnist/t10k-labels-idx1-ubyte.gz\n",
      "Downloading http://yann.lecun.com/exdb/mnist/t10k-labels-idx1-ubyte.gz to mnist/MNIST/raw/t10k-labels-idx1-ubyte.gz\n"
     ]
    },
    {
     "data": {
      "application/vnd.jupyter.widget-view+json": {
       "model_id": "292ce58867f544f3b4cbda7beba7f150",
       "version_major": 2,
       "version_minor": 0
      },
      "text/plain": [
       "HBox(children=(FloatProgress(value=0.0, max=4542.0), HTML(value='')))"
      ]
     },
     "metadata": {
      "tags": []
     },
     "output_type": "display_data"
    },
    {
     "name": "stdout",
     "output_type": "stream",
     "text": [
      "\n",
      "Extracting mnist/MNIST/raw/t10k-labels-idx1-ubyte.gz to mnist/MNIST/raw\n",
      "\n",
      "Processing...\n",
      "Done!\n"
     ]
    }
   ],
   "source": [
    "import torchvision.datasets as data_sets\n",
    "mnist_train_data=data_sets.MNIST('mnist', train=True, download=True, transform=transforms.ToTensor())\n",
    "mnist_test_data=data_sets.MNIST('mnist', train=False, transform=transforms.ToTensor())"
   ]
  },
  {
   "cell_type": "markdown",
   "metadata": {
    "id": "5glShf-YggWW"
   },
   "source": [
    "splitting train data into train and developement sets"
   ]
  },
  {
   "cell_type": "code",
   "execution_count": 3,
   "metadata": {
    "id": "Vi_pLiaNMMC6"
   },
   "outputs": [],
   "source": [
    "developement_size=18000\n",
    "mnist_train_data, mnist_developement_set = random_split(mnist_train_data, [len(mnist_train_data) - developement_size, developement_size])"
   ]
  },
  {
   "cell_type": "code",
   "execution_count": 4,
   "metadata": {
    "colab": {
     "base_uri": "https://localhost:8080/"
    },
    "id": "y2jtDW4sMTHb",
    "outputId": "970cb636-a5a6-4357-a393-d267902150dc"
   },
   "outputs": [
    {
     "name": "stdout",
     "output_type": "stream",
     "text": [
      "Train Dataset : 42000 \n",
      "Validation Dataset: 18000\n"
     ]
    }
   ],
   "source": [
    "print('Train Dataset :', len(mnist_train_data), \"\\nValidation Dataset:\" ,len(mnist_developement_set))"
   ]
  },
  {
   "cell_type": "markdown",
   "metadata": {
    "id": "6OaxshyyglvC"
   },
   "source": [
    "setting batch size as 128"
   ]
  },
  {
   "cell_type": "code",
   "execution_count": 5,
   "metadata": {
    "id": "9xzCJ5KHMZS2"
   },
   "outputs": [],
   "source": [
    "batch_size = 128"
   ]
  },
  {
   "cell_type": "markdown",
   "metadata": {
    "id": "6f5ubDfFgqZs"
   },
   "source": [
    "Loading train test and developement data"
   ]
  },
  {
   "cell_type": "code",
   "execution_count": 6,
   "metadata": {
    "id": "w1ysA_VfMo79"
   },
   "outputs": [],
   "source": [
    "train_data_loader = DataLoader(dataset=mnist_train_data,batch_size= batch_size,num_workers=2,pin_memory=True,shuffle=True)\n",
    "developement_data_loader = DataLoader(dataset = mnist_developement_set,batch_size = batch_size*2,num_workers=2,pin_memory=True)\n",
    "test_data_loader = DataLoader(dataset=mnist_test_data,batch_size= batch_size,num_workers=2,pin_memory=True,shuffle=False)"
   ]
  },
  {
   "cell_type": "code",
   "execution_count": 7,
   "metadata": {
    "colab": {
     "base_uri": "https://localhost:8080/",
     "height": 282
    },
    "id": "lJnZB7oiM1Cq",
    "outputId": "86b49bff-a25a-4e5b-ce0b-d4d5dacb2343"
   },
   "outputs": [
    {
     "data": {
      "text/plain": [
       "<matplotlib.image.AxesImage at 0x7f69fb267210>"
      ]
     },
     "execution_count": 7,
     "metadata": {
      "tags": []
     },
     "output_type": "execute_result"
    },
    {
     "data": {
      "image/png": "[encoded data removed]",
      "text/plain": [
       "<Figure size 432x288 with 1 Axes>"
      ]
     },
     "metadata": {
      "needs_background": "light",
      "tags": []
     },
     "output_type": "display_data"
    }
   ],
   "source": [
    "plt.imshow(mnist_train_data[0][0][0], cmap=\"gray\")"
   ]
  },
  {
   "cell_type": "code",
   "execution_count": 8,
   "metadata": {
    "colab": {
     "base_uri": "https://localhost:8080/",
     "height": 520
    },
    "id": "qgijigQ7MrSW",
    "outputId": "d7d6ae2b-8503-4a01-fb2f-ec542d83b56b"
   },
   "outputs": [
    {
     "name": "stdout",
     "output_type": "stream",
     "text": [
      "Shape of Images: torch.Size([128, 1, 28, 28])\n"
     ]
    },
    {
     "data": {
      "text/plain": [
       "<matplotlib.image.AxesImage at 0x7f69fabbff10>"
      ]
     },
     "execution_count": 8,
     "metadata": {
      "tags": []
     },
     "output_type": "execute_result"
    },
    {
     "data": {
      "image/png": "[encoded data removed]",
      "text/plain": [
       "<Figure size 1152x576 with 1 Axes>"
      ]
     },
     "metadata": {
      "needs_background": "light",
      "tags": []
     },
     "output_type": "display_data"
    }
   ],
   "source": [
    "iterobj = iter(train_data_loader)\n",
    "images, labels = iterobj.next()\n",
    "print('Shape of Images:', images.shape)\n",
    "plt.figure(figsize=(16,8))\n",
    "plt.imshow(make_grid(images, nrow=10).permute((1, 2, 0)))"
   ]
  },
  {
   "cell_type": "markdown",
   "metadata": {
    "id": "wby_dgz-g2hp"
   },
   "source": [
    "building the CNN model with 2 hidden layers, with relu activation, max pooling and 2 fully connected layers with xavier/glorot initialising. "
   ]
  },
  {
   "cell_type": "code",
   "execution_count": 9,
   "metadata": {
    "id": "IKvfMnIuNAnQ"
   },
   "outputs": [],
   "source": [
    "class CNN(nn.Module):\n",
    "    def __init__(self):\n",
    "        super(CNN, self).__init__() \n",
    "        self.conv1 = nn.Conv2d(in_channels=1,out_channels= 32,kernel_size=5,stride=1,padding=2)\n",
    "        self.relu1 = nn.ReLU()\n",
    "        self.maxpool1 = nn.MaxPool2d(kernel_size=2, stride=2)\n",
    "    \n",
    "        self.conv2 = nn.Conv2d(in_channels=32,out_channels=64,kernel_size=5,stride=1,padding=2)    \n",
    "        self.relu2 = nn.ReLU()  \n",
    "        self.maxpool2 = nn.MaxPool2d(kernel_size=2, stride=2)\n",
    "        \n",
    "        self.fc1 = nn.Linear(7 * 7 * 64, 1000)\n",
    "        nn.init.xavier_normal_(self.fc1.weight)\n",
    "        \n",
    "        self.fc2 = nn.Linear(1000, 10)\n",
    "        nn.init.xavier_normal_(self.fc2.weight)\n",
    "\n",
    "    def forward(self, batch_data):\n",
    "        batch_data = self.conv1(batch_data)\n",
    "        batch_data = self.relu1(batch_data)\n",
    "        batch_data = self.maxpool1(batch_data)\n",
    "       \n",
    "        batch_data = self.conv2(batch_data)\n",
    "        batch_data = self.relu2(batch_data)\n",
    "        batch_data = self.maxpool1(batch_data)\n",
    "      \n",
    "        batch_data = batch_data.reshape(batch_data.size(0), -1)\n",
    "    \n",
    "        batch_data = self.fc1(batch_data)\n",
    "        batch_data = self.fc2(batch_data)\n",
    "        return batch_data\n",
    "    \n",
    "    def train_each_batch(self, images, labels):\n",
    "        result = self(images)\n",
    "        loss = Loss(result, labels)\n",
    "        return loss\n",
    "\n",
    "    def develope_each_batch(self, images, labels):\n",
    "        # images =  batch[0]\n",
    "        # labels = batch[1]\n",
    "        result = self(images)                   \n",
    "        loss = Loss(result, labels)\n",
    "        acc = accuracy(result, labels)      \n",
    "        return {'loss_at_end_of_batch': loss, 'acc_at_end_of_batch': acc}\n",
    "      \n",
    "    def develope_at_end_of_epoch(self, results):\n",
    "        losses_at_end_of_batch = [x['loss_at_end_of_batch'] for x in results]\n",
    "        loss_at_end_of_epoch = torch.stack(losses_at_end_of_batch).mean()  \n",
    "        accs_at_each_batch = [x['acc_at_end_of_batch'] for x in results]\n",
    "        acc_at_end_of_epoch = torch.stack(accs_at_each_batch).mean() \n",
    "        return {'loss_at_end_of_epoch': loss_at_end_of_epoch.item(), 'acc_at_end_of_epoch': acc_at_end_of_epoch.item()}\n",
    "\n",
    "    def display_metrics_at_end_of_epoch(self, epoch, result):\n",
    "        print(\"acc_at_end_of_epoch: {:.4f}, loss_at_end_of_epoch: {:.4f}\".format(result['acc_at_end_of_epoch'], result['loss_at_end_of_epoch']))"
   ]
  },
  {
   "cell_type": "markdown",
   "metadata": {
    "id": "avulQHlCg_eL"
   },
   "source": [
    "helper function to calculate accuracy "
   ]
  },
  {
   "cell_type": "code",
   "execution_count": 10,
   "metadata": {
    "id": "HHYWK7IiNRQH"
   },
   "outputs": [],
   "source": [
    "def accuracy(results, labels):\n",
    "    _, predictions = torch.max(results, dim=1)\n",
    "    return torch.tensor(torch.sum(predictions == labels).item() / len(predictions))"
   ]
  },
  {
   "cell_type": "markdown",
   "metadata": {
    "id": "qgGkrM_6hE_5"
   },
   "source": [
    "helper function to validate model with network"
   ]
  },
  {
   "cell_type": "code",
   "execution_count": 11,
   "metadata": {
    "id": "a5OiSFZRNY2Q"
   },
   "outputs": [],
   "source": [
    "def develope(network, developement_data_loader):\n",
    "    results = [network.develope_each_batch(images, labels) for j, (images, labels) in enumerate(developement_data_loader)]\n",
    "    return network.develope_at_end_of_epoch(results)"
   ]
  },
  {
   "cell_type": "markdown",
   "metadata": {
    "id": "I5nt9C2ChNEk"
   },
   "source": [
    "creating an instance of model as network"
   ]
  },
  {
   "cell_type": "code",
   "execution_count": 12,
   "metadata": {
    "id": "oF81HepTQY3Z"
   },
   "outputs": [],
   "source": [
    "network=CNN()"
   ]
  },
  {
   "cell_type": "markdown",
   "metadata": {
    "id": "uDlWFPQnhVN5"
   },
   "source": [
    "setting loss as CrossEntropyLoss, optimizer as schocastic gradient descent with starting learning rate as 0.05 and momentum 0.9 we set schedular with stepLR, for every 10 epochs the learning rates decrease by 0.1"
   ]
  },
  {
   "cell_type": "code",
   "execution_count": 13,
   "metadata": {
    "id": "ZclyZyqxNdeV"
   },
   "outputs": [],
   "source": [
    "Loss = nn.CrossEntropyLoss()\n",
    "optimizer = torch.optim.SGD(network.parameters(), lr = 0.05, momentum = 0.9)\n",
    "scheduler = StepLR(optimizer, step_size=10, gamma=0.1)"
   ]
  },
  {
   "cell_type": "markdown",
   "metadata": {
    "id": "2rbvazL_heL4"
   },
   "source": [
    "train data with epochs and learning rate using helper functions created in CNN class. returns loss and accuracy collected while validating the developement set over all epochs"
   ]
  },
  {
   "cell_type": "code",
   "execution_count": 14,
   "metadata": {
    "id": "xWzgU38xNxqf"
   },
   "outputs": [],
   "source": [
    "def train(epochs, model, train_data_loader, developement_data_loader, optimizer):    \n",
    "    epoch_metrics = []\n",
    "    for epoch in range(epochs): \n",
    "        lr = scheduler.step()\n",
    "        print('Epoch:', epoch,'Learning rate:', scheduler.get_lr())\n",
    "        for j,(images, labels) in enumerate(train_data_loader):\n",
    "            loss = model.train_each_batch(images, labels)\n",
    "            loss.backward()\n",
    "            optimizer.step()\n",
    "            optimizer.zero_grad()\n",
    "        result = develope(model, developement_data_loader)\n",
    "        model.display_metrics_at_end_of_epoch(epoch, result)\n",
    "        epoch_metrics.append(result)\n",
    "        print(\"\\n\")\n",
    "    return epoch_metrics"
   ]
  },
  {
   "cell_type": "markdown",
   "metadata": {
    "id": "5vr_Lt3IhjEI"
   },
   "source": [
    "collecting and displaying accuracy and loss at each epoch"
   ]
  },
  {
   "cell_type": "code",
   "execution_count": 15,
   "metadata": {
    "colab": {
     "base_uri": "https://localhost:8080/"
    },
    "id": "E_M_ZE2yMhRV",
    "outputId": "288434fc-9d1e-4a29-e8a9-567239db2792"
   },
   "outputs": [
    {
     "name": "stdout",
     "output_type": "stream",
     "text": [
      "Epoch: 0 Learning rate: [0.05]\n",
      "acc_at_end_of_epoch: 0.9790, loss_at_end_of_epoch: 0.0678\n",
      "\n",
      "\n",
      "Epoch: 1 Learning rate: [0.05]\n",
      "acc_at_end_of_epoch: 0.9774, loss_at_end_of_epoch: 0.0713\n",
      "\n",
      "\n",
      "Epoch: 2 Learning rate: [0.05]\n",
      "acc_at_end_of_epoch: 0.9830, loss_at_end_of_epoch: 0.0514\n",
      "\n",
      "\n",
      "Epoch: 3 Learning rate: [0.05]\n",
      "acc_at_end_of_epoch: 0.9861, loss_at_end_of_epoch: 0.0453\n",
      "\n",
      "\n",
      "Epoch: 4 Learning rate: [0.05]\n",
      "acc_at_end_of_epoch: 0.9877, loss_at_end_of_epoch: 0.0453\n",
      "\n",
      "\n",
      "Epoch: 5 Learning rate: [0.05]\n",
      "acc_at_end_of_epoch: 0.9878, loss_at_end_of_epoch: 0.0442\n",
      "\n",
      "\n",
      "Epoch: 6 Learning rate: [0.05]\n",
      "acc_at_end_of_epoch: 0.9850, loss_at_end_of_epoch: 0.0550\n",
      "\n",
      "\n",
      "Epoch: 7 Learning rate: [0.05]\n",
      "acc_at_end_of_epoch: 0.9876, loss_at_end_of_epoch: 0.0506\n",
      "\n",
      "\n",
      "Epoch: 8 Learning rate: [0.05]\n",
      "acc_at_end_of_epoch: 0.9840, loss_at_end_of_epoch: 0.0587\n",
      "\n",
      "\n",
      "Epoch: 9 Learning rate: [0.0005000000000000001]\n",
      "acc_at_end_of_epoch: 0.9903, loss_at_end_of_epoch: 0.0392\n",
      "\n",
      "\n"
     ]
    }
   ],
   "source": [
    "metrics_history = train(10, network, train_data_loader, developement_data_loader, optimizer)"
   ]
  },
  {
   "cell_type": "code",
   "execution_count": 16,
   "metadata": {
    "colab": {
     "base_uri": "https://localhost:8080/"
    },
    "id": "rvkyt87PptYE",
    "outputId": "4ed1c67b-3a60-4e55-a90c-441b89e1c18e"
   },
   "outputs": [
    {
     "name": "stdout",
     "output_type": "stream",
     "text": [
      "cpu\n"
     ]
    }
   ],
   "source": [
    "if torch.cuda.is_available():\n",
    "    device=torch.device(\"cuda:0\")\n",
    "else:\n",
    "    device=torch.device(\"cpu\")\n",
    "print(device)"
   ]
  },
  {
   "cell_type": "markdown",
   "metadata": {
    "id": "Fsn9N_V-hrgH"
   },
   "source": [
    "testing the model built"
   ]
  },
  {
   "cell_type": "code",
   "execution_count": 25,
   "metadata": {
    "id": "GtF3Xs7apF1u"
   },
   "outputs": [],
   "source": [
    "def test(network, test_data_loader):\n",
    "  network.eval()\n",
    "  with torch.no_grad():\n",
    "    correct = 0\n",
    "    total = 0\n",
    "    actuals = []\n",
    "    predictions = []\n",
    "    for images, labels in test_data_loader:\n",
    "        images = Variable(images)\n",
    "        results = network(images)\n",
    "        prediction = results.argmax(dim=1, keepdim=True)\n",
    "        actuals.extend(labels.view_as(prediction))\n",
    "        predictions.extend(prediction)\n",
    "    return [i.item() for i in actuals], [i.item() for i in predictions]\n",
    "\n",
    "#     return (correct / total) * 100"
   ]
  },
  {
   "cell_type": "code",
   "execution_count": 26,
   "metadata": {
    "colab": {
     "base_uri": "https://localhost:8080/"
    },
    "id": "9R3XiFuZrUxr",
    "outputId": "3cafc57c-f4b1-4ba9-d3ba-6d8b09adce49"
   },
   "outputs": [
    {
     "name": "stdout",
     "output_type": "stream",
     "text": [
      "After Test : \n",
      "Confusion matrix:\n",
      "[[ 978    0    0    0    0    0    1    1    0    0]\n",
      " [   0 1129    2    0    1    0    2    0    1    0]\n",
      " [   2    1 1022    0    0    0    0    6    1    0]\n",
      " [   1    0    2 1002    0    2    0    1    2    0]\n",
      " [   0    1    1    0  977    0    1    0    0    2]\n",
      " [   1    0    0    4    0  886    1    0    0    0]\n",
      " [   2    2    0    0    2    4  944    0    4    0]\n",
      " [   0    1    3    0    1    0    0 1020    1    2]\n",
      " [   2    0    2    1    0    1    0    1  966    1]\n",
      " [   1    1    0    0    4    5    0    2    1  995]]\n"
     ]
    }
   ],
   "source": [
    "# acc_of_test=test(network, test_data_loader)\n",
    "print(\"After Test : \")\n",
    "# print(\"Accuracy of the model :\",acc_of_test)\n",
    "actuals, predictions = test(network, test_data_loader)\n",
    "print('Confusion matrix:')\n",
    "print(sk.confusion_matrix(actuals, predictions))\n"
   ]
  },
  {
   "cell_type": "code",
   "execution_count": 28,
   "metadata": {
    "colab": {
     "base_uri": "https://localhost:8080/"
    },
    "id": "kicliHZrq4qf",
    "outputId": "c2712877-ed77-48a9-a5b2-ec3f06556f41"
   },
   "outputs": [
    {
     "name": "stdout",
     "output_type": "stream",
     "text": [
      "Accuracy score: 0.991900\n"
     ]
    }
   ],
   "source": [
    "print('Accuracy score: %f' % sk.accuracy_score(actuals, predictions))\n"
   ]
  },
  {
   "cell_type": "code",
   "execution_count": 29,
   "metadata": {
    "colab": {
     "base_uri": "https://localhost:8080/",
     "height": 295
    },
    "id": "t_xmyE-oEwIs",
    "outputId": "8f8555b1-ff5a-44d5-9f21-7838d8d309ad"
   },
   "outputs": [
    {
     "data": {
      "image/png": "[encoded data removed]",
      "text/plain": [
       "<Figure size 432x288 with 1 Axes>"
      ]
     },
     "metadata": {
      "needs_background": "light",
      "tags": []
     },
     "output_type": "display_data"
    }
   ],
   "source": [
    "accs=[x['acc_at_end_of_epoch'] for x in metrics_history]\n",
    "plt.plot(accs, '-x')\n",
    "plt.xlabel('epoch')\n",
    "plt.ylabel('accuracy')\n",
    "plt.title('accuracy vs. No. of epochs');"
   ]
  },
  {
   "cell_type": "code",
   "execution_count": 30,
   "metadata": {
    "colab": {
     "base_uri": "https://localhost:8080/",
     "height": 295
    },
    "id": "fRACAZdjFcD_",
    "outputId": "ff4e88de-b06a-49e6-cff3-38fc30b071fd"
   },
   "outputs": [
    {
     "data": {
      "image/png": "[encoded data removed]",
      "text/plain": [
       "<Figure size 432x288 with 1 Axes>"
      ]
     },
     "metadata": {
      "needs_background": "light",
      "tags": []
     },
     "output_type": "display_data"
    }
   ],
   "source": [
    "losses = [x['loss_at_end_of_epoch'] for x in metrics_history]\n",
    "plt.plot(losses, '-x')\n",
    "plt.xlabel('epoch')\n",
    "plt.ylabel('loss')\n",
    "plt.title('Loss vs. No. of epochs');"
   ]
  },
  {
   "cell_type": "markdown",
   "metadata": {
    "id": "hugt5rUIk2CX"
   },
   "source": [
    "Baseline:\n",
    "\n",
    "the baseline model reasonably fits the data, the accuracy obtained after test is around 99.2%\n",
    "this model was run only for 10 epochs, and as shown above the learning rate does change at the last epoch by the gamma value as specified in the schedular. We couldnt run it for more epochs as there was a hardware limit, and our system was responding really slowly. \n",
    "\n",
    "But as we understand it, if we were to run it for more epochs, with learning rate changing every 10 epochs, we could have achieved accuracy which is almost 100. "
   ]
  }
 ],
 "metadata": {
  "colab": {
   "collapsed_sections": [],
   "name": "baseline.ipynb",
   "provenance": []
  },
  "kernelspec": {
   "display_name": "Python 3",
   "language": "python",
   "name": "python3"
  },
  "language_info": {
   "codemirror_mode": {
    "name": "ipython",
    "version": 3
   },
   "file_extension": ".py",
   "mimetype": "text/x-python",
   "name": "python",
   "nbconvert_exporter": "python",
   "pygments_lexer": "ipython3",
   "version": "3.8.5"
  },
  "widgets": {
   "application/vnd.jupyter.widget-state+json": {
    "01390dd514e541c796c45d5b08deae9d": {
     "model_module": "@jupyter-widgets/controls",
     "model_name": "DescriptionStyleModel",
     "state": {
      "_model_module": "@jupyter-widgets/controls",
      "_model_module_version": "1.5.0",
      "_model_name": "DescriptionStyleModel",
      "_view_count": null,
      "_view_module": "@jupyter-widgets/base",
      "_view_module_version": "1.2.0",
      "_view_name": "StyleView",
      "description_width": ""
     }
    },
    "154e45fbaa944f5a8b37bc94c800bc4e": {
     "model_module": "@jupyter-widgets/base",
     "model_name": "LayoutModel",
     "state": {
      "_model_module": "@jupyter-widgets/base",
      "_model_module_version": "1.2.0",
      "_model_name": "LayoutModel",
      "_view_count": null,
      "_view_module": "@jupyter-widgets/base",
      "_view_module_version": "1.2.0",
      "_view_name": "LayoutView",
      "align_content": null,
      "align_items": null,
      "align_self": null,
      "border": null,
      "bottom": null,
      "display": null,
      "flex": null,
      "flex_flow": null,
      "grid_area": null,
      "grid_auto_columns": null,
      "grid_auto_flow": null,
      "grid_auto_rows": null,
      "grid_column": null,
      "grid_gap": null,
      "grid_row": null,
      "grid_template_areas": null,
      "grid_template_columns": null,
      "grid_template_rows": null,
      "height": null,
      "justify_content": null,
      "justify_items": null,
      "left": null,
      "margin": null,
      "max_height": null,
      "max_width": null,
      "min_height": null,
      "min_width": null,
      "object_fit": null,
      "object_position": null,
      "order": null,
      "overflow": null,
      "overflow_x": null,
      "overflow_y": null,
      "padding": null,
      "right": null,
      "top": null,
      "visibility": null,
      "width": null
     }
    },
    "1e80f7994dff427ebad1b292275862a1": {
     "model_module": "@jupyter-widgets/controls",
     "model_name": "FloatProgressModel",
     "state": {
      "_dom_classes": [],
      "_model_module": "@jupyter-widgets/controls",
      "_model_module_version": "1.5.0",
      "_model_name": "FloatProgressModel",
      "_view_count": null,
      "_view_module": "@jupyter-widgets/controls",
      "_view_module_version": "1.5.0",
      "_view_name": "ProgressView",
      "bar_style": "success",
      "description": "",
      "description_tooltip": null,
      "layout": "IPY_MODEL_b0e94bc334ed41d29bc030b4877138e7",
      "max": 28881,
      "min": 0,
      "orientation": "horizontal",
      "style": "IPY_MODEL_7e1c9681a2eb43f3b752f1f5cf72f8d3",
      "value": 28881
     }
    },
    "226b1639880143219ee046f9a2c0053b": {
     "model_module": "@jupyter-widgets/base",
     "model_name": "LayoutModel",
     "state": {
      "_model_module": "@jupyter-widgets/base",
      "_model_module_version": "1.2.0",
      "_model_name": "LayoutModel",
      "_view_count": null,
      "_view_module": "@jupyter-widgets/base",
      "_view_module_version": "1.2.0",
      "_view_name": "LayoutView",
      "align_content": null,
      "align_items": null,
      "align_self": null,
      "border": null,
      "bottom": null,
      "display": null,
      "flex": null,
      "flex_flow": null,
      "grid_area": null,
      "grid_auto_columns": null,
      "grid_auto_flow": null,
      "grid_auto_rows": null,
      "grid_column": null,
      "grid_gap": null,
      "grid_row": null,
      "grid_template_areas": null,
      "grid_template_columns": null,
      "grid_template_rows": null,
      "height": null,
      "justify_content": null,
      "justify_items": null,
      "left": null,
      "margin": null,
      "max_height": null,
      "max_width": null,
      "min_height": null,
      "min_width": null,
      "object_fit": null,
      "object_position": null,
      "order": null,
      "overflow": null,
      "overflow_x": null,
      "overflow_y": null,
      "padding": null,
      "right": null,
      "top": null,
      "visibility": null,
      "width": null
     }
    },
    "2793e13b128743578a2df694e0632ca1": {
     "model_module": "@jupyter-widgets/base",
     "model_name": "LayoutModel",
     "state": {
      "_model_module": "@jupyter-widgets/base",
      "_model_module_version": "1.2.0",
      "_model_name": "LayoutModel",
      "_view_count": null,
      "_view_module": "@jupyter-widgets/base",
      "_view_module_version": "1.2.0",
      "_view_name": "LayoutView",
      "align_content": null,
      "align_items": null,
      "align_self": null,
      "border": null,
      "bottom": null,
      "display": null,
      "flex": null,
      "flex_flow": null,
      "grid_area": null,
      "grid_auto_columns": null,
      "grid_auto_flow": null,
      "grid_auto_rows": null,
      "grid_column": null,
      "grid_gap": null,
      "grid_row": null,
      "grid_template_areas": null,
      "grid_template_columns": null,
      "grid_template_rows": null,
      "height": null,
      "justify_content": null,
      "justify_items": null,
      "left": null,
      "margin": null,
      "max_height": null,
      "max_width": null,
      "min_height": null,
      "min_width": null,
      "object_fit": null,
      "object_position": null,
      "order": null,
      "overflow": null,
      "overflow_x": null,
      "overflow_y": null,
      "padding": null,
      "right": null,
      "top": null,
      "visibility": null,
      "width": null
     }
    },
    "292ce58867f544f3b4cbda7beba7f150": {
     "model_module": "@jupyter-widgets/controls",
     "model_name": "HBoxModel",
     "state": {
      "_dom_classes": [],
      "_model_module": "@jupyter-widgets/controls",
      "_model_module_version": "1.5.0",
      "_model_name": "HBoxModel",
      "_view_count": null,
      "_view_module": "@jupyter-widgets/controls",
      "_view_module_version": "1.5.0",
      "_view_name": "HBoxView",
      "box_style": "",
      "children": [
       "IPY_MODEL_9a966f6e06314c57a783a6423962b142",
       "IPY_MODEL_43476729a32a4692bdb39700fac274ab"
      ],
      "layout": "IPY_MODEL_4dee7a0788c84ea0b157e92582e0178f"
     }
    },
    "3fcf8c24258e4caa92d70c7798f744d1": {
     "model_module": "@jupyter-widgets/controls",
     "model_name": "DescriptionStyleModel",
     "state": {
      "_model_module": "@jupyter-widgets/controls",
      "_model_module_version": "1.5.0",
      "_model_name": "DescriptionStyleModel",
      "_view_count": null,
      "_view_module": "@jupyter-widgets/base",
      "_view_module_version": "1.2.0",
      "_view_name": "StyleView",
      "description_width": ""
     }
    },
    "43476729a32a4692bdb39700fac274ab": {
     "model_module": "@jupyter-widgets/controls",
     "model_name": "HTMLModel",
     "state": {
      "_dom_classes": [],
      "_model_module": "@jupyter-widgets/controls",
      "_model_module_version": "1.5.0",
      "_model_name": "HTMLModel",
      "_view_count": null,
      "_view_module": "@jupyter-widgets/controls",
      "_view_module_version": "1.5.0",
      "_view_name": "HTMLView",
      "description": "",
      "description_tooltip": null,
      "layout": "IPY_MODEL_9117fbe4c7664a31a5070ce82aaeaf3f",
      "placeholder": "​",
      "style": "IPY_MODEL_01390dd514e541c796c45d5b08deae9d",
      "value": " 5120/? [00:17&lt;00:00, 290.74it/s]"
     }
    },
    "4dee7a0788c84ea0b157e92582e0178f": {
     "model_module": "@jupyter-widgets/base",
     "model_name": "LayoutModel",
     "state": {
      "_model_module": "@jupyter-widgets/base",
      "_model_module_version": "1.2.0",
      "_model_name": "LayoutModel",
      "_view_count": null,
      "_view_module": "@jupyter-widgets/base",
      "_view_module_version": "1.2.0",
      "_view_name": "LayoutView",
      "align_content": null,
      "align_items": null,
      "align_self": null,
      "border": null,
      "bottom": null,
      "display": null,
      "flex": null,
      "flex_flow": null,
      "grid_area": null,
      "grid_auto_columns": null,
      "grid_auto_flow": null,
      "grid_auto_rows": null,
      "grid_column": null,
      "grid_gap": null,
      "grid_row": null,
      "grid_template_areas": null,
      "grid_template_columns": null,
      "grid_template_rows": null,
      "height": null,
      "justify_content": null,
      "justify_items": null,
      "left": null,
      "margin": null,
      "max_height": null,
      "max_width": null,
      "min_height": null,
      "min_width": null,
      "object_fit": null,
      "object_position": null,
      "order": null,
      "overflow": null,
      "overflow_x": null,
      "overflow_y": null,
      "padding": null,
      "right": null,
      "top": null,
      "visibility": null,
      "width": null
     }
    },
    "5563606ca8d34c3383752f0d6c6195d4": {
     "model_module": "@jupyter-widgets/controls",
     "model_name": "HTMLModel",
     "state": {
      "_dom_classes": [],
      "_model_module": "@jupyter-widgets/controls",
      "_model_module_version": "1.5.0",
      "_model_name": "HTMLModel",
      "_view_count": null,
      "_view_module": "@jupyter-widgets/controls",
      "_view_module_version": "1.5.0",
      "_view_name": "HTMLView",
      "description": "",
      "description_tooltip": null,
      "layout": "IPY_MODEL_154e45fbaa944f5a8b37bc94c800bc4e",
      "placeholder": "​",
      "style": "IPY_MODEL_e6c78c4b6c094bf883480d6840878319",
      "value": " 29696/? [01:34&lt;00:00, 314.62it/s]"
     }
    },
    "5dc4d61d083348e1b6e33662b1b891d5": {
     "model_module": "@jupyter-widgets/base",
     "model_name": "LayoutModel",
     "state": {
      "_model_module": "@jupyter-widgets/base",
      "_model_module_version": "1.2.0",
      "_model_name": "LayoutModel",
      "_view_count": null,
      "_view_module": "@jupyter-widgets/base",
      "_view_module_version": "1.2.0",
      "_view_name": "LayoutView",
      "align_content": null,
      "align_items": null,
      "align_self": null,
      "border": null,
      "bottom": null,
      "display": null,
      "flex": null,
      "flex_flow": null,
      "grid_area": null,
      "grid_auto_columns": null,
      "grid_auto_flow": null,
      "grid_auto_rows": null,
      "grid_column": null,
      "grid_gap": null,
      "grid_row": null,
      "grid_template_areas": null,
      "grid_template_columns": null,
      "grid_template_rows": null,
      "height": null,
      "justify_content": null,
      "justify_items": null,
      "left": null,
      "margin": null,
      "max_height": null,
      "max_width": null,
      "min_height": null,
      "min_width": null,
      "object_fit": null,
      "object_position": null,
      "order": null,
      "overflow": null,
      "overflow_x": null,
      "overflow_y": null,
      "padding": null,
      "right": null,
      "top": null,
      "visibility": null,
      "width": null
     }
    },
    "6a1222ac2674490a9494055b1262486a": {
     "model_module": "@jupyter-widgets/controls",
     "model_name": "ProgressStyleModel",
     "state": {
      "_model_module": "@jupyter-widgets/controls",
      "_model_module_version": "1.5.0",
      "_model_name": "ProgressStyleModel",
      "_view_count": null,
      "_view_module": "@jupyter-widgets/base",
      "_view_module_version": "1.2.0",
      "_view_name": "StyleView",
      "bar_color": null,
      "description_width": "initial"
     }
    },
    "73ddb79a4a2f475daeb08542c341bcfd": {
     "model_module": "@jupyter-widgets/base",
     "model_name": "LayoutModel",
     "state": {
      "_model_module": "@jupyter-widgets/base",
      "_model_module_version": "1.2.0",
      "_model_name": "LayoutModel",
      "_view_count": null,
      "_view_module": "@jupyter-widgets/base",
      "_view_module_version": "1.2.0",
      "_view_name": "LayoutView",
      "align_content": null,
      "align_items": null,
      "align_self": null,
      "border": null,
      "bottom": null,
      "display": null,
      "flex": null,
      "flex_flow": null,
      "grid_area": null,
      "grid_auto_columns": null,
      "grid_auto_flow": null,
      "grid_auto_rows": null,
      "grid_column": null,
      "grid_gap": null,
      "grid_row": null,
      "grid_template_areas": null,
      "grid_template_columns": null,
      "grid_template_rows": null,
      "height": null,
      "justify_content": null,
      "justify_items": null,
      "left": null,
      "margin": null,
      "max_height": null,
      "max_width": null,
      "min_height": null,
      "min_width": null,
      "object_fit": null,
      "object_position": null,
      "order": null,
      "overflow": null,
      "overflow_x": null,
      "overflow_y": null,
      "padding": null,
      "right": null,
      "top": null,
      "visibility": null,
      "width": null
     }
    },
    "75305a29d4094a7881bae4d0ac61cab8": {
     "model_module": "@jupyter-widgets/controls",
     "model_name": "DescriptionStyleModel",
     "state": {
      "_model_module": "@jupyter-widgets/controls",
      "_model_module_version": "1.5.0",
      "_model_name": "DescriptionStyleModel",
      "_view_count": null,
      "_view_module": "@jupyter-widgets/base",
      "_view_module_version": "1.2.0",
      "_view_name": "StyleView",
      "description_width": ""
     }
    },
    "78369a9e5f2a41d2ae569b49a2fd16cd": {
     "model_module": "@jupyter-widgets/controls",
     "model_name": "FloatProgressModel",
     "state": {
      "_dom_classes": [],
      "_model_module": "@jupyter-widgets/controls",
      "_model_module_version": "1.5.0",
      "_model_name": "FloatProgressModel",
      "_view_count": null,
      "_view_module": "@jupyter-widgets/controls",
      "_view_module_version": "1.5.0",
      "_view_name": "ProgressView",
      "bar_style": "success",
      "description": "",
      "description_tooltip": null,
      "layout": "IPY_MODEL_73ddb79a4a2f475daeb08542c341bcfd",
      "max": 9912422,
      "min": 0,
      "orientation": "horizontal",
      "style": "IPY_MODEL_7839ce16760d469598931824003bc281",
      "value": 9912422
     }
    },
    "7839ce16760d469598931824003bc281": {
     "model_module": "@jupyter-widgets/controls",
     "model_name": "ProgressStyleModel",
     "state": {
      "_model_module": "@jupyter-widgets/controls",
      "_model_module_version": "1.5.0",
      "_model_name": "ProgressStyleModel",
      "_view_count": null,
      "_view_module": "@jupyter-widgets/base",
      "_view_module_version": "1.2.0",
      "_view_name": "StyleView",
      "bar_color": null,
      "description_width": "initial"
     }
    },
    "7e1c9681a2eb43f3b752f1f5cf72f8d3": {
     "model_module": "@jupyter-widgets/controls",
     "model_name": "ProgressStyleModel",
     "state": {
      "_model_module": "@jupyter-widgets/controls",
      "_model_module_version": "1.5.0",
      "_model_name": "ProgressStyleModel",
      "_view_count": null,
      "_view_module": "@jupyter-widgets/base",
      "_view_module_version": "1.2.0",
      "_view_name": "StyleView",
      "bar_color": null,
      "description_width": "initial"
     }
    },
    "8bed5a27391b464195f30093fb2f0731": {
     "model_module": "@jupyter-widgets/base",
     "model_name": "LayoutModel",
     "state": {
      "_model_module": "@jupyter-widgets/base",
      "_model_module_version": "1.2.0",
      "_model_name": "LayoutModel",
      "_view_count": null,
      "_view_module": "@jupyter-widgets/base",
      "_view_module_version": "1.2.0",
      "_view_name": "LayoutView",
      "align_content": null,
      "align_items": null,
      "align_self": null,
      "border": null,
      "bottom": null,
      "display": null,
      "flex": null,
      "flex_flow": null,
      "grid_area": null,
      "grid_auto_columns": null,
      "grid_auto_flow": null,
      "grid_auto_rows": null,
      "grid_column": null,
      "grid_gap": null,
      "grid_row": null,
      "grid_template_areas": null,
      "grid_template_columns": null,
      "grid_template_rows": null,
      "height": null,
      "justify_content": null,
      "justify_items": null,
      "left": null,
      "margin": null,
      "max_height": null,
      "max_width": null,
      "min_height": null,
      "min_width": null,
      "object_fit": null,
      "object_position": null,
      "order": null,
      "overflow": null,
      "overflow_x": null,
      "overflow_y": null,
      "padding": null,
      "right": null,
      "top": null,
      "visibility": null,
      "width": null
     }
    },
    "9004b6ee3fc14994be28a59ae372f0e8": {
     "model_module": "@jupyter-widgets/controls",
     "model_name": "HTMLModel",
     "state": {
      "_dom_classes": [],
      "_model_module": "@jupyter-widgets/controls",
      "_model_module_version": "1.5.0",
      "_model_name": "HTMLModel",
      "_view_count": null,
      "_view_module": "@jupyter-widgets/controls",
      "_view_module_version": "1.5.0",
      "_view_name": "HTMLView",
      "description": "",
      "description_tooltip": null,
      "layout": "IPY_MODEL_8bed5a27391b464195f30093fb2f0731",
      "placeholder": "​",
      "style": "IPY_MODEL_75305a29d4094a7881bae4d0ac61cab8",
      "value": " 1649664/? [00:36&lt;00:00, 45467.61it/s]"
     }
    },
    "9117fbe4c7664a31a5070ce82aaeaf3f": {
     "model_module": "@jupyter-widgets/base",
     "model_name": "LayoutModel",
     "state": {
      "_model_module": "@jupyter-widgets/base",
      "_model_module_version": "1.2.0",
      "_model_name": "LayoutModel",
      "_view_count": null,
      "_view_module": "@jupyter-widgets/base",
      "_view_module_version": "1.2.0",
      "_view_name": "LayoutView",
      "align_content": null,
      "align_items": null,
      "align_self": null,
      "border": null,
      "bottom": null,
      "display": null,
      "flex": null,
      "flex_flow": null,
      "grid_area": null,
      "grid_auto_columns": null,
      "grid_auto_flow": null,
      "grid_auto_rows": null,
      "grid_column": null,
      "grid_gap": null,
      "grid_row": null,
      "grid_template_areas": null,
      "grid_template_columns": null,
      "grid_template_rows": null,
      "height": null,
      "justify_content": null,
      "justify_items": null,
      "left": null,
      "margin": null,
      "max_height": null,
      "max_width": null,
      "min_height": null,
      "min_width": null,
      "object_fit": null,
      "object_position": null,
      "order": null,
      "overflow": null,
      "overflow_x": null,
      "overflow_y": null,
      "padding": null,
      "right": null,
      "top": null,
      "visibility": null,
      "width": null
     }
    },
    "9a966f6e06314c57a783a6423962b142": {
     "model_module": "@jupyter-widgets/controls",
     "model_name": "FloatProgressModel",
     "state": {
      "_dom_classes": [],
      "_model_module": "@jupyter-widgets/controls",
      "_model_module_version": "1.5.0",
      "_model_name": "FloatProgressModel",
      "_view_count": null,
      "_view_module": "@jupyter-widgets/controls",
      "_view_module_version": "1.5.0",
      "_view_name": "ProgressView",
      "bar_style": "success",
      "description": "",
      "description_tooltip": null,
      "layout": "IPY_MODEL_d3113a12f984456dbf0c1d4c030dc859",
      "max": 4542,
      "min": 0,
      "orientation": "horizontal",
      "style": "IPY_MODEL_6a1222ac2674490a9494055b1262486a",
      "value": 4542
     }
    },
    "b0e94bc334ed41d29bc030b4877138e7": {
     "model_module": "@jupyter-widgets/base",
     "model_name": "LayoutModel",
     "state": {
      "_model_module": "@jupyter-widgets/base",
      "_model_module_version": "1.2.0",
      "_model_name": "LayoutModel",
      "_view_count": null,
      "_view_module": "@jupyter-widgets/base",
      "_view_module_version": "1.2.0",
      "_view_name": "LayoutView",
      "align_content": null,
      "align_items": null,
      "align_self": null,
      "border": null,
      "bottom": null,
      "display": null,
      "flex": null,
      "flex_flow": null,
      "grid_area": null,
      "grid_auto_columns": null,
      "grid_auto_flow": null,
      "grid_auto_rows": null,
      "grid_column": null,
      "grid_gap": null,
      "grid_row": null,
      "grid_template_areas": null,
      "grid_template_columns": null,
      "grid_template_rows": null,
      "height": null,
      "justify_content": null,
      "justify_items": null,
      "left": null,
      "margin": null,
      "max_height": null,
      "max_width": null,
      "min_height": null,
      "min_width": null,
      "object_fit": null,
      "object_position": null,
      "order": null,
      "overflow": null,
      "overflow_x": null,
      "overflow_y": null,
      "padding": null,
      "right": null,
      "top": null,
      "visibility": null,
      "width": null
     }
    },
    "b784f2c304d34270b823a63b9eb0b030": {
     "model_module": "@jupyter-widgets/controls",
     "model_name": "HBoxModel",
     "state": {
      "_dom_classes": [],
      "_model_module": "@jupyter-widgets/controls",
      "_model_module_version": "1.5.0",
      "_model_name": "HBoxModel",
      "_view_count": null,
      "_view_module": "@jupyter-widgets/controls",
      "_view_module_version": "1.5.0",
      "_view_name": "HBoxView",
      "box_style": "",
      "children": [
       "IPY_MODEL_1e80f7994dff427ebad1b292275862a1",
       "IPY_MODEL_5563606ca8d34c3383752f0d6c6195d4"
      ],
      "layout": "IPY_MODEL_5dc4d61d083348e1b6e33662b1b891d5"
     }
    },
    "bdbd54c990a643c7a43353ba0c8911f4": {
     "model_module": "@jupyter-widgets/controls",
     "model_name": "HBoxModel",
     "state": {
      "_dom_classes": [],
      "_model_module": "@jupyter-widgets/controls",
      "_model_module_version": "1.5.0",
      "_model_name": "HBoxModel",
      "_view_count": null,
      "_view_module": "@jupyter-widgets/controls",
      "_view_module_version": "1.5.0",
      "_view_name": "HBoxView",
      "box_style": "",
      "children": [
       "IPY_MODEL_fcbd192f9ab04e65b044c8272658681f",
       "IPY_MODEL_9004b6ee3fc14994be28a59ae372f0e8"
      ],
      "layout": "IPY_MODEL_226b1639880143219ee046f9a2c0053b"
     }
    },
    "ca965545f9ae40a8bfb0519fcf7fe437": {
     "model_module": "@jupyter-widgets/controls",
     "model_name": "ProgressStyleModel",
     "state": {
      "_model_module": "@jupyter-widgets/controls",
      "_model_module_version": "1.5.0",
      "_model_name": "ProgressStyleModel",
      "_view_count": null,
      "_view_module": "@jupyter-widgets/base",
      "_view_module_version": "1.2.0",
      "_view_name": "StyleView",
      "bar_color": null,
      "description_width": "initial"
     }
    },
    "cebdf091bac141d986c819a7f875fd5c": {
     "model_module": "@jupyter-widgets/controls",
     "model_name": "HTMLModel",
     "state": {
      "_dom_classes": [],
      "_model_module": "@jupyter-widgets/controls",
      "_model_module_version": "1.5.0",
      "_model_name": "HTMLModel",
      "_view_count": null,
      "_view_module": "@jupyter-widgets/controls",
      "_view_module_version": "1.5.0",
      "_view_name": "HTMLView",
      "description": "",
      "description_tooltip": null,
      "layout": "IPY_MODEL_d019173814e448c7b40099a6f2c026ea",
      "placeholder": "​",
      "style": "IPY_MODEL_3fcf8c24258e4caa92d70c7798f744d1",
      "value": " 9913344/? [05:00&lt;00:00, 32965.78it/s]"
     }
    },
    "d019173814e448c7b40099a6f2c026ea": {
     "model_module": "@jupyter-widgets/base",
     "model_name": "LayoutModel",
     "state": {
      "_model_module": "@jupyter-widgets/base",
      "_model_module_version": "1.2.0",
      "_model_name": "LayoutModel",
      "_view_count": null,
      "_view_module": "@jupyter-widgets/base",
      "_view_module_version": "1.2.0",
      "_view_name": "LayoutView",
      "align_content": null,
      "align_items": null,
      "align_self": null,
      "border": null,
      "bottom": null,
      "display": null,
      "flex": null,
      "flex_flow": null,
      "grid_area": null,
      "grid_auto_columns": null,
      "grid_auto_flow": null,
      "grid_auto_rows": null,
      "grid_column": null,
      "grid_gap": null,
      "grid_row": null,
      "grid_template_areas": null,
      "grid_template_columns": null,
      "grid_template_rows": null,
      "height": null,
      "justify_content": null,
      "justify_items": null,
      "left": null,
      "margin": null,
      "max_height": null,
      "max_width": null,
      "min_height": null,
      "min_width": null,
      "object_fit": null,
      "object_position": null,
      "order": null,
      "overflow": null,
      "overflow_x": null,
      "overflow_y": null,
      "padding": null,
      "right": null,
      "top": null,
      "visibility": null,
      "width": null
     }
    },
    "d3113a12f984456dbf0c1d4c030dc859": {
     "model_module": "@jupyter-widgets/base",
     "model_name": "LayoutModel",
     "state": {
      "_model_module": "@jupyter-widgets/base",
      "_model_module_version": "1.2.0",
      "_model_name": "LayoutModel",
      "_view_count": null,
      "_view_module": "@jupyter-widgets/base",
      "_view_module_version": "1.2.0",
      "_view_name": "LayoutView",
      "align_content": null,
      "align_items": null,
      "align_self": null,
      "border": null,
      "bottom": null,
      "display": null,
      "flex": null,
      "flex_flow": null,
      "grid_area": null,
      "grid_auto_columns": null,
      "grid_auto_flow": null,
      "grid_auto_rows": null,
      "grid_column": null,
      "grid_gap": null,
      "grid_row": null,
      "grid_template_areas": null,
      "grid_template_columns": null,
      "grid_template_rows": null,
      "height": null,
      "justify_content": null,
      "justify_items": null,
      "left": null,
      "margin": null,
      "max_height": null,
      "max_width": null,
      "min_height": null,
      "min_width": null,
      "object_fit": null,
      "object_position": null,
      "order": null,
      "overflow": null,
      "overflow_x": null,
      "overflow_y": null,
      "padding": null,
      "right": null,
      "top": null,
      "visibility": null,
      "width": null
     }
    },
    "e52b2b1ba6c44c0f9f08441860ea1a9b": {
     "model_module": "@jupyter-widgets/base",
     "model_name": "LayoutModel",
     "state": {
      "_model_module": "@jupyter-widgets/base",
      "_model_module_version": "1.2.0",
      "_model_name": "LayoutModel",
      "_view_count": null,
      "_view_module": "@jupyter-widgets/base",
      "_view_module_version": "1.2.0",
      "_view_name": "LayoutView",
      "align_content": null,
      "align_items": null,
      "align_self": null,
      "border": null,
      "bottom": null,
      "display": null,
      "flex": null,
      "flex_flow": null,
      "grid_area": null,
      "grid_auto_columns": null,
      "grid_auto_flow": null,
      "grid_auto_rows": null,
      "grid_column": null,
      "grid_gap": null,
      "grid_row": null,
      "grid_template_areas": null,
      "grid_template_columns": null,
      "grid_template_rows": null,
      "height": null,
      "justify_content": null,
      "justify_items": null,
      "left": null,
      "margin": null,
      "max_height": null,
      "max_width": null,
      "min_height": null,
      "min_width": null,
      "object_fit": null,
      "object_position": null,
      "order": null,
      "overflow": null,
      "overflow_x": null,
      "overflow_y": null,
      "padding": null,
      "right": null,
      "top": null,
      "visibility": null,
      "width": null
     }
    },
    "e6c78c4b6c094bf883480d6840878319": {
     "model_module": "@jupyter-widgets/controls",
     "model_name": "DescriptionStyleModel",
     "state": {
      "_model_module": "@jupyter-widgets/controls",
      "_model_module_version": "1.5.0",
      "_model_name": "DescriptionStyleModel",
      "_view_count": null,
      "_view_module": "@jupyter-widgets/base",
      "_view_module_version": "1.2.0",
      "_view_name": "StyleView",
      "description_width": ""
     }
    },
    "ee5536b55e0148aca201dfaeffc9f86d": {
     "model_module": "@jupyter-widgets/controls",
     "model_name": "HBoxModel",
     "state": {
      "_dom_classes": [],
      "_model_module": "@jupyter-widgets/controls",
      "_model_module_version": "1.5.0",
      "_model_name": "HBoxModel",
      "_view_count": null,
      "_view_module": "@jupyter-widgets/controls",
      "_view_module_version": "1.5.0",
      "_view_name": "HBoxView",
      "box_style": "",
      "children": [
       "IPY_MODEL_78369a9e5f2a41d2ae569b49a2fd16cd",
       "IPY_MODEL_cebdf091bac141d986c819a7f875fd5c"
      ],
      "layout": "IPY_MODEL_2793e13b128743578a2df694e0632ca1"
     }
    },
    "fcbd192f9ab04e65b044c8272658681f": {
     "model_module": "@jupyter-widgets/controls",
     "model_name": "FloatProgressModel",
     "state": {
      "_dom_classes": [],
      "_model_module": "@jupyter-widgets/controls",
      "_model_module_version": "1.5.0",
      "_model_name": "FloatProgressModel",
      "_view_count": null,
      "_view_module": "@jupyter-widgets/controls",
      "_view_module_version": "1.5.0",
      "_view_name": "ProgressView",
      "bar_style": "success",
      "description": "",
      "description_tooltip": null,
      "layout": "IPY_MODEL_e52b2b1ba6c44c0f9f08441860ea1a9b",
      "max": 1648877,
      "min": 0,
      "orientation": "horizontal",
      "style": "IPY_MODEL_ca965545f9ae40a8bfb0519fcf7fe437",
      "value": 1648877
     }
    }
   }
  }
 },
 "nbformat": 4,
 "nbformat_minor": 1
}
