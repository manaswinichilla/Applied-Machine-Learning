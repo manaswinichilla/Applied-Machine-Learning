{
 "cells": [
  {
   "cell_type": "markdown",
   "id": "sharing-touch",
   "metadata": {},
   "source": [
    "#### Question 1- \n",
    "#### Implement a two-layer perceptron with the backpropagation algorithm to solve the parity problem. The desired output for the parity problem is 1 if an input pattern (which contains 4-binary bits) contains an odd number of 1's, and 0 otherwise. Use a network where the input has 4 binary elements, 4 hidden units for the first layer, and one output unit for the second layer. The learning procedure is stopped when an absolute error (difference) of 0.05 is reached for every input pattern."
   ]
  },
  {
   "cell_type": "code",
   "execution_count": 1,
   "id": "suburban-bearing",
   "metadata": {},
   "outputs": [],
   "source": [
    "import numpy as np\n",
    "from copy import deepcopy\n",
    "%matplotlib inline\n",
    "import matplotlib.pyplot as plt"
   ]
  },
  {
   "cell_type": "code",
   "execution_count": 2,
   "id": "together-volume",
   "metadata": {},
   "outputs": [],
   "source": [
    "#the 4 bit parity problem is as follows: \n",
    "#when the number of bits = '1' are odd, set the output to 1\n",
    "#else set it to '0'."
   ]
  },
  {
   "cell_type": "code",
   "execution_count": 3,
   "id": "neural-cycle",
   "metadata": {},
   "outputs": [],
   "source": [
    "#function converting interger to binary, as parity problem deals with binary bits.\n",
    "def Binaryconversion(num):\n",
    "    binaryresult = np.unpackbits(np.arange(num, num+1, dtype='>i%d' %(1)).view(np.uint8))[-4:]\n",
    "    return binaryresult"
   ]
  },
  {
   "cell_type": "code",
   "execution_count": 4,
   "id": "natural-operator",
   "metadata": {},
   "outputs": [],
   "source": [
    "#the input data is an array of 16 rows\n",
    "#each row of the input would be 0000, 0001, 0010, 0011,.....1110, 1111\n",
    "def input_data_for_training():\n",
    "    X = np.array([[1] + list(Binaryconversion(i)) for i in range(0,16)]).T\n",
    "    D = np.array([bin(i).count(\"1\")%2!=0 for i in range(0,16)]).reshape(1,16).astype(int)\n",
    "    return X,D"
   ]
  },
  {
   "cell_type": "code",
   "execution_count": 5,
   "id": "roman-director",
   "metadata": {},
   "outputs": [],
   "source": [
    "#using uniform distribution for assigning weights, random order sampling\n",
    "#all the weight values are going to have an equal probability of being assigned\n",
    "#min weight being -1, max weight being +1\n",
    "def wtinitialization():\n",
    "    return [np.random.uniform(-1, 1, (5, 4))] + [np.random.uniform(-1, 1, (5, 1))]"
   ]
  },
  {
   "cell_type": "code",
   "execution_count": 6,
   "id": "running-louisiana",
   "metadata": {},
   "outputs": [],
   "source": [
    "#using logistic sigmoid activation function\n",
    "#f(x)= 1/1+e^(-x)\n",
    "def sigmoid_activation_function(z):\n",
    "    return 1/(1 + np.exp(-z))"
   ]
  },
  {
   "cell_type": "code",
   "execution_count": 7,
   "id": "inside-buffalo",
   "metadata": {},
   "outputs": [],
   "source": [
    "#the input data is passed to the hidden layers\n",
    "#this is processed using the sigmoid function and passed forward\n",
    "def forward_propagation(x,W_layers):\n",
    "    Output_Array = []\n",
    "    #dot product of transpose of 1st hidden layer with the input layer--> output\n",
    "    Output_Array.append(sigmoid_activation_function(np.dot(W_layers[0].T,x)))\n",
    "    #dot product of transpose of 2nd hidden layer with the output of previous layer\n",
    "    Output_Array.append(sigmoid_activation_function(np.dot(W_layers[1].T,np.insert(Output_Array[0],0,1,axis=0))))\n",
    "    #return the output array\n",
    "    return np.array(Output_Array)"
   ]
  },
  {
   "cell_type": "code",
   "execution_count": 8,
   "id": "olive-squad",
   "metadata": {},
   "outputs": [],
   "source": [
    "#backpropagation of errors:\n",
    "#calculates gradient wrt weights\n",
    "def back_propagation(x,Y,d_k,Wts,learning_rate,delta_hid,momentum):\n",
    "    #output of the 2nd hidden layer\n",
    "    y = Y[1]\n",
    "    delta_k = y*(1-y)*(d_k-y)\n",
    "    #delta rule(gradient descent) for weight updation\n",
    "    #2nd hidden layer's wt calculated via gd\n",
    "    delta_hid[1] = learning_rate*delta_k.T*np.insert(Y[0],0,1,axis=0)+(momentum*delta_hid[1])\n",
    "    \n",
    "    delta_j = Y[0]*(1-Y[0])*Wts[1][1:,:]*delta_k\n",
    "    #1st hidden layer's wt obtained by backpropagating \n",
    "    delta_hid[0] = learning_rate*delta_j.T*x+(momentum*delta_hid[0])\n",
    "    \n",
    "    #weight updation for the hidden layers\n",
    "    Wts[0] += delta_hid[0]\n",
    "    Wts[1] += delta_hid[1]\n",
    "    "
   ]
  },
  {
   "cell_type": "code",
   "execution_count": 9,
   "id": "subtle-simpson",
   "metadata": {},
   "outputs": [],
   "source": [
    "#multilayer perceptron network\n",
    "#returns the number of epochs required to converge\n",
    "def multi_layer_perceptron(X,D,Wts,learning_rate,momentum):\n",
    "    number_of_epochs = 0\n",
    "    delta_hid = [np.zeros((5, 4))] + [np.zeros((5, 1))]\n",
    "\n",
    "    while True:\n",
    "        isError = False\n",
    "        for i in range(0,16):\n",
    "            x = X[:,i].reshape(5,1)\n",
    "            Y = forward_propagation(x,Wts)\n",
    "            back_propagation(x, Y, np.reshape(D[:, i], (1, 1)), Wts, learning_rate, delta_hid, momentum)\n",
    "            #stopping the learning process when absolute error is 0.05\n",
    "            error_diff=np.squeeze(D[:,i]-Y[1])\n",
    "            if np.abs(error_diff) > 0.05:\n",
    "                isError = True\n",
    "        number_of_epochs += 1\n",
    "        if not isError:\n",
    "            break\n",
    "\n",
    "    return number_of_epochs\n"
   ]
  },
  {
   "cell_type": "code",
   "execution_count": 10,
   "id": "earned-shell",
   "metadata": {
    "scrolled": true
   },
   "outputs": [
    {
     "name": "stderr",
     "output_type": "stream",
     "text": [
      "<ipython-input-7-ea28d640e69f>:10: VisibleDeprecationWarning: Creating an ndarray from ragged nested sequences (which is a list-or-tuple of lists-or-tuples-or ndarrays with different lengths or shapes) is deprecated. If you meant to do this, you must specify 'dtype=object' when creating the ndarray.\n",
      "  return np.array(Output_Array)\n"
     ]
    },
    {
     "name": "stdout",
     "output_type": "stream",
     "text": [
      "momentum=0 or to say without using any momentum\n",
      "learning rate :  0.05 , epochs :  35430\n",
      "momentum=0 or to say without using any momentum\n",
      "learning rate :  0.1 , epochs :  18879\n",
      "momentum=0 or to say without using any momentum\n",
      "learning rate :  0.15000000000000002 , epochs :  330554\n",
      "momentum=0 or to say without using any momentum\n",
      "learning rate :  0.2 , epochs :  104553\n",
      "momentum=0 or to say without using any momentum\n",
      "learning rate :  0.25 , epochs :  78757\n",
      "momentum=0 or to say without using any momentum\n",
      "learning rate :  0.3 , epochs :  65797\n",
      "momentum=0 or to say without using any momentum\n",
      "learning rate :  0.35000000000000003 , epochs :  57959\n",
      "momentum=0 or to say without using any momentum\n",
      "learning rate :  0.4 , epochs :  52857\n",
      "momentum=0 or to say without using any momentum\n",
      "learning rate :  0.45 , epochs :  49432\n",
      "momentum=0 or to say without using any momentum\n",
      "learning rate :  0.5 , epochs :  47129\n"
     ]
    },
    {
     "data": {
      "image/png": "[encoded data removed]",
      "text/plain": [
       "<Figure size 432x288 with 1 Axes>"
      ]
     },
     "metadata": {
      "needs_background": "light"
     },
     "output_type": "display_data"
    }
   ],
   "source": [
    "#main function\n",
    "if __name__ == \"__main__\":\n",
    "    x=[]\n",
    "    y=[]\n",
    "    X,D = input_data_for_training()\n",
    "    Wts = wtinitialization()\n",
    "    #implementation when momentum=0\n",
    "    for learning_rate in np.arange(0.05, 0.51, 0.05):\n",
    "        epochs=multi_layer_perceptron(X, D, deepcopy(Wts), learning_rate, 0)\n",
    "        print(\"momentum=0 or to say without using any momentum\")\n",
    "        print(\"learning rate : \", learning_rate, \", epochs : \", epochs)\n",
    "#         print(\"Keeping the momentum to 0.9\")\n",
    "#         print(\"learning rate : \", learning_rate, \", momentum : \", 0.9, \" epoch : \", epochs)\n",
    "        x.append(learning_rate)\n",
    "        y.append(epochs)\n",
    "    plt.figure(0)\n",
    "    plt.plot(x,y, marker='o', markersize=3, color=\"red\")\n",
    "    plt.show()\n",
    "    "
   ]
  },
  {
   "cell_type": "markdown",
   "id": "searching-mother",
   "metadata": {},
   "source": [
    "#### It can be seen without a momentum factor, it takes a long time ie., a large number of epochs to converge. It can also observed that even without alpha, when the learning rate increases, convergence is relatively quick."
   ]
  },
  {
   "cell_type": "code",
   "execution_count": 29,
   "id": "collected-birthday",
   "metadata": {
    "scrolled": true
   },
   "outputs": [
    {
     "name": "stderr",
     "output_type": "stream",
     "text": [
      "<ipython-input-7-ea28d640e69f>:10: VisibleDeprecationWarning: Creating an ndarray from ragged nested sequences (which is a list-or-tuple of lists-or-tuples-or ndarrays with different lengths or shapes) is deprecated. If you meant to do this, you must specify 'dtype=object' when creating the ndarray.\n",
      "  return np.array(Output_Array)\n"
     ]
    },
    {
     "name": "stdout",
     "output_type": "stream",
     "text": [
      "momentum=0.9 \n",
      "learning rate :  0.05 ,  epochs :  10016\n",
      "momentum=0.9 \n",
      "learning rate :  0.1 ,  epochs :  17303\n",
      "momentum=0.9 \n",
      "learning rate :  0.15000000000000002 ,  epochs :  27860\n",
      "momentum=0.9 \n",
      "learning rate :  0.2 ,  epochs :  6702\n",
      "momentum=0.9 \n",
      "learning rate :  0.25 ,  epochs :  4996\n",
      "momentum=0.9 \n",
      "learning rate :  0.3 ,  epochs :  5084\n",
      "momentum=0.9 \n",
      "learning rate :  0.35000000000000003 ,  epochs :  5708\n",
      "momentum=0.9 \n",
      "learning rate :  0.4 ,  epochs :  5747\n",
      "momentum=0.9 \n",
      "learning rate :  0.45 ,  epochs :  8840\n",
      "momentum=0.9 \n",
      "learning rate :  0.5 ,  epochs :  1567\n"
     ]
    },
    {
     "data": {
      "image/png": "[encoded data removed]",
      "text/plain": [
       "<Figure size 432x288 with 1 Axes>"
      ]
     },
     "metadata": {
      "needs_background": "light"
     },
     "output_type": "display_data"
    }
   ],
   "source": [
    "    x=[]\n",
    "    y=[]\n",
    "    X,D = input_data_for_training()\n",
    "    Wts = wtinitialization()\n",
    "#     implementation when momentum=0.9\n",
    "    for learning_rate1 in np.arange(0.05, 0.51, 0.05):\n",
    "        epochs1=multi_layer_perceptron(X, D, deepcopy(Wts), learning_rate1, 0.9)\n",
    "        print(\"momentum=0.9 \")\n",
    "        print(\"learning rate : \", learning_rate1, \",  epochs : \", epochs1)\n",
    "    #         print(\"Keeping the momentum to 0.9\")\n",
    "    #         print(\"learning rate : \", learning_rate, \", momentum : \", 0.9, \" epoch : \", epochs)\n",
    "        x.append(learning_rate1)\n",
    "        y.append(epochs1)\n",
    "    plt.figure(1)\n",
    "    plt.plot(x,y, marker='o', markersize=3, color=\"red\")\n",
    "    plt.show()"
   ]
  },
  {
   "cell_type": "markdown",
   "id": "vocal-omega",
   "metadata": {},
   "source": [
    "##### When using a momentum factor of 0.9, the convergence speeds up by almost 9 times. The change in the number of epochs is almost same as the previous case, where momentum wasn't used. A momentum of 0.9 is helping in stability and quickens convergence. We can see that as learning rate increases, the number of epochs reduces considerably. "
   ]
  },
  {
   "cell_type": "markdown",
   "id": "governmental-cathedral",
   "metadata": {},
   "source": [
    "##### For example, without momentum, with a learning rate of 0.5, the number of epochs was 24716.\n",
    "##### With momentum of 0.9 and learning rate of 0.5, the number of epochs was 2787, which is almost 9 times faster."
   ]
  },
  {
   "cell_type": "markdown",
   "id": "regular-entertainment",
   "metadata": {},
   "source": [
    "#### References-"
   ]
  },
  {
   "cell_type": "code",
   "execution_count": null,
   "id": "loving-pathology",
   "metadata": {},
   "outputs": [],
   "source": []
  }
 ],
 "metadata": {
  "kernelspec": {
   "display_name": "Python 3",
   "language": "python",
   "name": "python3"
  },
  "language_info": {
   "codemirror_mode": {
    "name": "ipython",
    "version": 3
   },
   "file_extension": ".py",
   "mimetype": "text/x-python",
   "name": "python",
   "nbconvert_exporter": "python",
   "pygments_lexer": "ipython3",
   "version": "3.8.5"
  }
 },
 "nbformat": 4,
 "nbformat_minor": 5
}
