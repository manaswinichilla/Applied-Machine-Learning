{
 "cells": [
  {
   "cell_type": "code",
   "execution_count": 17,
   "metadata": {
    "id": "k2R848phzYgc"
   },
   "outputs": [],
   "source": [
    "import torch\n",
    "import torch.nn as nn\n",
    "from torch.utils.data import DataLoader\n",
    "import torchvision.transforms as transforms\n",
    "import torchvision.datasets as data_sets\n",
    "from torch.utils.data import random_split\n",
    "from torchvision.utils import make_grid\n",
    "import torch.nn.functional as F\n",
    "from torch.autograd import Variable\n",
    "from torch.optim.lr_scheduler import StepLR\n",
    "\n",
    "from bokeh.plotting import figure\n",
    "from bokeh.io import show\n",
    "from bokeh.models import LinearAxis, Range1d\n",
    "import numpy as np\n",
    "import sklearn.metrics as sk\n",
    "\n",
    "import matplotlib\n",
    "import matplotlib.pyplot as plt\n",
    "\n",
    "import warnings\n",
    "warnings.filterwarnings('ignore')"
   ]
  },
  {
   "cell_type": "code",
   "execution_count": 2,
   "metadata": {
    "colab": {
     "base_uri": "https://localhost:8080/",
     "height": 750,
     "referenced_widgets": [
      "6dcfe5da555442118600570bb41865a6",
      "da492e9994be4b2ab4483b78bff99149",
      "0c63f7245b31468696ff967196845f9c",
      "706d2a32658f4078b317d83d6dcedeaa",
      "b9d338a8a2b244e8bfb2e63c4e9dbe11",
      "e7e7fc5fe8134b3c85eacf502afeaf30",
      "9ae55030c8f14fea8ae05512eaa1bcf3",
      "1b51587469484951ba4c39d1c5d0c46a",
      "2e283a6f08b54c30aab76e078bd86d2f",
      "6f1802d25d8b403484a4f88b21cea263",
      "157616c602d04576ad96ff4eea4bfa48",
      "b8c71d1b4ab24e5f86e4279a9106e236",
      "9765ab8cd8ec49c4a8e0ffb2b231b604",
      "7d456942d94c4bd68c10fb312aa69107",
      "984d3c9b4b3847b495ce1945e5a4d451",
      "89a64234ab9d4f6fa108c7098a31a524",
      "e81de4c1fdf246debd25b4c8ac2fb9e6",
      "f16cc56090e34adabf3e0cf350395d2b",
      "65ca20e1c9994dfa9fcb00ef0e863885",
      "b5da4c0d89ef41cab241967d7a13b0ce",
      "0d278fb59f48434fba78f26acb010806",
      "12ff0c86c7e44379816fd2cbd1272003",
      "dd6957f022834bbf956d8d839d5d591e",
      "c68095a5c7aa47c28815ded289a3e527",
      "8a7febe5d1ee49c9831f77301e89990a",
      "30289edebdd647178617ea6379805d28",
      "e278dc0642874f7ca805dc37adaf7ff7",
      "760bd808ad6d4a5a957df95e03e4cf7d",
      "c12fa6fa2a734cbca6d829d3811dfe47",
      "377ca2c438f8462b81cf5cbef909522e",
      "e6e5c742c0e04be090b52e8422981d2f",
      "6204304c12394db395a123b9d9e07f77"
     ]
    },
    "id": "UgB1J2jf0lCo",
    "outputId": "1835aa18-41ad-45ae-9bd9-c512a7f524a6"
   },
   "outputs": [
    {
     "name": "stdout",
     "output_type": "stream",
     "text": [
      "Downloading http://yann.lecun.com/exdb/mnist/train-images-idx3-ubyte.gz\n",
      "Downloading http://yann.lecun.com/exdb/mnist/train-images-idx3-ubyte.gz to mnist/MNIST/raw/train-images-idx3-ubyte.gz\n",
      "Failed to download (trying next):\n",
      "HTTP Error 503: Service Unavailable\n",
      "\n",
      "Downloading https://ossci-datasets.s3.amazonaws.com/mnist/train-images-idx3-ubyte.gz\n",
      "Downloading https://ossci-datasets.s3.amazonaws.com/mnist/train-images-idx3-ubyte.gz to mnist/MNIST/raw/train-images-idx3-ubyte.gz\n"
     ]
    },
    {
     "data": {
      "application/vnd.jupyter.widget-view+json": {
       "model_id": "6dcfe5da555442118600570bb41865a6",
       "version_major": 2,
       "version_minor": 0
      },
      "text/plain": [
       "HBox(children=(FloatProgress(value=0.0, max=9912422.0), HTML(value='')))"
      ]
     },
     "metadata": {
      "tags": []
     },
     "output_type": "display_data"
    },
    {
     "name": "stdout",
     "output_type": "stream",
     "text": [
      "\n",
      "Extracting mnist/MNIST/raw/train-images-idx3-ubyte.gz to mnist/MNIST/raw\n",
      "\n",
      "Downloading http://yann.lecun.com/exdb/mnist/train-labels-idx1-ubyte.gz\n",
      "Downloading http://yann.lecun.com/exdb/mnist/train-labels-idx1-ubyte.gz to mnist/MNIST/raw/train-labels-idx1-ubyte.gz\n"
     ]
    },
    {
     "data": {
      "application/vnd.jupyter.widget-view+json": {
       "model_id": "2e283a6f08b54c30aab76e078bd86d2f",
       "version_major": 2,
       "version_minor": 0
      },
      "text/plain": [
       "HBox(children=(FloatProgress(value=0.0, max=28881.0), HTML(value='')))"
      ]
     },
     "metadata": {
      "tags": []
     },
     "output_type": "display_data"
    },
    {
     "name": "stdout",
     "output_type": "stream",
     "text": [
      "\n",
      "Extracting mnist/MNIST/raw/train-labels-idx1-ubyte.gz to mnist/MNIST/raw\n",
      "\n",
      "Downloading http://yann.lecun.com/exdb/mnist/t10k-images-idx3-ubyte.gz\n",
      "Downloading http://yann.lecun.com/exdb/mnist/t10k-images-idx3-ubyte.gz to mnist/MNIST/raw/t10k-images-idx3-ubyte.gz\n",
      "Failed to download (trying next):\n",
      "HTTP Error 503: Service Unavailable\n",
      "\n",
      "Downloading https://ossci-datasets.s3.amazonaws.com/mnist/t10k-images-idx3-ubyte.gz\n",
      "Downloading https://ossci-datasets.s3.amazonaws.com/mnist/t10k-images-idx3-ubyte.gz to mnist/MNIST/raw/t10k-images-idx3-ubyte.gz\n"
     ]
    },
    {
     "data": {
      "application/vnd.jupyter.widget-view+json": {
       "model_id": "e81de4c1fdf246debd25b4c8ac2fb9e6",
       "version_major": 2,
       "version_minor": 0
      },
      "text/plain": [
       "HBox(children=(FloatProgress(value=0.0, max=1648877.0), HTML(value='')))"
      ]
     },
     "metadata": {
      "tags": []
     },
     "output_type": "display_data"
    },
    {
     "name": "stdout",
     "output_type": "stream",
     "text": [
      "\n",
      "Extracting mnist/MNIST/raw/t10k-images-idx3-ubyte.gz to mnist/MNIST/raw\n",
      "\n",
      "Downloading http://yann.lecun.com/exdb/mnist/t10k-labels-idx1-ubyte.gz\n",
      "Failed to download (trying next):\n",
      "HTTP Error 503: Service Unavailable\n",
      "\n",
      "Downloading https://ossci-datasets.s3.amazonaws.com/mnist/t10k-labels-idx1-ubyte.gz\n",
      "Downloading https://ossci-datasets.s3.amazonaws.com/mnist/t10k-labels-idx1-ubyte.gz to mnist/MNIST/raw/t10k-labels-idx1-ubyte.gz\n"
     ]
    },
    {
     "data": {
      "application/vnd.jupyter.widget-view+json": {
       "model_id": "8a7febe5d1ee49c9831f77301e89990a",
       "version_major": 2,
       "version_minor": 0
      },
      "text/plain": [
       "HBox(children=(FloatProgress(value=0.0, max=4542.0), HTML(value='')))"
      ]
     },
     "metadata": {
      "tags": []
     },
     "output_type": "display_data"
    },
    {
     "name": "stdout",
     "output_type": "stream",
     "text": [
      "\n",
      "Extracting mnist/MNIST/raw/t10k-labels-idx1-ubyte.gz to mnist/MNIST/raw\n",
      "\n",
      "Processing...\n",
      "Done!\n"
     ]
    }
   ],
   "source": [
    "import torchvision.datasets as data_sets\n",
    "mnist_train_data=data_sets.MNIST('mnist', train=True, download=True, transform=transforms.ToTensor())\n",
    "mnist_test_data=data_sets.MNIST('mnist', train=False, transform=transforms.ToTensor())"
   ]
  },
  {
   "cell_type": "code",
   "execution_count": 3,
   "metadata": {
    "id": "CR2sgq3g01ak"
   },
   "outputs": [],
   "source": [
    "developement_size=18000\n",
    "mnist_train_data, mnist_developement_set = random_split(mnist_train_data, [len(mnist_train_data) - developement_size, developement_size])"
   ]
  },
  {
   "cell_type": "code",
   "execution_count": 4,
   "metadata": {
    "colab": {
     "base_uri": "https://localhost:8080/"
    },
    "id": "WEdgNMTp06Ct",
    "outputId": "cbdfc6bc-3a5d-405e-bd95-cf1b241a7b8d"
   },
   "outputs": [
    {
     "name": "stdout",
     "output_type": "stream",
     "text": [
      "Train Dataset : 42000 \n",
      "Validation Dataset: 18000\n"
     ]
    }
   ],
   "source": [
    "print('Train Dataset :', len(mnist_train_data), \"\\nValidation Dataset:\" ,len(mnist_developement_set))"
   ]
  },
  {
   "cell_type": "code",
   "execution_count": 5,
   "metadata": {
    "id": "kke-Ysb9071f"
   },
   "outputs": [],
   "source": [
    "batch_size = 128"
   ]
  },
  {
   "cell_type": "code",
   "execution_count": 6,
   "metadata": {
    "id": "98vMrTnX0_zs"
   },
   "outputs": [],
   "source": [
    "train_data_loader = DataLoader(dataset=mnist_train_data,batch_size= batch_size,num_workers=2,pin_memory=True,shuffle=True)\n",
    "developement_data_loader = DataLoader(dataset = mnist_developement_set,batch_size = batch_size*2,num_workers=2,pin_memory=True)\n",
    "test_data_loader = DataLoader(dataset=mnist_test_data,batch_size= batch_size,num_workers=2,pin_memory=True,shuffle=False)"
   ]
  },
  {
   "cell_type": "code",
   "execution_count": 7,
   "metadata": {
    "colab": {
     "base_uri": "https://localhost:8080/",
     "height": 282
    },
    "id": "Qulwe3XW1EKa",
    "outputId": "78267f6f-1579-45ef-91ac-d1a326138f21"
   },
   "outputs": [
    {
     "data": {
      "text/plain": [
       "<matplotlib.image.AxesImage at 0x7fbc265fa3d0>"
      ]
     },
     "execution_count": 7,
     "metadata": {
      "tags": []
     },
     "output_type": "execute_result"
    },
    {
     "data": {
      "image/png": "[encoded data removed]",
      "text/plain": [
       "<Figure size 432x288 with 1 Axes>"
      ]
     },
     "metadata": {
      "needs_background": "light",
      "tags": []
     },
     "output_type": "display_data"
    }
   ],
   "source": [
    "plt.imshow(mnist_train_data[0][0][0], cmap=\"gray\")"
   ]
  },
  {
   "cell_type": "code",
   "execution_count": 8,
   "metadata": {
    "colab": {
     "base_uri": "https://localhost:8080/",
     "height": 520
    },
    "id": "KqyhkX_C1OaL",
    "outputId": "6db42e98-eb15-4211-d3aa-cbb19c4a72b6"
   },
   "outputs": [
    {
     "name": "stdout",
     "output_type": "stream",
     "text": [
      "Shape of Images: torch.Size([128, 1, 28, 28])\n"
     ]
    },
    {
     "data": {
      "text/plain": [
       "<matplotlib.image.AxesImage at 0x7fbc25e81590>"
      ]
     },
     "execution_count": 8,
     "metadata": {
      "tags": []
     },
     "output_type": "execute_result"
    },
    {
     "data": {
      "image/png": "[encoded data removed]",
      "text/plain": [
       "<Figure size 1152x576 with 1 Axes>"
      ]
     },
     "metadata": {
      "needs_background": "light",
      "tags": []
     },
     "output_type": "display_data"
    }
   ],
   "source": [
    "iterobj = iter(train_data_loader)\n",
    "images, labels = iterobj.next()\n",
    "print('Shape of Images:', images.shape)\n",
    "plt.figure(figsize=(16,8))\n",
    "plt.imshow(make_grid(images, nrow=10).permute((1, 2, 0)))"
   ]
  },
  {
   "cell_type": "code",
   "execution_count": 9,
   "metadata": {
    "id": "QH3qrtbm1cZW"
   },
   "outputs": [],
   "source": [
    "class CNN_with_optimizer(nn.Module):\n",
    "    def __init__(self):\n",
    "        super(CNN_with_optimizer, self).__init__() \n",
    "        self.conv1 = nn.Conv2d(in_channels=1,out_channels= 32,kernel_size=5,stride=1,padding=2)\n",
    "        self.relu1 = nn.ReLU()\n",
    "        self.maxpool1 = nn.MaxPool2d(kernel_size=2, stride=2)\n",
    "    \n",
    "        self.conv2 = nn.Conv2d(in_channels=32,out_channels=64,kernel_size=5,stride=1,padding=2)    \n",
    "        self.relu2 = nn.ReLU()  \n",
    "        self.maxpool2 = nn.MaxPool2d(kernel_size=2, stride=2)\n",
    "        \n",
    "        self.fc1 = nn.Linear(7 * 7 * 64, 1000)\n",
    "        nn.init.xavier_normal_(self.fc1.weight)\n",
    "        \n",
    "        self.fc2 = nn.Linear(1000, 10)\n",
    "        nn.init.xavier_normal_(self.fc2.weight)\n",
    "\n",
    "    def forward(self, batch_data):\n",
    "        batch_data = self.conv1(batch_data)\n",
    "        batch_data = self.relu1(batch_data)\n",
    "        batch_data = self.maxpool1(batch_data)\n",
    "       \n",
    "        batch_data = self.conv2(batch_data)\n",
    "        batch_data = self.relu2(batch_data)\n",
    "        batch_data = self.maxpool1(batch_data)\n",
    "      \n",
    "        batch_data = batch_data.reshape(batch_data.size(0), -1)\n",
    "    \n",
    "        batch_data = self.fc1(batch_data)\n",
    "        batch_data = self.fc2(batch_data)\n",
    "        return batch_data\n",
    "    \n",
    "    def train_each_batch(self, images, labels):\n",
    "        result = self(images)\n",
    "        loss = Loss(result, labels)\n",
    "        return loss\n",
    "\n",
    "    def develope_each_batch(self, images, labels):\n",
    "        # images =  batch[0]\n",
    "        # labels = batch[1]\n",
    "        result = self(images)                   \n",
    "        loss = Loss(result, labels)\n",
    "        acc = accuracy(result, labels)      \n",
    "        return {'loss_at_end_of_batch': loss, 'acc_at_end_of_batch': acc}\n",
    "      \n",
    "    def develope_at_end_of_epoch(self, results):\n",
    "        losses_at_end_of_batch = [x['loss_at_end_of_batch'] for x in results]\n",
    "        loss_at_end_of_epoch = torch.stack(losses_at_end_of_batch).mean()  \n",
    "        accs_at_each_batch = [x['acc_at_end_of_batch'] for x in results]\n",
    "        acc_at_end_of_epoch = torch.stack(accs_at_each_batch).mean() \n",
    "        return {'loss_at_end_of_epoch': loss_at_end_of_epoch.item(), 'acc_at_end_of_epoch': acc_at_end_of_epoch.item()}\n",
    "\n",
    "    def display_metrics_at_end_of_epoch(self, epoch, result):\n",
    "        print(\"acc_at_end_of_epoch: {:.4f}, loss_at_end_of_epoch: {:.4f}\".format(result['acc_at_end_of_epoch'], result['loss_at_end_of_epoch']))"
   ]
  },
  {
   "cell_type": "code",
   "execution_count": 10,
   "metadata": {
    "id": "TcL_1xc51l-R"
   },
   "outputs": [],
   "source": [
    "def accuracy(results, labels):\n",
    "    _, predictions = torch.max(results, dim=1)\n",
    "    return torch.tensor(torch.sum(predictions == labels).item() / len(predictions))"
   ]
  },
  {
   "cell_type": "code",
   "execution_count": 11,
   "metadata": {
    "id": "dflZg-w91rE1"
   },
   "outputs": [],
   "source": [
    "def develope(network, developement_data_loader):\n",
    "    results = [network.develope_each_batch(images, labels) for j, (images, labels) in enumerate(developement_data_loader)]\n",
    "    return network.develope_at_end_of_epoch(results)"
   ]
  },
  {
   "cell_type": "code",
   "execution_count": 12,
   "metadata": {
    "id": "cfUDIwwB1wIY"
   },
   "outputs": [],
   "source": [
    "network=CNN_with_optimizer()"
   ]
  },
  {
   "cell_type": "code",
   "execution_count": 13,
   "metadata": {
    "id": "2j9my21H3cT_"
   },
   "outputs": [],
   "source": [
    "# optimizer RMSprop"
   ]
  },
  {
   "cell_type": "code",
   "execution_count": 14,
   "metadata": {
    "id": "aQsplYeY2JGU"
   },
   "outputs": [],
   "source": [
    "Loss = nn.CrossEntropyLoss()\n",
    "optimizer = torch.optim.RMSprop(network.parameters(), lr=0.001, momentum=0.9)\n",
    "scheduler = StepLR(optimizer, step_size=10, gamma=0.1)"
   ]
  },
  {
   "cell_type": "code",
   "execution_count": 15,
   "metadata": {
    "id": "KCB2fWaB2R0o"
   },
   "outputs": [],
   "source": [
    "def train(epochs, model, train_data_loader, developement_data_loader, optimizer):    \n",
    "    epoch_metrics = []\n",
    "    for epoch in range(epochs): \n",
    "        lr = scheduler.step()\n",
    "        print('Epoch:', epoch,'Learning rate:', scheduler.get_lr())\n",
    "        for j,(images, labels) in enumerate(train_data_loader):\n",
    "            loss = model.train_each_batch(images, labels)\n",
    "            loss.backward()\n",
    "            optimizer.step()\n",
    "            optimizer.zero_grad()\n",
    "        result = develope(model, developement_data_loader)\n",
    "        model.display_metrics_at_end_of_epoch(epoch, result)\n",
    "        epoch_metrics.append(result)\n",
    "        print(\"\\n\")\n",
    "    return epoch_metrics"
   ]
  },
  {
   "cell_type": "code",
   "execution_count": 16,
   "metadata": {
    "colab": {
     "base_uri": "https://localhost:8080/"
    },
    "id": "sdcBzzEd2RAZ",
    "outputId": "82ecca17-fbba-49b8-b080-7648dc5fa8f9"
   },
   "outputs": [
    {
     "name": "stdout",
     "output_type": "stream",
     "text": [
      "Epoch: 0 Learning rate: [0.001]\n",
      "acc_at_end_of_epoch: 0.9375, loss_at_end_of_epoch: 0.2148\n",
      "\n",
      "\n",
      "Epoch: 1 Learning rate: [0.001]\n",
      "acc_at_end_of_epoch: 0.9500, loss_at_end_of_epoch: 0.1659\n",
      "\n",
      "\n",
      "Epoch: 2 Learning rate: [0.001]\n",
      "acc_at_end_of_epoch: 0.9555, loss_at_end_of_epoch: 0.1757\n",
      "\n",
      "\n",
      "Epoch: 3 Learning rate: [0.001]\n",
      "acc_at_end_of_epoch: 0.9656, loss_at_end_of_epoch: 0.1227\n",
      "\n",
      "\n",
      "Epoch: 4 Learning rate: [0.001]\n",
      "acc_at_end_of_epoch: 0.9392, loss_at_end_of_epoch: 0.2314\n",
      "\n",
      "\n",
      "Epoch: 5 Learning rate: [0.001]\n",
      "acc_at_end_of_epoch: 0.9608, loss_at_end_of_epoch: 0.1360\n",
      "\n",
      "\n",
      "Epoch: 6 Learning rate: [0.001]\n",
      "acc_at_end_of_epoch: 0.9537, loss_at_end_of_epoch: 0.1703\n",
      "\n",
      "\n",
      "Epoch: 7 Learning rate: [0.001]\n",
      "acc_at_end_of_epoch: 0.9597, loss_at_end_of_epoch: 0.1535\n",
      "\n",
      "\n",
      "Epoch: 8 Learning rate: [0.001]\n",
      "acc_at_end_of_epoch: 0.9626, loss_at_end_of_epoch: 0.1374\n",
      "\n",
      "\n",
      "Epoch: 9 Learning rate: [1e-05]\n",
      "acc_at_end_of_epoch: 0.9765, loss_at_end_of_epoch: 0.0816\n",
      "\n",
      "\n"
     ]
    }
   ],
   "source": [
    "metrics_history_first = train(10, network, train_data_loader, developement_data_loader, optimizer)"
   ]
  },
  {
   "cell_type": "code",
   "execution_count": 18,
   "metadata": {
    "colab": {
     "base_uri": "https://localhost:8080/"
    },
    "id": "jYAtsGQg_a8d",
    "outputId": "bfb111e5-cc67-4825-eb30-b5f9c81c3891"
   },
   "outputs": [
    {
     "name": "stdout",
     "output_type": "stream",
     "text": [
      "cpu\n"
     ]
    }
   ],
   "source": [
    "if torch.cuda.is_available():\n",
    "    device=torch.device(\"cuda:0\")\n",
    "else:\n",
    "    device=torch.device(\"cpu\")\n",
    "print(device)"
   ]
  },
  {
   "cell_type": "code",
   "execution_count": 19,
   "metadata": {
    "id": "BfBWK19v_jPw"
   },
   "outputs": [],
   "source": [
    "def test(network, test_data_loader):\n",
    "  network.eval()\n",
    "  with torch.no_grad():\n",
    "    correct = 0\n",
    "    total = 0\n",
    "    actuals = []\n",
    "    predictions = []\n",
    "    for images, labels in test_data_loader:\n",
    "        images = Variable(images)\n",
    "        results = network(images)\n",
    "        prediction = results.argmax(dim=1, keepdim=True)\n",
    "        actuals.extend(labels.view_as(prediction))\n",
    "        predictions.extend(prediction)\n",
    "    return [i.item() for i in actuals], [i.item() for i in predictions]\n",
    "\n",
    "#     return (correct / total) * 100"
   ]
  },
  {
   "cell_type": "code",
   "execution_count": 20,
   "metadata": {
    "colab": {
     "base_uri": "https://localhost:8080/"
    },
    "id": "dWQ3tCSX_rRI",
    "outputId": "e322c149-a2eb-40d7-a0ac-9d49d8044da5"
   },
   "outputs": [
    {
     "name": "stdout",
     "output_type": "stream",
     "text": [
      "After Test : \n",
      "Confusion matrix:\n",
      "[[ 972    1    0    1    0    0    4    1    1    0]\n",
      " [   3 1117    1    0    0    4    3    3    4    0]\n",
      " [   3    1 1006    6    0    0    1    8    7    0]\n",
      " [   0    0    1  999    0    5    0    3    2    0]\n",
      " [   0    3    2    0  959    0    2    1    1   14]\n",
      " [   0    1    0    7    0  877    2    0    4    1]\n",
      " [   5    4    1    0    4    4  938    0    2    0]\n",
      " [   0    2    7    4    0    0    0 1007    1    7]\n",
      " [   5    1    3    3    2    1    1    3  949    6]\n",
      " [   2    2    1    3    6    5    0    6    3  981]]\n"
     ]
    }
   ],
   "source": [
    "# acc_of_test=test(network, test_data_loader)\n",
    "print(\"After Test : \")\n",
    "# print(\"Accuracy of the model :\",acc_of_test)\n",
    "actuals, predictions = test(network, test_data_loader)\n",
    "print('Confusion matrix:')\n",
    "print(sk.confusion_matrix(actuals, predictions))"
   ]
  },
  {
   "cell_type": "code",
   "execution_count": 21,
   "metadata": {
    "colab": {
     "base_uri": "https://localhost:8080/"
    },
    "id": "R4_ysKyDt3In",
    "outputId": "5fa828fd-525b-4cc4-8c7d-9363806b5f2c"
   },
   "outputs": [
    {
     "name": "stdout",
     "output_type": "stream",
     "text": [
      "Accuracy score: 0.980500\n"
     ]
    }
   ],
   "source": [
    "print('Accuracy score: %f' % sk.accuracy_score(actuals, predictions))"
   ]
  },
  {
   "cell_type": "code",
   "execution_count": 22,
   "metadata": {
    "colab": {
     "base_uri": "https://localhost:8080/",
     "height": 295
    },
    "id": "KuUwCYUUIb2-",
    "outputId": "fa348e08-f550-4563-9dd8-05e04da0d1fc"
   },
   "outputs": [
    {
     "data": {
      "image/png": "[encoded data removed]",
      "text/plain": [
       "<Figure size 432x288 with 1 Axes>"
      ]
     },
     "metadata": {
      "needs_background": "light",
      "tags": []
     },
     "output_type": "display_data"
    }
   ],
   "source": [
    "accs=[x['acc_at_end_of_epoch'] for x in metrics_history_first]\n",
    "plt.plot(accs, '-x')\n",
    "plt.xlabel('epoch')\n",
    "plt.ylabel('accuracy')\n",
    "plt.title('accuracy vs. No. of epochs');"
   ]
  },
  {
   "cell_type": "code",
   "execution_count": 23,
   "metadata": {
    "colab": {
     "base_uri": "https://localhost:8080/",
     "height": 295
    },
    "id": "fsrINcH8IuN7",
    "outputId": "27df4f4b-557f-411d-fc78-d5c96cbda46a"
   },
   "outputs": [
    {
     "data": {
      "image/png": "[encoded data removed]",
      "text/plain": [
       "<Figure size 432x288 with 1 Axes>"
      ]
     },
     "metadata": {
      "needs_background": "light",
      "tags": []
     },
     "output_type": "display_data"
    }
   ],
   "source": [
    "losses = [x['loss_at_end_of_epoch'] for x in metrics_history_first]\n",
    "plt.plot(losses, '-x')\n",
    "plt.xlabel('epoch')\n",
    "plt.ylabel('loss')\n",
    "plt.title('Loss vs. No. of epochs');"
   ]
  },
  {
   "cell_type": "code",
   "execution_count": 24,
   "metadata": {
    "id": "MP-GlJsYAyr8"
   },
   "outputs": [],
   "source": [
    "# optimizer = adam"
   ]
  },
  {
   "cell_type": "code",
   "execution_count": 25,
   "metadata": {
    "id": "iXDpDUlSAOPP"
   },
   "outputs": [],
   "source": [
    "Loss = nn.CrossEntropyLoss()\n",
    "optimizer = torch.optim.Adam(network.parameters(), lr= 0.001)\n",
    "scheduler = StepLR(optimizer, step_size=10, gamma=0.1)"
   ]
  },
  {
   "cell_type": "code",
   "execution_count": 26,
   "metadata": {
    "colab": {
     "base_uri": "https://localhost:8080/"
    },
    "id": "kopZqfBgB87b",
    "outputId": "3da18914-74d0-4d70-ce9e-c514bdd7dba3"
   },
   "outputs": [
    {
     "name": "stdout",
     "output_type": "stream",
     "text": [
      "Epoch: 0 Learning rate: [0.001]\n",
      "acc_at_end_of_epoch: 0.9790, loss_at_end_of_epoch: 0.0745\n",
      "\n",
      "\n",
      "Epoch: 1 Learning rate: [0.001]\n",
      "acc_at_end_of_epoch: 0.9789, loss_at_end_of_epoch: 0.0755\n",
      "\n",
      "\n",
      "Epoch: 2 Learning rate: [0.001]\n",
      "acc_at_end_of_epoch: 0.9787, loss_at_end_of_epoch: 0.0757\n",
      "\n",
      "\n",
      "Epoch: 3 Learning rate: [0.001]\n",
      "acc_at_end_of_epoch: 0.9783, loss_at_end_of_epoch: 0.0796\n",
      "\n",
      "\n",
      "Epoch: 4 Learning rate: [0.001]\n",
      "acc_at_end_of_epoch: 0.9783, loss_at_end_of_epoch: 0.0871\n",
      "\n",
      "\n",
      "Epoch: 5 Learning rate: [0.001]\n",
      "acc_at_end_of_epoch: 0.9785, loss_at_end_of_epoch: 0.0811\n",
      "\n",
      "\n",
      "Epoch: 6 Learning rate: [0.001]\n",
      "acc_at_end_of_epoch: 0.9785, loss_at_end_of_epoch: 0.0838\n",
      "\n",
      "\n",
      "Epoch: 7 Learning rate: [0.001]\n",
      "acc_at_end_of_epoch: 0.9785, loss_at_end_of_epoch: 0.0878\n",
      "\n",
      "\n",
      "Epoch: 8 Learning rate: [0.001]\n",
      "acc_at_end_of_epoch: 0.9791, loss_at_end_of_epoch: 0.0862\n",
      "\n",
      "\n",
      "Epoch: 9 Learning rate: [1e-05]\n",
      "acc_at_end_of_epoch: 0.9800, loss_at_end_of_epoch: 0.0858\n",
      "\n",
      "\n"
     ]
    }
   ],
   "source": [
    "metrics_history_second = train(10, network, train_data_loader, developement_data_loader, optimizer)"
   ]
  },
  {
   "cell_type": "code",
   "execution_count": 27,
   "metadata": {
    "colab": {
     "base_uri": "https://localhost:8080/"
    },
    "id": "KxYmSei_Hovt",
    "outputId": "60b5a05f-f1bb-4caa-b1fb-0f8a646e2590"
   },
   "outputs": [
    {
     "name": "stdout",
     "output_type": "stream",
     "text": [
      "After Test : \n",
      "Confusion matrix:\n",
      "[[ 972    1    1    2    0    0    3    0    1    0]\n",
      " [   0 1124    2    0    0    2    1    2    4    0]\n",
      " [   3    5 1019    1    0    0    0    2    2    0]\n",
      " [   0    0    4  994    0    5    0    5    2    0]\n",
      " [   0    2    4    0  963    0    3    0    1    9]\n",
      " [   2    0    0    5    0  880    1    1    2    1]\n",
      " [   7    2    2    0    2    4  938    0    3    0]\n",
      " [   0    3    9    2    0    0    0 1010    1    3]\n",
      " [   3    1    4    2    3    1    1    2  952    5]\n",
      " [   2    3    1    0    3    3    0    6    5  986]]\n"
     ]
    }
   ],
   "source": [
    "# acc_of_test=test(network, test_data_loader)\n",
    "print(\"After Test : \")\n",
    "# print(\"Accuracy of the model :\",acc_of_test)\n",
    "actuals, predictions = test(network, test_data_loader)\n",
    "print('Confusion matrix:')\n",
    "print(sk.confusion_matrix(actuals, predictions))"
   ]
  },
  {
   "cell_type": "code",
   "execution_count": 28,
   "metadata": {
    "colab": {
     "base_uri": "https://localhost:8080/"
    },
    "id": "g5M9X4JguIWK",
    "outputId": "4fd7e8fe-d190-4d58-fb4c-a85735778f96"
   },
   "outputs": [
    {
     "name": "stdout",
     "output_type": "stream",
     "text": [
      "Accuracy score: 0.983800\n"
     ]
    }
   ],
   "source": [
    "print('Accuracy score: %f' % sk.accuracy_score(actuals, predictions))"
   ]
  },
  {
   "cell_type": "code",
   "execution_count": 29,
   "metadata": {
    "colab": {
     "base_uri": "https://localhost:8080/",
     "height": 295
    },
    "id": "jOfB4tU9IUmJ",
    "outputId": "8d1f8b60-f8eb-4cad-d977-183c0e54a96d"
   },
   "outputs": [
    {
     "data": {
      "image/png": "[encoded data removed]",
      "text/plain": [
       "<Figure size 432x288 with 1 Axes>"
      ]
     },
     "metadata": {
      "needs_background": "light",
      "tags": []
     },
     "output_type": "display_data"
    }
   ],
   "source": [
    "accs=[x['acc_at_end_of_epoch'] for x in metrics_history_second]\n",
    "plt.plot(accs, '-x')\n",
    "plt.xlabel('epoch')\n",
    "plt.ylabel('accuracy')\n",
    "plt.title('accuracy vs. No. of epochs');"
   ]
  },
  {
   "cell_type": "code",
   "execution_count": 30,
   "metadata": {
    "colab": {
     "base_uri": "https://localhost:8080/",
     "height": 295
    },
    "id": "LHuehUTQI86K",
    "outputId": "24fbadf7-a6bc-4a04-91df-1db7d2e499d7"
   },
   "outputs": [
    {
     "data": {
      "image/png": "[encoded data removed]",
      "text/plain": [
       "<Figure size 432x288 with 1 Axes>"
      ]
     },
     "metadata": {
      "needs_background": "light",
      "tags": []
     },
     "output_type": "display_data"
    }
   ],
   "source": [
    "losses = [x['loss_at_end_of_epoch'] for x in metrics_history_second]\n",
    "plt.plot(losses, '-x')\n",
    "plt.xlabel('epoch')\n",
    "plt.ylabel('loss')\n",
    "plt.title('Loss vs. No. of epochs');"
   ]
  },
  {
   "cell_type": "code",
   "execution_count": 31,
   "metadata": {
    "id": "ZnInQC7BJIsc"
   },
   "outputs": [],
   "source": [
    "# optimizer nestorov"
   ]
  },
  {
   "cell_type": "code",
   "execution_count": 32,
   "metadata": {
    "id": "kmmgTa-eJNDn"
   },
   "outputs": [],
   "source": [
    "Loss = nn.CrossEntropyLoss()\n",
    "#optimizer = torch.optim.Adam(network.parameters(), lr= 0.001)\n",
    "optimizer = torch.optim.SGD(network.parameters(), lr=0.001, momentum=0.9, nesterov = True)\n",
    "scheduler = StepLR(optimizer, step_size=10, gamma=0.1)"
   ]
  },
  {
   "cell_type": "code",
   "execution_count": 33,
   "metadata": {
    "colab": {
     "base_uri": "https://localhost:8080/"
    },
    "id": "5cPyvh1aJpzO",
    "outputId": "47164260-fa52-4bb3-b555-3042269383a0"
   },
   "outputs": [
    {
     "name": "stdout",
     "output_type": "stream",
     "text": [
      "Epoch: 0 Learning rate: [0.001]\n",
      "acc_at_end_of_epoch: 0.9794, loss_at_end_of_epoch: 0.0877\n",
      "\n",
      "\n",
      "Epoch: 1 Learning rate: [0.001]\n",
      "acc_at_end_of_epoch: 0.9799, loss_at_end_of_epoch: 0.0893\n",
      "\n",
      "\n",
      "Epoch: 2 Learning rate: [0.001]\n",
      "acc_at_end_of_epoch: 0.9795, loss_at_end_of_epoch: 0.0895\n",
      "\n",
      "\n",
      "Epoch: 3 Learning rate: [0.001]\n",
      "acc_at_end_of_epoch: 0.9793, loss_at_end_of_epoch: 0.0892\n",
      "\n",
      "\n",
      "Epoch: 4 Learning rate: [0.001]\n",
      "acc_at_end_of_epoch: 0.9793, loss_at_end_of_epoch: 0.0909\n",
      "\n",
      "\n",
      "Epoch: 5 Learning rate: [0.001]\n",
      "acc_at_end_of_epoch: 0.9794, loss_at_end_of_epoch: 0.0909\n",
      "\n",
      "\n",
      "Epoch: 6 Learning rate: [0.001]\n",
      "acc_at_end_of_epoch: 0.9795, loss_at_end_of_epoch: 0.0903\n",
      "\n",
      "\n",
      "Epoch: 7 Learning rate: [0.001]\n",
      "acc_at_end_of_epoch: 0.9794, loss_at_end_of_epoch: 0.0916\n",
      "\n",
      "\n",
      "Epoch: 8 Learning rate: [0.001]\n",
      "acc_at_end_of_epoch: 0.9791, loss_at_end_of_epoch: 0.0923\n",
      "\n",
      "\n",
      "Epoch: 9 Learning rate: [1e-05]\n",
      "acc_at_end_of_epoch: 0.9792, loss_at_end_of_epoch: 0.0909\n",
      "\n",
      "\n"
     ]
    }
   ],
   "source": [
    "metrics_history_third = train(10, network, train_data_loader, developement_data_loader, optimizer)"
   ]
  },
  {
   "cell_type": "code",
   "execution_count": 34,
   "metadata": {
    "colab": {
     "base_uri": "https://localhost:8080/"
    },
    "id": "p_jaFqaWORSh",
    "outputId": "d5e87408-643f-45ec-b155-8a4c8501e519"
   },
   "outputs": [
    {
     "name": "stdout",
     "output_type": "stream",
     "text": [
      "After Test : \n",
      "Confusion matrix:\n",
      "[[ 969    1    1    2    0    0    4    0    2    1]\n",
      " [   0 1125    2    0    0    2    1    2    3    0]\n",
      " [   3    5 1019    1    0    0    0    2    2    0]\n",
      " [   0    0    4  995    0    5    0    5    1    0]\n",
      " [   0    2    4    0  960    0    3    0    2   11]\n",
      " [   2    0    0    5    0  880    1    1    2    1]\n",
      " [   7    2    2    0    2    4  939    0    2    0]\n",
      " [   0    3    7    2    0    0    0 1011    1    4]\n",
      " [   3    1    4    2    3    1    1    2  952    5]\n",
      " [   2    1    1    0    7    3    0    6    5  984]]\n"
     ]
    }
   ],
   "source": [
    "# acc_of_test=test(network, test_data_loader)\n",
    "print(\"After Test : \")\n",
    "# print(\"Accuracy of the model :\",acc_of_test)\n",
    "actuals, predictions = test(network, test_data_loader)\n",
    "print('Confusion matrix:')\n",
    "print(sk.confusion_matrix(actuals, predictions))"
   ]
  },
  {
   "cell_type": "code",
   "execution_count": 35,
   "metadata": {
    "colab": {
     "base_uri": "https://localhost:8080/"
    },
    "id": "fQniWj6Fudf8",
    "outputId": "50b29e67-6291-4b3b-9dd4-f42057ec0269"
   },
   "outputs": [
    {
     "name": "stdout",
     "output_type": "stream",
     "text": [
      "Accuracy score: 0.983400\n"
     ]
    }
   ],
   "source": [
    "print('Accuracy score: %f' % sk.accuracy_score(actuals, predictions))"
   ]
  },
  {
   "cell_type": "code",
   "execution_count": 36,
   "metadata": {
    "colab": {
     "base_uri": "https://localhost:8080/",
     "height": 295
    },
    "id": "lQ1UGH7kOfO7",
    "outputId": "1f90d357-c7f3-44f7-c619-cf945382ebae"
   },
   "outputs": [
    {
     "data": {
      "image/png": "[encoded data removed]",
      "text/plain": [
       "<Figure size 432x288 with 1 Axes>"
      ]
     },
     "metadata": {
      "needs_background": "light",
      "tags": []
     },
     "output_type": "display_data"
    }
   ],
   "source": [
    "accs=[x['acc_at_end_of_epoch'] for x in metrics_history_third]\n",
    "plt.plot(accs, '-x')\n",
    "plt.xlabel('epoch')\n",
    "plt.ylabel('accuracy')\n",
    "plt.title('accuracy vs. No. of epochs');"
   ]
  },
  {
   "cell_type": "code",
   "execution_count": 37,
   "metadata": {
    "colab": {
     "base_uri": "https://localhost:8080/",
     "height": 295
    },
    "id": "MN7RbxtEOkrL",
    "outputId": "7d92b623-4c0e-4c33-d979-80064f2a0dcc"
   },
   "outputs": [
    {
     "data": {
      "image/png": "[encoded data removed]",
      "text/plain": [
       "<Figure size 432x288 with 1 Axes>"
      ]
     },
     "metadata": {
      "needs_background": "light",
      "tags": []
     },
     "output_type": "display_data"
    }
   ],
   "source": [
    "losses = [x['loss_at_end_of_epoch'] for x in metrics_history_third]\n",
    "plt.plot(losses, '-x')\n",
    "plt.xlabel('epoch')\n",
    "plt.ylabel('loss')\n",
    "plt.title('Loss vs. No. of epochs');"
   ]
  },
  {
   "cell_type": "markdown",
   "metadata": {
    "id": "1AW0i8PsBBX5"
   },
   "source": [
    "baseline- optimizers \n",
    "\n",
    "\n",
    "we have implemented 3 optimizers\n",
    "\n",
    "RMSprop uses an adaptive learning rate instead of treating the learning rate as a hyperparameter. This means that the learning rate changes over time.\n",
    "\n",
    "Adam is a replacement optimization algorithm for stochastic gradient descent for training deep learning models.Adam combines the best properties of the AdaGrad and RMSProp algorithms to provide an optimization algorithm that can handle sparse gradients on noisy problems.\n",
    "\n",
    "Nestorov is a technique where the gradient for  a time step, also takes into account the estimated gradient for the next time step, which gives a better idea whether to slow down or not.\n",
    "\n",
    "We have started the learning rate from 0.001 and implemented the same schedular, as per the above results, while the optimizers seems to fit the data decently, adam optimizer performs the best followed RMSprop, and then nestorov. \n",
    "\n",
    "The results obtained would have been higher if run with a better learning rate and more epochs, but due to hardware limitation we couldnt do so, but based on the results obtained we may conclude that adam optimizer by its technique and performance is the most reliable optimizer for CNN. "
   ]
  }
 ],
 "metadata": {
  "colab": {
   "collapsed_sections": [],
   "name": "baseline_optimizer (1).ipynb",
   "provenance": []
  },
  "kernelspec": {
   "display_name": "Python 3",
   "language": "python",
   "name": "python3"
  },
  "language_info": {
   "codemirror_mode": {
    "name": "ipython",
    "version": 3
   },
   "file_extension": ".py",
   "mimetype": "text/x-python",
   "name": "python",
   "nbconvert_exporter": "python",
   "pygments_lexer": "ipython3",
   "version": "3.8.5"
  },
  "widgets": {
   "application/vnd.jupyter.widget-state+json": {
    "0c63f7245b31468696ff967196845f9c": {
     "model_module": "@jupyter-widgets/controls",
     "model_name": "FloatProgressModel",
     "state": {
      "_dom_classes": [],
      "_model_module": "@jupyter-widgets/controls",
      "_model_module_version": "1.5.0",
      "_model_name": "FloatProgressModel",
      "_view_count": null,
      "_view_module": "@jupyter-widgets/controls",
      "_view_module_version": "1.5.0",
      "_view_name": "ProgressView",
      "bar_style": "success",
      "description": "",
      "description_tooltip": null,
      "layout": "IPY_MODEL_e7e7fc5fe8134b3c85eacf502afeaf30",
      "max": 9912422,
      "min": 0,
      "orientation": "horizontal",
      "style": "IPY_MODEL_b9d338a8a2b244e8bfb2e63c4e9dbe11",
      "value": 9912422
     }
    },
    "0d278fb59f48434fba78f26acb010806": {
     "model_module": "@jupyter-widgets/controls",
     "model_name": "ProgressStyleModel",
     "state": {
      "_model_module": "@jupyter-widgets/controls",
      "_model_module_version": "1.5.0",
      "_model_name": "ProgressStyleModel",
      "_view_count": null,
      "_view_module": "@jupyter-widgets/base",
      "_view_module_version": "1.2.0",
      "_view_name": "StyleView",
      "bar_color": null,
      "description_width": "initial"
     }
    },
    "12ff0c86c7e44379816fd2cbd1272003": {
     "model_module": "@jupyter-widgets/base",
     "model_name": "LayoutModel",
     "state": {
      "_model_module": "@jupyter-widgets/base",
      "_model_module_version": "1.2.0",
      "_model_name": "LayoutModel",
      "_view_count": null,
      "_view_module": "@jupyter-widgets/base",
      "_view_module_version": "1.2.0",
      "_view_name": "LayoutView",
      "align_content": null,
      "align_items": null,
      "align_self": null,
      "border": null,
      "bottom": null,
      "display": null,
      "flex": null,
      "flex_flow": null,
      "grid_area": null,
      "grid_auto_columns": null,
      "grid_auto_flow": null,
      "grid_auto_rows": null,
      "grid_column": null,
      "grid_gap": null,
      "grid_row": null,
      "grid_template_areas": null,
      "grid_template_columns": null,
      "grid_template_rows": null,
      "height": null,
      "justify_content": null,
      "justify_items": null,
      "left": null,
      "margin": null,
      "max_height": null,
      "max_width": null,
      "min_height": null,
      "min_width": null,
      "object_fit": null,
      "object_position": null,
      "order": null,
      "overflow": null,
      "overflow_x": null,
      "overflow_y": null,
      "padding": null,
      "right": null,
      "top": null,
      "visibility": null,
      "width": null
     }
    },
    "157616c602d04576ad96ff4eea4bfa48": {
     "model_module": "@jupyter-widgets/controls",
     "model_name": "FloatProgressModel",
     "state": {
      "_dom_classes": [],
      "_model_module": "@jupyter-widgets/controls",
      "_model_module_version": "1.5.0",
      "_model_name": "FloatProgressModel",
      "_view_count": null,
      "_view_module": "@jupyter-widgets/controls",
      "_view_module_version": "1.5.0",
      "_view_name": "ProgressView",
      "bar_style": "success",
      "description": "",
      "description_tooltip": null,
      "layout": "IPY_MODEL_7d456942d94c4bd68c10fb312aa69107",
      "max": 28881,
      "min": 0,
      "orientation": "horizontal",
      "style": "IPY_MODEL_9765ab8cd8ec49c4a8e0ffb2b231b604",
      "value": 28881
     }
    },
    "1b51587469484951ba4c39d1c5d0c46a": {
     "model_module": "@jupyter-widgets/base",
     "model_name": "LayoutModel",
     "state": {
      "_model_module": "@jupyter-widgets/base",
      "_model_module_version": "1.2.0",
      "_model_name": "LayoutModel",
      "_view_count": null,
      "_view_module": "@jupyter-widgets/base",
      "_view_module_version": "1.2.0",
      "_view_name": "LayoutView",
      "align_content": null,
      "align_items": null,
      "align_self": null,
      "border": null,
      "bottom": null,
      "display": null,
      "flex": null,
      "flex_flow": null,
      "grid_area": null,
      "grid_auto_columns": null,
      "grid_auto_flow": null,
      "grid_auto_rows": null,
      "grid_column": null,
      "grid_gap": null,
      "grid_row": null,
      "grid_template_areas": null,
      "grid_template_columns": null,
      "grid_template_rows": null,
      "height": null,
      "justify_content": null,
      "justify_items": null,
      "left": null,
      "margin": null,
      "max_height": null,
      "max_width": null,
      "min_height": null,
      "min_width": null,
      "object_fit": null,
      "object_position": null,
      "order": null,
      "overflow": null,
      "overflow_x": null,
      "overflow_y": null,
      "padding": null,
      "right": null,
      "top": null,
      "visibility": null,
      "width": null
     }
    },
    "2e283a6f08b54c30aab76e078bd86d2f": {
     "model_module": "@jupyter-widgets/controls",
     "model_name": "HBoxModel",
     "state": {
      "_dom_classes": [],
      "_model_module": "@jupyter-widgets/controls",
      "_model_module_version": "1.5.0",
      "_model_name": "HBoxModel",
      "_view_count": null,
      "_view_module": "@jupyter-widgets/controls",
      "_view_module_version": "1.5.0",
      "_view_name": "HBoxView",
      "box_style": "",
      "children": [
       "IPY_MODEL_157616c602d04576ad96ff4eea4bfa48",
       "IPY_MODEL_b8c71d1b4ab24e5f86e4279a9106e236"
      ],
      "layout": "IPY_MODEL_6f1802d25d8b403484a4f88b21cea263"
     }
    },
    "30289edebdd647178617ea6379805d28": {
     "model_module": "@jupyter-widgets/base",
     "model_name": "LayoutModel",
     "state": {
      "_model_module": "@jupyter-widgets/base",
      "_model_module_version": "1.2.0",
      "_model_name": "LayoutModel",
      "_view_count": null,
      "_view_module": "@jupyter-widgets/base",
      "_view_module_version": "1.2.0",
      "_view_name": "LayoutView",
      "align_content": null,
      "align_items": null,
      "align_self": null,
      "border": null,
      "bottom": null,
      "display": null,
      "flex": null,
      "flex_flow": null,
      "grid_area": null,
      "grid_auto_columns": null,
      "grid_auto_flow": null,
      "grid_auto_rows": null,
      "grid_column": null,
      "grid_gap": null,
      "grid_row": null,
      "grid_template_areas": null,
      "grid_template_columns": null,
      "grid_template_rows": null,
      "height": null,
      "justify_content": null,
      "justify_items": null,
      "left": null,
      "margin": null,
      "max_height": null,
      "max_width": null,
      "min_height": null,
      "min_width": null,
      "object_fit": null,
      "object_position": null,
      "order": null,
      "overflow": null,
      "overflow_x": null,
      "overflow_y": null,
      "padding": null,
      "right": null,
      "top": null,
      "visibility": null,
      "width": null
     }
    },
    "377ca2c438f8462b81cf5cbef909522e": {
     "model_module": "@jupyter-widgets/base",
     "model_name": "LayoutModel",
     "state": {
      "_model_module": "@jupyter-widgets/base",
      "_model_module_version": "1.2.0",
      "_model_name": "LayoutModel",
      "_view_count": null,
      "_view_module": "@jupyter-widgets/base",
      "_view_module_version": "1.2.0",
      "_view_name": "LayoutView",
      "align_content": null,
      "align_items": null,
      "align_self": null,
      "border": null,
      "bottom": null,
      "display": null,
      "flex": null,
      "flex_flow": null,
      "grid_area": null,
      "grid_auto_columns": null,
      "grid_auto_flow": null,
      "grid_auto_rows": null,
      "grid_column": null,
      "grid_gap": null,
      "grid_row": null,
      "grid_template_areas": null,
      "grid_template_columns": null,
      "grid_template_rows": null,
      "height": null,
      "justify_content": null,
      "justify_items": null,
      "left": null,
      "margin": null,
      "max_height": null,
      "max_width": null,
      "min_height": null,
      "min_width": null,
      "object_fit": null,
      "object_position": null,
      "order": null,
      "overflow": null,
      "overflow_x": null,
      "overflow_y": null,
      "padding": null,
      "right": null,
      "top": null,
      "visibility": null,
      "width": null
     }
    },
    "6204304c12394db395a123b9d9e07f77": {
     "model_module": "@jupyter-widgets/base",
     "model_name": "LayoutModel",
     "state": {
      "_model_module": "@jupyter-widgets/base",
      "_model_module_version": "1.2.0",
      "_model_name": "LayoutModel",
      "_view_count": null,
      "_view_module": "@jupyter-widgets/base",
      "_view_module_version": "1.2.0",
      "_view_name": "LayoutView",
      "align_content": null,
      "align_items": null,
      "align_self": null,
      "border": null,
      "bottom": null,
      "display": null,
      "flex": null,
      "flex_flow": null,
      "grid_area": null,
      "grid_auto_columns": null,
      "grid_auto_flow": null,
      "grid_auto_rows": null,
      "grid_column": null,
      "grid_gap": null,
      "grid_row": null,
      "grid_template_areas": null,
      "grid_template_columns": null,
      "grid_template_rows": null,
      "height": null,
      "justify_content": null,
      "justify_items": null,
      "left": null,
      "margin": null,
      "max_height": null,
      "max_width": null,
      "min_height": null,
      "min_width": null,
      "object_fit": null,
      "object_position": null,
      "order": null,
      "overflow": null,
      "overflow_x": null,
      "overflow_y": null,
      "padding": null,
      "right": null,
      "top": null,
      "visibility": null,
      "width": null
     }
    },
    "65ca20e1c9994dfa9fcb00ef0e863885": {
     "model_module": "@jupyter-widgets/controls",
     "model_name": "FloatProgressModel",
     "state": {
      "_dom_classes": [],
      "_model_module": "@jupyter-widgets/controls",
      "_model_module_version": "1.5.0",
      "_model_name": "FloatProgressModel",
      "_view_count": null,
      "_view_module": "@jupyter-widgets/controls",
      "_view_module_version": "1.5.0",
      "_view_name": "ProgressView",
      "bar_style": "success",
      "description": "",
      "description_tooltip": null,
      "layout": "IPY_MODEL_12ff0c86c7e44379816fd2cbd1272003",
      "max": 1648877,
      "min": 0,
      "orientation": "horizontal",
      "style": "IPY_MODEL_0d278fb59f48434fba78f26acb010806",
      "value": 1648877
     }
    },
    "6dcfe5da555442118600570bb41865a6": {
     "model_module": "@jupyter-widgets/controls",
     "model_name": "HBoxModel",
     "state": {
      "_dom_classes": [],
      "_model_module": "@jupyter-widgets/controls",
      "_model_module_version": "1.5.0",
      "_model_name": "HBoxModel",
      "_view_count": null,
      "_view_module": "@jupyter-widgets/controls",
      "_view_module_version": "1.5.0",
      "_view_name": "HBoxView",
      "box_style": "",
      "children": [
       "IPY_MODEL_0c63f7245b31468696ff967196845f9c",
       "IPY_MODEL_706d2a32658f4078b317d83d6dcedeaa"
      ],
      "layout": "IPY_MODEL_da492e9994be4b2ab4483b78bff99149"
     }
    },
    "6f1802d25d8b403484a4f88b21cea263": {
     "model_module": "@jupyter-widgets/base",
     "model_name": "LayoutModel",
     "state": {
      "_model_module": "@jupyter-widgets/base",
      "_model_module_version": "1.2.0",
      "_model_name": "LayoutModel",
      "_view_count": null,
      "_view_module": "@jupyter-widgets/base",
      "_view_module_version": "1.2.0",
      "_view_name": "LayoutView",
      "align_content": null,
      "align_items": null,
      "align_self": null,
      "border": null,
      "bottom": null,
      "display": null,
      "flex": null,
      "flex_flow": null,
      "grid_area": null,
      "grid_auto_columns": null,
      "grid_auto_flow": null,
      "grid_auto_rows": null,
      "grid_column": null,
      "grid_gap": null,
      "grid_row": null,
      "grid_template_areas": null,
      "grid_template_columns": null,
      "grid_template_rows": null,
      "height": null,
      "justify_content": null,
      "justify_items": null,
      "left": null,
      "margin": null,
      "max_height": null,
      "max_width": null,
      "min_height": null,
      "min_width": null,
      "object_fit": null,
      "object_position": null,
      "order": null,
      "overflow": null,
      "overflow_x": null,
      "overflow_y": null,
      "padding": null,
      "right": null,
      "top": null,
      "visibility": null,
      "width": null
     }
    },
    "706d2a32658f4078b317d83d6dcedeaa": {
     "model_module": "@jupyter-widgets/controls",
     "model_name": "HTMLModel",
     "state": {
      "_dom_classes": [],
      "_model_module": "@jupyter-widgets/controls",
      "_model_module_version": "1.5.0",
      "_model_name": "HTMLModel",
      "_view_count": null,
      "_view_module": "@jupyter-widgets/controls",
      "_view_module_version": "1.5.0",
      "_view_name": "HTMLView",
      "description": "",
      "description_tooltip": null,
      "layout": "IPY_MODEL_1b51587469484951ba4c39d1c5d0c46a",
      "placeholder": "​",
      "style": "IPY_MODEL_9ae55030c8f14fea8ae05512eaa1bcf3",
      "value": " 9913344/? [00:29&lt;00:00, 341086.51it/s]"
     }
    },
    "760bd808ad6d4a5a957df95e03e4cf7d": {
     "model_module": "@jupyter-widgets/controls",
     "model_name": "HTMLModel",
     "state": {
      "_dom_classes": [],
      "_model_module": "@jupyter-widgets/controls",
      "_model_module_version": "1.5.0",
      "_model_name": "HTMLModel",
      "_view_count": null,
      "_view_module": "@jupyter-widgets/controls",
      "_view_module_version": "1.5.0",
      "_view_name": "HTMLView",
      "description": "",
      "description_tooltip": null,
      "layout": "IPY_MODEL_6204304c12394db395a123b9d9e07f77",
      "placeholder": "​",
      "style": "IPY_MODEL_e6e5c742c0e04be090b52e8422981d2f",
      "value": " 5120/? [00:19&lt;00:00, 262.46it/s]"
     }
    },
    "7d456942d94c4bd68c10fb312aa69107": {
     "model_module": "@jupyter-widgets/base",
     "model_name": "LayoutModel",
     "state": {
      "_model_module": "@jupyter-widgets/base",
      "_model_module_version": "1.2.0",
      "_model_name": "LayoutModel",
      "_view_count": null,
      "_view_module": "@jupyter-widgets/base",
      "_view_module_version": "1.2.0",
      "_view_name": "LayoutView",
      "align_content": null,
      "align_items": null,
      "align_self": null,
      "border": null,
      "bottom": null,
      "display": null,
      "flex": null,
      "flex_flow": null,
      "grid_area": null,
      "grid_auto_columns": null,
      "grid_auto_flow": null,
      "grid_auto_rows": null,
      "grid_column": null,
      "grid_gap": null,
      "grid_row": null,
      "grid_template_areas": null,
      "grid_template_columns": null,
      "grid_template_rows": null,
      "height": null,
      "justify_content": null,
      "justify_items": null,
      "left": null,
      "margin": null,
      "max_height": null,
      "max_width": null,
      "min_height": null,
      "min_width": null,
      "object_fit": null,
      "object_position": null,
      "order": null,
      "overflow": null,
      "overflow_x": null,
      "overflow_y": null,
      "padding": null,
      "right": null,
      "top": null,
      "visibility": null,
      "width": null
     }
    },
    "89a64234ab9d4f6fa108c7098a31a524": {
     "model_module": "@jupyter-widgets/base",
     "model_name": "LayoutModel",
     "state": {
      "_model_module": "@jupyter-widgets/base",
      "_model_module_version": "1.2.0",
      "_model_name": "LayoutModel",
      "_view_count": null,
      "_view_module": "@jupyter-widgets/base",
      "_view_module_version": "1.2.0",
      "_view_name": "LayoutView",
      "align_content": null,
      "align_items": null,
      "align_self": null,
      "border": null,
      "bottom": null,
      "display": null,
      "flex": null,
      "flex_flow": null,
      "grid_area": null,
      "grid_auto_columns": null,
      "grid_auto_flow": null,
      "grid_auto_rows": null,
      "grid_column": null,
      "grid_gap": null,
      "grid_row": null,
      "grid_template_areas": null,
      "grid_template_columns": null,
      "grid_template_rows": null,
      "height": null,
      "justify_content": null,
      "justify_items": null,
      "left": null,
      "margin": null,
      "max_height": null,
      "max_width": null,
      "min_height": null,
      "min_width": null,
      "object_fit": null,
      "object_position": null,
      "order": null,
      "overflow": null,
      "overflow_x": null,
      "overflow_y": null,
      "padding": null,
      "right": null,
      "top": null,
      "visibility": null,
      "width": null
     }
    },
    "8a7febe5d1ee49c9831f77301e89990a": {
     "model_module": "@jupyter-widgets/controls",
     "model_name": "HBoxModel",
     "state": {
      "_dom_classes": [],
      "_model_module": "@jupyter-widgets/controls",
      "_model_module_version": "1.5.0",
      "_model_name": "HBoxModel",
      "_view_count": null,
      "_view_module": "@jupyter-widgets/controls",
      "_view_module_version": "1.5.0",
      "_view_name": "HBoxView",
      "box_style": "",
      "children": [
       "IPY_MODEL_e278dc0642874f7ca805dc37adaf7ff7",
       "IPY_MODEL_760bd808ad6d4a5a957df95e03e4cf7d"
      ],
      "layout": "IPY_MODEL_30289edebdd647178617ea6379805d28"
     }
    },
    "9765ab8cd8ec49c4a8e0ffb2b231b604": {
     "model_module": "@jupyter-widgets/controls",
     "model_name": "ProgressStyleModel",
     "state": {
      "_model_module": "@jupyter-widgets/controls",
      "_model_module_version": "1.5.0",
      "_model_name": "ProgressStyleModel",
      "_view_count": null,
      "_view_module": "@jupyter-widgets/base",
      "_view_module_version": "1.2.0",
      "_view_name": "StyleView",
      "bar_color": null,
      "description_width": "initial"
     }
    },
    "984d3c9b4b3847b495ce1945e5a4d451": {
     "model_module": "@jupyter-widgets/controls",
     "model_name": "DescriptionStyleModel",
     "state": {
      "_model_module": "@jupyter-widgets/controls",
      "_model_module_version": "1.5.0",
      "_model_name": "DescriptionStyleModel",
      "_view_count": null,
      "_view_module": "@jupyter-widgets/base",
      "_view_module_version": "1.2.0",
      "_view_name": "StyleView",
      "description_width": ""
     }
    },
    "9ae55030c8f14fea8ae05512eaa1bcf3": {
     "model_module": "@jupyter-widgets/controls",
     "model_name": "DescriptionStyleModel",
     "state": {
      "_model_module": "@jupyter-widgets/controls",
      "_model_module_version": "1.5.0",
      "_model_name": "DescriptionStyleModel",
      "_view_count": null,
      "_view_module": "@jupyter-widgets/base",
      "_view_module_version": "1.2.0",
      "_view_name": "StyleView",
      "description_width": ""
     }
    },
    "b5da4c0d89ef41cab241967d7a13b0ce": {
     "model_module": "@jupyter-widgets/controls",
     "model_name": "HTMLModel",
     "state": {
      "_dom_classes": [],
      "_model_module": "@jupyter-widgets/controls",
      "_model_module_version": "1.5.0",
      "_model_name": "HTMLModel",
      "_view_count": null,
      "_view_module": "@jupyter-widgets/controls",
      "_view_module_version": "1.5.0",
      "_view_name": "HTMLView",
      "description": "",
      "description_tooltip": null,
      "layout": "IPY_MODEL_c68095a5c7aa47c28815ded289a3e527",
      "placeholder": "​",
      "style": "IPY_MODEL_dd6957f022834bbf956d8d839d5d591e",
      "value": " 1649664/? [00:27&lt;00:00, 59367.12it/s]"
     }
    },
    "b8c71d1b4ab24e5f86e4279a9106e236": {
     "model_module": "@jupyter-widgets/controls",
     "model_name": "HTMLModel",
     "state": {
      "_dom_classes": [],
      "_model_module": "@jupyter-widgets/controls",
      "_model_module_version": "1.5.0",
      "_model_name": "HTMLModel",
      "_view_count": null,
      "_view_module": "@jupyter-widgets/controls",
      "_view_module_version": "1.5.0",
      "_view_name": "HTMLView",
      "description": "",
      "description_tooltip": null,
      "layout": "IPY_MODEL_89a64234ab9d4f6fa108c7098a31a524",
      "placeholder": "​",
      "style": "IPY_MODEL_984d3c9b4b3847b495ce1945e5a4d451",
      "value": " 29696/? [00:00&lt;00:00, 66679.83it/s]"
     }
    },
    "b9d338a8a2b244e8bfb2e63c4e9dbe11": {
     "model_module": "@jupyter-widgets/controls",
     "model_name": "ProgressStyleModel",
     "state": {
      "_model_module": "@jupyter-widgets/controls",
      "_model_module_version": "1.5.0",
      "_model_name": "ProgressStyleModel",
      "_view_count": null,
      "_view_module": "@jupyter-widgets/base",
      "_view_module_version": "1.2.0",
      "_view_name": "StyleView",
      "bar_color": null,
      "description_width": "initial"
     }
    },
    "c12fa6fa2a734cbca6d829d3811dfe47": {
     "model_module": "@jupyter-widgets/controls",
     "model_name": "ProgressStyleModel",
     "state": {
      "_model_module": "@jupyter-widgets/controls",
      "_model_module_version": "1.5.0",
      "_model_name": "ProgressStyleModel",
      "_view_count": null,
      "_view_module": "@jupyter-widgets/base",
      "_view_module_version": "1.2.0",
      "_view_name": "StyleView",
      "bar_color": null,
      "description_width": "initial"
     }
    },
    "c68095a5c7aa47c28815ded289a3e527": {
     "model_module": "@jupyter-widgets/base",
     "model_name": "LayoutModel",
     "state": {
      "_model_module": "@jupyter-widgets/base",
      "_model_module_version": "1.2.0",
      "_model_name": "LayoutModel",
      "_view_count": null,
      "_view_module": "@jupyter-widgets/base",
      "_view_module_version": "1.2.0",
      "_view_name": "LayoutView",
      "align_content": null,
      "align_items": null,
      "align_self": null,
      "border": null,
      "bottom": null,
      "display": null,
      "flex": null,
      "flex_flow": null,
      "grid_area": null,
      "grid_auto_columns": null,
      "grid_auto_flow": null,
      "grid_auto_rows": null,
      "grid_column": null,
      "grid_gap": null,
      "grid_row": null,
      "grid_template_areas": null,
      "grid_template_columns": null,
      "grid_template_rows": null,
      "height": null,
      "justify_content": null,
      "justify_items": null,
      "left": null,
      "margin": null,
      "max_height": null,
      "max_width": null,
      "min_height": null,
      "min_width": null,
      "object_fit": null,
      "object_position": null,
      "order": null,
      "overflow": null,
      "overflow_x": null,
      "overflow_y": null,
      "padding": null,
      "right": null,
      "top": null,
      "visibility": null,
      "width": null
     }
    },
    "da492e9994be4b2ab4483b78bff99149": {
     "model_module": "@jupyter-widgets/base",
     "model_name": "LayoutModel",
     "state": {
      "_model_module": "@jupyter-widgets/base",
      "_model_module_version": "1.2.0",
      "_model_name": "LayoutModel",
      "_view_count": null,
      "_view_module": "@jupyter-widgets/base",
      "_view_module_version": "1.2.0",
      "_view_name": "LayoutView",
      "align_content": null,
      "align_items": null,
      "align_self": null,
      "border": null,
      "bottom": null,
      "display": null,
      "flex": null,
      "flex_flow": null,
      "grid_area": null,
      "grid_auto_columns": null,
      "grid_auto_flow": null,
      "grid_auto_rows": null,
      "grid_column": null,
      "grid_gap": null,
      "grid_row": null,
      "grid_template_areas": null,
      "grid_template_columns": null,
      "grid_template_rows": null,
      "height": null,
      "justify_content": null,
      "justify_items": null,
      "left": null,
      "margin": null,
      "max_height": null,
      "max_width": null,
      "min_height": null,
      "min_width": null,
      "object_fit": null,
      "object_position": null,
      "order": null,
      "overflow": null,
      "overflow_x": null,
      "overflow_y": null,
      "padding": null,
      "right": null,
      "top": null,
      "visibility": null,
      "width": null
     }
    },
    "dd6957f022834bbf956d8d839d5d591e": {
     "model_module": "@jupyter-widgets/controls",
     "model_name": "DescriptionStyleModel",
     "state": {
      "_model_module": "@jupyter-widgets/controls",
      "_model_module_version": "1.5.0",
      "_model_name": "DescriptionStyleModel",
      "_view_count": null,
      "_view_module": "@jupyter-widgets/base",
      "_view_module_version": "1.2.0",
      "_view_name": "StyleView",
      "description_width": ""
     }
    },
    "e278dc0642874f7ca805dc37adaf7ff7": {
     "model_module": "@jupyter-widgets/controls",
     "model_name": "FloatProgressModel",
     "state": {
      "_dom_classes": [],
      "_model_module": "@jupyter-widgets/controls",
      "_model_module_version": "1.5.0",
      "_model_name": "FloatProgressModel",
      "_view_count": null,
      "_view_module": "@jupyter-widgets/controls",
      "_view_module_version": "1.5.0",
      "_view_name": "ProgressView",
      "bar_style": "success",
      "description": "",
      "description_tooltip": null,
      "layout": "IPY_MODEL_377ca2c438f8462b81cf5cbef909522e",
      "max": 4542,
      "min": 0,
      "orientation": "horizontal",
      "style": "IPY_MODEL_c12fa6fa2a734cbca6d829d3811dfe47",
      "value": 4542
     }
    },
    "e6e5c742c0e04be090b52e8422981d2f": {
     "model_module": "@jupyter-widgets/controls",
     "model_name": "DescriptionStyleModel",
     "state": {
      "_model_module": "@jupyter-widgets/controls",
      "_model_module_version": "1.5.0",
      "_model_name": "DescriptionStyleModel",
      "_view_count": null,
      "_view_module": "@jupyter-widgets/base",
      "_view_module_version": "1.2.0",
      "_view_name": "StyleView",
      "description_width": ""
     }
    },
    "e7e7fc5fe8134b3c85eacf502afeaf30": {
     "model_module": "@jupyter-widgets/base",
     "model_name": "LayoutModel",
     "state": {
      "_model_module": "@jupyter-widgets/base",
      "_model_module_version": "1.2.0",
      "_model_name": "LayoutModel",
      "_view_count": null,
      "_view_module": "@jupyter-widgets/base",
      "_view_module_version": "1.2.0",
      "_view_name": "LayoutView",
      "align_content": null,
      "align_items": null,
      "align_self": null,
      "border": null,
      "bottom": null,
      "display": null,
      "flex": null,
      "flex_flow": null,
      "grid_area": null,
      "grid_auto_columns": null,
      "grid_auto_flow": null,
      "grid_auto_rows": null,
      "grid_column": null,
      "grid_gap": null,
      "grid_row": null,
      "grid_template_areas": null,
      "grid_template_columns": null,
      "grid_template_rows": null,
      "height": null,
      "justify_content": null,
      "justify_items": null,
      "left": null,
      "margin": null,
      "max_height": null,
      "max_width": null,
      "min_height": null,
      "min_width": null,
      "object_fit": null,
      "object_position": null,
      "order": null,
      "overflow": null,
      "overflow_x": null,
      "overflow_y": null,
      "padding": null,
      "right": null,
      "top": null,
      "visibility": null,
      "width": null
     }
    },
    "e81de4c1fdf246debd25b4c8ac2fb9e6": {
     "model_module": "@jupyter-widgets/controls",
     "model_name": "HBoxModel",
     "state": {
      "_dom_classes": [],
      "_model_module": "@jupyter-widgets/controls",
      "_model_module_version": "1.5.0",
      "_model_name": "HBoxModel",
      "_view_count": null,
      "_view_module": "@jupyter-widgets/controls",
      "_view_module_version": "1.5.0",
      "_view_name": "HBoxView",
      "box_style": "",
      "children": [
       "IPY_MODEL_65ca20e1c9994dfa9fcb00ef0e863885",
       "IPY_MODEL_b5da4c0d89ef41cab241967d7a13b0ce"
      ],
      "layout": "IPY_MODEL_f16cc56090e34adabf3e0cf350395d2b"
     }
    },
    "f16cc56090e34adabf3e0cf350395d2b": {
     "model_module": "@jupyter-widgets/base",
     "model_name": "LayoutModel",
     "state": {
      "_model_module": "@jupyter-widgets/base",
      "_model_module_version": "1.2.0",
      "_model_name": "LayoutModel",
      "_view_count": null,
      "_view_module": "@jupyter-widgets/base",
      "_view_module_version": "1.2.0",
      "_view_name": "LayoutView",
      "align_content": null,
      "align_items": null,
      "align_self": null,
      "border": null,
      "bottom": null,
      "display": null,
      "flex": null,
      "flex_flow": null,
      "grid_area": null,
      "grid_auto_columns": null,
      "grid_auto_flow": null,
      "grid_auto_rows": null,
      "grid_column": null,
      "grid_gap": null,
      "grid_row": null,
      "grid_template_areas": null,
      "grid_template_columns": null,
      "grid_template_rows": null,
      "height": null,
      "justify_content": null,
      "justify_items": null,
      "left": null,
      "margin": null,
      "max_height": null,
      "max_width": null,
      "min_height": null,
      "min_width": null,
      "object_fit": null,
      "object_position": null,
      "order": null,
      "overflow": null,
      "overflow_x": null,
      "overflow_y": null,
      "padding": null,
      "right": null,
      "top": null,
      "visibility": null,
      "width": null
     }
    }
   }
  }
 },
 "nbformat": 4,
 "nbformat_minor": 1
}
